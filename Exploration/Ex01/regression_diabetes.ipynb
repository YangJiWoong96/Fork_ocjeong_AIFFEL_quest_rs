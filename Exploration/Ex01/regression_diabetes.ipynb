{
 "cells": [
  {
   "cell_type": "code",
   "execution_count": 51,
   "id": "27d56c21",
   "metadata": {},
   "outputs": [],
   "source": [
    "### 패키지 로딩 Load packages\n",
    "import numpy as np\n",
    "import pandas as pd\n",
    "import matplotlib.pyplot as plt"
   ]
  },
  {
   "cell_type": "markdown",
   "id": "ff2326da",
   "metadata": {},
   "source": [
    "### 데이터 가져오기"
   ]
  },
  {
   "cell_type": "code",
   "execution_count": 33,
   "id": "d6355d76",
   "metadata": {},
   "outputs": [],
   "source": [
    "#당뇨병 데이터 로딩\n",
    "from sklearn.datasets import load_diabetes\n",
    "\n",
    "diabetes = load_diabetes()"
   ]
  },
  {
   "cell_type": "code",
   "execution_count": 34,
   "id": "33fc34ab",
   "metadata": {},
   "outputs": [
    {
     "data": {
      "text/plain": [
       "dict_keys(['data', 'target', 'frame', 'DESCR', 'feature_names', 'data_filename', 'target_filename', 'data_module'])"
      ]
     },
     "execution_count": 34,
     "metadata": {},
     "output_type": "execute_result"
    }
   ],
   "source": [
    "diabetes.keys()"
   ]
  },
  {
   "cell_type": "code",
   "execution_count": 35,
   "id": "bcfe1e6f",
   "metadata": {},
   "outputs": [
    {
     "data": {
      "text/plain": [
       "(442, 10)"
      ]
     },
     "execution_count": 35,
     "metadata": {},
     "output_type": "execute_result"
    }
   ],
   "source": [
    "diabetes['data'].shape"
   ]
  },
  {
   "cell_type": "code",
   "execution_count": 36,
   "id": "fa5cce76",
   "metadata": {
    "scrolled": true
   },
   "outputs": [
    {
     "data": {
      "text/plain": [
       "(442,)"
      ]
     },
     "execution_count": 36,
     "metadata": {},
     "output_type": "execute_result"
    }
   ],
   "source": [
    "diabetes['target'].shape"
   ]
  },
  {
   "cell_type": "code",
   "execution_count": 79,
   "id": "e3a53f4a",
   "metadata": {
    "scrolled": true
   },
   "outputs": [
    {
     "name": "stdout",
     "output_type": "stream",
     "text": [
      "['age', 'sex', 'bmi', 'bp', 's1', 's2', 's3', 's4', 's5', 's6']\n"
     ]
    }
   ],
   "source": [
    "print(diabetes['feature_names'])"
   ]
  },
  {
   "cell_type": "code",
   "execution_count": 82,
   "id": "223713c3",
   "metadata": {},
   "outputs": [
    {
     "name": "stdout",
     "output_type": "stream",
     "text": [
      "((442, 10), dtype('float64'))\n",
      "10\n"
     ]
    }
   ],
   "source": [
    "df_X = diabetes['data']\n",
    "num_features = len(df_X[0])\n",
    "print((df_X.shape,df_X.dtype))\n",
    "print(num_features)"
   ]
  },
  {
   "cell_type": "code",
   "execution_count": 39,
   "id": "bced5021",
   "metadata": {},
   "outputs": [
    {
     "name": "stdout",
     "output_type": "stream",
     "text": [
      "((442,), dtype('float64'))\n"
     ]
    }
   ],
   "source": [
    "df_y = diabetes['target']\n",
    "print((df_y.shape,df_y.dtype))"
   ]
  },
  {
   "cell_type": "code",
   "execution_count": 40,
   "id": "995664f7",
   "metadata": {},
   "outputs": [
    {
     "data": {
      "text/plain": [
       "numpy.ndarray"
      ]
     },
     "execution_count": 40,
     "metadata": {},
     "output_type": "execute_result"
    }
   ],
   "source": [
    "type(df_X)"
   ]
  },
  {
   "cell_type": "code",
   "execution_count": 41,
   "id": "3ade66c5",
   "metadata": {},
   "outputs": [
    {
     "data": {
      "text/plain": [
       "numpy.ndarray"
      ]
     },
     "execution_count": 41,
     "metadata": {},
     "output_type": "execute_result"
    }
   ],
   "source": [
    "type(df_y)"
   ]
  },
  {
   "cell_type": "markdown",
   "id": "abf44977",
   "metadata": {},
   "source": [
    "### 학습/테스트 데이터 분리"
   ]
  },
  {
   "cell_type": "code",
   "execution_count": 42,
   "id": "65c23055",
   "metadata": {},
   "outputs": [
    {
     "name": "stdout",
     "output_type": "stream",
     "text": [
      "(353, 10) (353,)\n",
      "(89, 10) (89,)\n"
     ]
    }
   ],
   "source": [
    "from sklearn.model_selection import train_test_split\n",
    "\n",
    "X_train, X_test, y_train, y_test = train_test_split(df_X, df_y, test_size=0.2, random_state=53)\n",
    "\n",
    "print(X_train.shape, y_train.shape)\n",
    "print(X_test.shape, y_test.shape)"
   ]
  },
  {
   "cell_type": "markdown",
   "id": "9c5a5e69",
   "metadata": {},
   "source": [
    "### 모델 함수"
   ]
  },
  {
   "cell_type": "code",
   "execution_count": 123,
   "id": "1b1bf600",
   "metadata": {},
   "outputs": [],
   "source": [
    "np.random.seed(52)\n",
    "W = np.random.rand(num_features) # W 파라미터 초기값 할당\n",
    "b = np.random.rand()\n",
    "# W = np.zeros(num_features) # W 파라미터 초기값 할당\n",
    "# b = np.zeros(1)"
   ]
  },
  {
   "cell_type": "code",
   "execution_count": 124,
   "id": "d0167621",
   "metadata": {},
   "outputs": [],
   "source": [
    "def model(X, W, b):\n",
    "    predictions = 0\n",
    "    \n",
    "    for i in range(len(W)):\n",
    "        predictions += X[:, i] * W[i]\n",
    "    \n",
    "    predictions += b\n",
    "    \n",
    "    return predictions"
   ]
  },
  {
   "cell_type": "code",
   "execution_count": 125,
   "id": "45686df0",
   "metadata": {},
   "outputs": [
    {
     "data": {
      "text/plain": [
       "(10,)"
      ]
     },
     "execution_count": 125,
     "metadata": {},
     "output_type": "execute_result"
    }
   ],
   "source": [
    "X_train[0,:].shape"
   ]
  },
  {
   "cell_type": "code",
   "execution_count": 126,
   "id": "70723450",
   "metadata": {},
   "outputs": [],
   "source": [
    "# model(X_train[0:,:], W, b)"
   ]
  },
  {
   "cell_type": "markdown",
   "id": "39a9e4de",
   "metadata": {},
   "source": [
    "### 손실함수 MSE"
   ]
  },
  {
   "cell_type": "code",
   "execution_count": 127,
   "id": "b1ab0973",
   "metadata": {},
   "outputs": [],
   "source": [
    "def MSE(a, b):\n",
    "    mse = ((a - b) ** 2).mean()  # 두 값의 차이의 제곱의 평균\n",
    "    \n",
    "    return mse"
   ]
  },
  {
   "cell_type": "code",
   "execution_count": 128,
   "id": "c7dfc801",
   "metadata": {},
   "outputs": [],
   "source": [
    "def loss(X, W, b, y):\n",
    "    predictions = model(X, W, b)\n",
    "    L = MSE(predictions, y)\n",
    "    \n",
    "    return L"
   ]
  },
  {
   "cell_type": "markdown",
   "id": "56a2e252",
   "metadata": {},
   "source": [
    "### 경사하강법 gradient 함수"
   ]
  },
  {
   "cell_type": "code",
   "execution_count": 129,
   "id": "f2f50831",
   "metadata": {},
   "outputs": [],
   "source": [
    "def gradient(X, W, b, y):\n",
    "    # N은 데이터 포인트의 개수\n",
    "    N = len(y)\n",
    "    \n",
    "    # y_pred 준비\n",
    "    y_pred = model(X, W, b)\n",
    "    \n",
    "    # gradient 계산; Transpose!!!\n",
    "    dW = 1/N * 2 * X.T.dot(y_pred - y)\n",
    "        \n",
    "    # b의 gradient 계산\n",
    "    db = 2 * (y_pred - y).mean()\n",
    "    \n",
    "    return dW, db"
   ]
  },
  {
   "cell_type": "markdown",
   "id": "c4ccf876",
   "metadata": {},
   "source": [
    "### 학습률 설정, 모델 학습"
   ]
  },
  {
   "cell_type": "code",
   "execution_count": 130,
   "id": "42ee6254",
   "metadata": {},
   "outputs": [
    {
     "name": "stdout",
     "output_type": "stream",
     "text": [
      "Iteration 500 : Loss 5595.6023\n",
      "Iteration 1000 : Loss 5279.9979\n",
      "Iteration 1500 : Loss 5010.2113\n",
      "Iteration 2000 : Loss 4779.0292\n",
      "Iteration 2500 : Loss 4580.4034\n",
      "Iteration 3000 : Loss 4409.2609\n",
      "Iteration 3500 : Loss 4261.3457\n",
      "Iteration 4000 : Loss 4133.0853\n",
      "Iteration 4500 : Loss 4021.4801\n",
      "Iteration 5000 : Loss 3924.0103\n",
      "Iteration 5500 : Loss 3838.5578\n",
      "Iteration 6000 : Loss 3763.3413\n",
      "Iteration 6500 : Loss 3696.8617\n",
      "Iteration 7000 : Loss 3637.8565\n",
      "Iteration 7500 : Loss 3585.2614\n",
      "Iteration 8000 : Loss 3538.1783\n",
      "Iteration 8500 : Loss 3495.8489\n",
      "Iteration 9000 : Loss 3457.6318\n",
      "Iteration 9500 : Loss 3422.9840\n",
      "Iteration 10000 : Loss 3391.4449\n",
      "Iteration 10500 : Loss 3362.6234\n",
      "Iteration 11000 : Loss 3336.1867\n",
      "Iteration 11500 : Loss 3311.8512\n",
      "Iteration 12000 : Loss 3289.3745\n",
      "Iteration 12500 : Loss 3268.5490\n",
      "Iteration 13000 : Loss 3249.1965\n",
      "Iteration 13500 : Loss 3231.1637\n",
      "Iteration 14000 : Loss 3214.3180\n",
      "Iteration 14500 : Loss 3198.5449\n",
      "Iteration 15000 : Loss 3183.7445\n",
      "Iteration 15500 : Loss 3169.8300\n",
      "Iteration 16000 : Loss 3156.7252\n",
      "Iteration 16500 : Loss 3144.3634\n",
      "Iteration 17000 : Loss 3132.6854\n",
      "Iteration 17500 : Loss 3121.6392\n",
      "Iteration 18000 : Loss 3111.1781\n",
      "Iteration 18500 : Loss 3101.2607\n",
      "Iteration 19000 : Loss 3091.8498\n",
      "Iteration 19500 : Loss 3082.9118\n",
      "Iteration 20000 : Loss 3074.4164\n",
      "Iteration 20500 : Loss 3066.3362\n",
      "Iteration 21000 : Loss 3058.6460\n",
      "Iteration 21500 : Loss 3051.3229\n",
      "Iteration 22000 : Loss 3044.3459\n",
      "Iteration 22500 : Loss 3037.6955\n",
      "Iteration 23000 : Loss 3031.3539\n",
      "Iteration 23500 : Loss 3025.3044\n",
      "Iteration 24000 : Loss 3019.5316\n",
      "Iteration 24500 : Loss 3014.0212\n",
      "Iteration 25000 : Loss 3008.7596\n",
      "Iteration 25500 : Loss 3003.7345\n",
      "Iteration 26000 : Loss 2998.9340\n",
      "Iteration 26500 : Loss 2994.3470\n",
      "Iteration 27000 : Loss 2989.9632\n",
      "Iteration 27500 : Loss 2985.7727\n",
      "Iteration 28000 : Loss 2981.7663\n",
      "Iteration 28500 : Loss 2977.9352\n",
      "Iteration 29000 : Loss 2974.2713\n",
      "Iteration 29500 : Loss 2970.7666\n",
      "Iteration 30000 : Loss 2967.4138\n",
      "Iteration 30500 : Loss 2964.2059\n",
      "Iteration 31000 : Loss 2961.1361\n",
      "Iteration 31500 : Loss 2958.1982\n",
      "Iteration 32000 : Loss 2955.3861\n",
      "Iteration 32500 : Loss 2952.6942\n",
      "Iteration 33000 : Loss 2950.1169\n",
      "Iteration 33500 : Loss 2947.6492\n",
      "Iteration 34000 : Loss 2945.2860\n",
      "Iteration 34500 : Loss 2943.0227\n",
      "Iteration 35000 : Loss 2940.8549\n",
      "Iteration 35500 : Loss 2938.7782\n",
      "Iteration 36000 : Loss 2936.7887\n",
      "Iteration 36500 : Loss 2934.8825\n",
      "Iteration 37000 : Loss 2933.0558\n",
      "Iteration 37500 : Loss 2931.3053\n",
      "Iteration 38000 : Loss 2929.6274\n",
      "Iteration 38500 : Loss 2928.0191\n",
      "Iteration 39000 : Loss 2926.4773\n",
      "Iteration 39500 : Loss 2924.9990\n",
      "Iteration 40000 : Loss 2923.5815\n",
      "Iteration 40500 : Loss 2922.2222\n",
      "Iteration 41000 : Loss 2920.9186\n",
      "Iteration 41500 : Loss 2919.6681\n",
      "Iteration 42000 : Loss 2918.4685\n",
      "Iteration 42500 : Loss 2917.3176\n",
      "Iteration 43000 : Loss 2916.2134\n",
      "Iteration 43500 : Loss 2915.1537\n",
      "Iteration 44000 : Loss 2914.1367\n",
      "Iteration 44500 : Loss 2913.1605\n",
      "Iteration 45000 : Loss 2912.2234\n",
      "Iteration 45500 : Loss 2911.3238\n",
      "Iteration 46000 : Loss 2910.4599\n",
      "Iteration 46500 : Loss 2909.6304\n",
      "Iteration 47000 : Loss 2908.8336\n",
      "Iteration 47500 : Loss 2908.0684\n",
      "Iteration 48000 : Loss 2907.3332\n",
      "Iteration 48500 : Loss 2906.6268\n",
      "Iteration 49000 : Loss 2905.9481\n",
      "Iteration 49500 : Loss 2905.2958\n",
      "Iteration 50000 : Loss 2904.6689\n"
     ]
    },
    {
     "data": {
      "image/png": "[encoded data removed]",
      "text/plain": [
       "<Figure size 432x288 with 1 Axes>"
      ]
     },
     "metadata": {
      "needs_background": "light"
     },
     "output_type": "display_data"
    }
   ],
   "source": [
    "LEARNING_RATE = .01\n",
    "steps = 50001 # 경사하강 반복횟수\n",
    "losses = []\n",
    "\n",
    "for i in range(1, steps):\n",
    "    dW, db = gradient(X_train, W, b, y_train)\n",
    "    W -= LEARNING_RATE * dW\n",
    "    b -= LEARNING_RATE * db\n",
    "    L = loss(X_train, W, b, y_train)\n",
    "    losses.append(L)\n",
    "    if i % 500 == 0:\n",
    "        print('Iteration %d : Loss %0.4f' % (i, L))\n",
    "\n",
    "plt.plot(losses, c='r')\n",
    "plt.show()"
   ]
  },
  {
   "cell_type": "markdown",
   "id": "bc91c8cc",
   "metadata": {},
   "source": [
    "### Test 데이터로 성능 평가"
   ]
  },
  {
   "cell_type": "code",
   "execution_count": 131,
   "id": "af554383",
   "metadata": {},
   "outputs": [
    {
     "name": "stdout",
     "output_type": "stream",
     "text": [
      "2925.617010602992\n",
      "[ 3.77084898e-01 -2.05114568e+02  4.74864962e+02  3.41848187e+02\n",
      " -4.35288520e+01 -8.73011613e+01 -1.98170044e+02  1.61714745e+02\n",
      "  3.74829012e+02  1.05892076e+02]\n"
     ]
    }
   ],
   "source": [
    "prediction = model(X_test, W, b)\n",
    "mse = loss(X_test, W, b, y_test)\n",
    "print(mse)\n",
    "print(W)"
   ]
  },
  {
   "cell_type": "markdown",
   "id": "a41ac92f",
   "metadata": {},
   "source": [
    "### 예측 데이터 시각화"
   ]
  },
  {
   "cell_type": "code",
   "execution_count": 132,
   "id": "cf0777ad",
   "metadata": {},
   "outputs": [
    {
     "data": {
      "image/png": "[encoded data removed]",
      "text/plain": [
       "<Figure size 432x288 with 1 Axes>"
      ]
     },
     "metadata": {
      "needs_background": "light"
     },
     "output_type": "display_data"
    }
   ],
   "source": [
    "plt.scatter(X_test[:, 0], y_test)\n",
    "plt.scatter(X_test[:, 0], prediction)\n",
    "plt.show()"
   ]
  }
 ],
 "metadata": {
  "kernelspec": {
   "display_name": "Python 3 (ipykernel)",
   "language": "python",
   "name": "python3"
  },
  "language_info": {
   "codemirror_mode": {
    "name": "ipython",
    "version": 3
   },
   "file_extension": ".py",
   "mimetype": "text/x-python",
   "name": "python",
   "nbconvert_exporter": "python",
   "pygments_lexer": "ipython3",
   "version": "3.9.7"
  }
 },
 "nbformat": 4,
 "nbformat_minor": 5
}
