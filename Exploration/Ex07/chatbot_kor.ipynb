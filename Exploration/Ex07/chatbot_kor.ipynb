{
 "cells": [
  {
   "cell_type": "markdown",
   "id": "9a2b6da6",
   "metadata": {},
   "source": [
    "# 한국어 챗봇 프로젝트\n",
    "\n",
    "  - 공백, 특수문자 전처리\n",
    "  - 토크나이징, 병렬데이터 구축\n",
    "  - 안정적인 학습 수렴\n",
    "  - 맥락에 맞는 한국어 문장 반환"
   ]
  },
  {
   "cell_type": "markdown",
   "id": "0c0e28df",
   "metadata": {},
   "source": [
    " ### 적용해볼 만한 것들\n",
    " \n",
    " - 학습 에포크 조정하기\n",
    " - 러닝커브 조정하기\n",
    " - 토크나이저, 임베딩 튜닝\n",
    " - 샘플링 온도"
   ]
  },
  {
   "cell_type": "code",
   "execution_count": 1,
   "id": "16e7f676",
   "metadata": {},
   "outputs": [
    {
     "name": "stdout",
     "output_type": "stream",
     "text": [
      "2.6.0\n"
     ]
    }
   ],
   "source": [
    "import tensorflow as tf\n",
    "print(tf.__version__)\n",
    "import tensorflow_datasets as tfds\n",
    "import os\n",
    "import re\n",
    "import numpy as np\n",
    "import matplotlib.pyplot as plt\n"
   ]
  },
  {
   "cell_type": "code",
   "execution_count": 2,
   "id": "6c125c2c",
   "metadata": {},
   "outputs": [
    {
     "data": {
      "text/plain": [
       "0"
      ]
     },
     "execution_count": 2,
     "metadata": {},
     "output_type": "execute_result"
    }
   ],
   "source": [
    "os.system(\"mkdir -p ~/aiffel/transformer_chatbot/data/\")\n",
    "os.system(\"ln -s ~/data/* ~/aiffel/transformer_chatbot/data/\")"
   ]
  },
  {
   "cell_type": "code",
   "execution_count": 5,
   "id": "160e9c11",
   "metadata": {},
   "outputs": [
    {
     "data": {
      "text/html": [
       "<div>\n",
       "<style scoped>\n",
       "    .dataframe tbody tr th:only-of-type {\n",
       "        vertical-align: middle;\n",
       "    }\n",
       "\n",
       "    .dataframe tbody tr th {\n",
       "        vertical-align: top;\n",
       "    }\n",
       "\n",
       "    .dataframe thead th {\n",
       "        text-align: right;\n",
       "    }\n",
       "</style>\n",
       "<table border=\"1\" class=\"dataframe\">\n",
       "  <thead>\n",
       "    <tr style=\"text-align: right;\">\n",
       "      <th></th>\n",
       "      <th>Q</th>\n",
       "      <th>A</th>\n",
       "      <th>label</th>\n",
       "    </tr>\n",
       "  </thead>\n",
       "  <tbody>\n",
       "    <tr>\n",
       "      <th>0</th>\n",
       "      <td>12시 땡!</td>\n",
       "      <td>하루가 또 가네요.</td>\n",
       "      <td>0</td>\n",
       "    </tr>\n",
       "    <tr>\n",
       "      <th>1</th>\n",
       "      <td>1지망 학교 떨어졌어</td>\n",
       "      <td>위로해 드립니다.</td>\n",
       "      <td>0</td>\n",
       "    </tr>\n",
       "    <tr>\n",
       "      <th>2</th>\n",
       "      <td>3박4일 놀러가고 싶다</td>\n",
       "      <td>여행은 언제나 좋죠.</td>\n",
       "      <td>0</td>\n",
       "    </tr>\n",
       "    <tr>\n",
       "      <th>3</th>\n",
       "      <td>3박4일 정도 놀러가고 싶다</td>\n",
       "      <td>여행은 언제나 좋죠.</td>\n",
       "      <td>0</td>\n",
       "    </tr>\n",
       "    <tr>\n",
       "      <th>4</th>\n",
       "      <td>PPL 심하네</td>\n",
       "      <td>눈살이 찌푸려지죠.</td>\n",
       "      <td>0</td>\n",
       "    </tr>\n",
       "  </tbody>\n",
       "</table>\n",
       "</div>"
      ],
      "text/plain": [
       "                 Q            A  label\n",
       "0           12시 땡!   하루가 또 가네요.      0\n",
       "1      1지망 학교 떨어졌어    위로해 드립니다.      0\n",
       "2     3박4일 놀러가고 싶다  여행은 언제나 좋죠.      0\n",
       "3  3박4일 정도 놀러가고 싶다  여행은 언제나 좋죠.      0\n",
       "4          PPL 심하네   눈살이 찌푸려지죠.      0"
      ]
     },
     "execution_count": 5,
     "metadata": {},
     "output_type": "execute_result"
    }
   ],
   "source": [
    "import pandas as pd\n",
    "d_path = \"/aiffel/aiffel/transformer_chatbot/data/\"\n",
    "raw_data = pd.read_csv(d_path+\"ChatbotData .csv\")\n",
    "raw_data.head()"
   ]
  },
  {
   "cell_type": "code",
   "execution_count": 118,
   "id": "80840ec9",
   "metadata": {},
   "outputs": [
    {
     "name": "stdout",
     "output_type": "stream",
     "text": [
      "50000\n"
     ]
    }
   ],
   "source": [
    "# 사용할 샘플의 최대 개수; 한국어 데이터의 규모가 작으므로 전체 사용\n",
    "MAX_SAMPLES = 50000\n",
    "print(MAX_SAMPLES)"
   ]
  },
  {
   "cell_type": "code",
   "execution_count": 102,
   "id": "1f287cf3",
   "metadata": {},
   "outputs": [],
   "source": [
    "# 전처리 함수\n",
    "def preprocess_sentence(sentence):\n",
    "  # 입력받은 sentence를 소문자로 변경하고 양쪽 공백을 제거; 한국어 불필요\n",
    "  # sentence = sentence.lower()\n",
    "  # sentence = sentence.strip()\n",
    "\n",
    "  # (유니코드 문자열 \".\", \"?\", \"!\", \",\")를 제외한 모든 문자를 공백으로 대체\n",
    "  # 한글은 유니코드에 포함되어 있고 낱소리만 쓰인 문자열도 포함됨\n",
    "  sentence = re.sub(r'([^\\w?!,])', \" \", sentence)\n",
    "  sentence = sentence.strip()\n",
    "  \n",
    "  # 구두점(punctuation)을 토큰으로 인식하도록 단어와의 사이에 공백\n",
    "  sentence = re.sub(r\"([?.!,])\", r\" \\1 \", sentence)\n",
    "  sentence = sentence.strip()\n",
    "  sentence = re.sub(r'[\" \"]+', \" \", sentence)\n",
    "\n",
    "  return sentence"
   ]
  },
  {
   "cell_type": "code",
   "execution_count": 130,
   "id": "2e696c3d",
   "metadata": {},
   "outputs": [
    {
     "name": "stdout",
     "output_type": "stream",
     "text": [
      "전체 샘플 수 : 11823\n",
      "전체 샘플 수 : 11823\n"
     ]
    }
   ],
   "source": [
    "# 데이터를 로드하고 전처리하여 질문을 questions, 답변을 answers에 저장\n",
    "questions = [preprocess_sentence(s) for s in  raw_data[\"Q\"]]\n",
    "answers = [preprocess_sentence(s) for s in  raw_data[\"A\"]]\n",
    "print('전체 샘플 수 :', len(questions))\n",
    "print('전체 샘플 수 :', len(answers))"
   ]
  },
  {
   "cell_type": "code",
   "execution_count": 113,
   "id": "3acec520",
   "metadata": {
    "scrolled": true
   },
   "outputs": [
    {
     "name": "stdout",
     "output_type": "stream",
     "text": [
      "전처리 후의 1154번째 질문 샘플: 단둘이는 처음 만나는 날ㅋㅋ\n",
      "전처리 후의 1155번째 답변 샘플: 서로를 아는 좋은 기회가 되겠네요\n",
      "전처리 후의 2105번째 질문 샘플: 보일러 틀고 나갔어ㅠㅠ\n",
      "전처리 후의 2106번째 답변 샘플: 이번달 난방비가 많이 나오겠네요\n"
     ]
    }
   ],
   "source": [
    "# 닿소리이나 홀소리가 따로 쓰인 것도 무사히 포함된 것을 확인\n",
    "print('전처리 후의 {}번째 질문 샘플: {}'.format((i:=1153)+1,questions[i]))\n",
    "print('전처리 후의 {}번째 답변 샘플: {}'.format(i+2, answers[i]))\n",
    "\n",
    "print('전처리 후의 {}번째 질문 샘플: {}'.format((i:=2104)+1,questions[i]))\n",
    "print('전처리 후의 {}번째 답변 샘플: {}'.format(i+2, answers[i]))"
   ]
  },
  {
   "cell_type": "code",
   "execution_count": 114,
   "id": "6b5583c6",
   "metadata": {},
   "outputs": [
    {
     "name": "stdout",
     "output_type": "stream",
     "text": [
      "전처리 후의 6516번째 질문 샘플: 부르고 , 찾고 , 기도해봐도 결국은 이미 끝난 사이다\n",
      "전처리 후의 6516번째 답변 샘플: 언젠간 올 이별이었을까요\n"
     ]
    }
   ],
   "source": [
    "# 따옴표 같은 기타 문장부호 탈락\n",
    "print('전처리 후의 {}번째 질문 샘플: {}'.format((i:=6515)+1,questions[i]))\n",
    "print('전처리 후의 {}번째 답변 샘플: {}'.format(i+1, answers[i]))"
   ]
  },
  {
   "cell_type": "code",
   "execution_count": 115,
   "id": "3e9067dc",
   "metadata": {
    "collapsed": true
   },
   "outputs": [
    {
     "name": "stdout",
     "output_type": "stream",
     "text": [
      "{'턴', '썩', '뿅', '찌', '듯', '육', '펼', '샜', '학', '뛰', '왓', '톤', '캄', '볼', '곤', '승', '침', '껄', '져', '6', '혐', '퓨', '표', '피', '텁', '뱄', '걸', '트', '골', '와', '누', '축', '봅', '쿨', '험', '깝', '런', 'N', '찢', '딪', '함', '펨', '귈', '낀', '상', '랖', '록', '핑', '광', '거', '합', '나', '롯', '난', '풋', '널', '얇', '진', '위', '버', '촉', '싱', '퉜', '찼', '밌', '묘', '러', '닮', '타', '큰', '찔', '확', '챘', '텀', '옷', '실', '심', '부', '미', '종', '몸', '켓', '홧', '잊', '묵', '질', '님', '짓', '늦', '콧', '괜', '칫', '겟', '능', '죠', '폼', '땜', '령', '냈', '렛', '릅', '뜰', '엠', '맡', '딸', '뒤', '락', '후', '룸', '념', '쿼', 'ㅋ', '멘', '존', '딛', '씁', '쏟', '완', '즘', '딜', '됩', '펭', '갠', '렁', '뀔', '웁', '엇', '써', '롤', '놈', '봐', '양', '복', '녁', '컴', '윗', '컨', 'S', '쩔', '렵', '새', '쉬', '쪘', '댜', '춰', '닝', '짠', '짚', '루', '봤', '중', '톱', ' ', '식', 'ㅜ', '깊', '찝', '헷', '쎌', '차', '독', '여', '쭈', '크', '들', '르', '앗', '께', '옛', '눈', '핏', '소', '남', '박', '꺽', '힙', '급', '꿀', '년', '힌', '눌', '끊', '땠', '구', '흰', '뭘', '노', '된', '렸', '엊', '찹', '매', '빠', '느', '왕', '곱', '덮', '뜩', '룰', '흑', '겼', '프', '껴', '키', '쩡', '닐', '욱', '얽', '혈', '붙', '짼', '극', '서', '쉴', 'ㅎ', '데', '형', '춘', '멀', '호', '햇', '뒀', '면', '닿', '견', '앨', '됨', '휘', '떴', '맙', '낌', '팔', '머', '값', '궁', '씽', '떡', '킁', '빈', '혔', '팅', '췄', '역', '쁨', '윤', '녀', '늘', '눴', '죽', '깰', '팩', '단', '개', '섣', '엉', '줬', '되', '맥', '홀', '먹', '짝', '쪼', '젊', '엔', '시', '꺼', '쿠', '졸', '잦', '드', '랍', '사', '툰', '녕', '붕', '헬', '칠', '망', '흥', '테', '재', '씰', '괘', '땐', '컹', '체', '벋', '층', '낸', '측', '생', '내', '맘', '넓', '납', '안', '랐', '얼', '초', '활', '꾼', '맹', '픈', '받', '콜', '둑', '왼', '놀', '탓', '립', '추', '딱', '섬', '에', '쁠', '짬', '쿵', '돕', '솜', '알', '밀', '줍', '깜', '늪', '닙', '훨', '꿔', '페', '랜', '더', '저', '있', '핸', 'L', '튜', '렴', '뭔', '퇴', '든', '쥐', '디', '넛', '닷', '적', '탱', '빨', '쐬', '륵', '과', '때', '금', 'O', '찜', '뀌', '뻥', '꼼', '플', '틈', '깠', '훌', '회', '귤', '신', '잃', '뽑', '슬', '1', '쾌', '쨌', '엣', '천', '쩍', '얘', '텅', '류', '될', '묻', '벨', '꼰', '짐', '긴', '휴', '온', '쳤', '툴', '말', '탁', '뻑', '귀', '램', '터', '떄', '왤', '음', '습', '없', '9', 'B', '작', '템', '꼴', '2', '뭉', '딩', '비', '보', '밖', '워', '썰', '빡', '맞', '룽', '벅', '름', '졋', '씀', '씩', '봉', '멈', '목', '착', '응', '많', '꿈', '뻤', '탄', '뜨', '올', '링', '훈', '억', '냐', '앙', 'a', '변', '배', '짤', '스', '산', '볍', '쥬', '린', '롱', '삔', '헹', '폭', '럽', '려', '겜', '뢰', '전', '첫', '젔', '민', '반', '옇', '뿍', 'P', '팠', '캬', '웹', '뿐', '숨', 's', '걔', '뒷', '얄', '깅', '잔', '뉴', '간', '의', '팁', '또', '성', '붓', '쳐', '늠', '폐', '펴', '춤', '며', '눅', '퍼', '례', '향', '넷', '귐', '량', '쌓', '땀', '꾹', '꿨', '퐈', '번', '았', '덜', '샌', '주', '끄', '겐', '콕', '맷', '켠', '열', '턱', '냉', '씸', '엽', '젝', '썹', '럿', '냄', '벌', '앉', '맨', 'j', '푹', '래', '됐', '쉽', '밑', '츠', '잼', '규', '픕', '랄', '탐', '글', '득', '투', '겁', '헥', '북', 'ㅊ', '덥', '즙', '넥', '압', '균', '달', '격', '대', '답', '뤄', '늙', '딴', '접', '닳', '캔', '짜', '군', '케', '뽀', '째', '팸', '둠', '놓', '애', '은', '뜻', '줄', '씻', '왠', '섞', '켰', '찮', '떻', '뭐', '맴', '쩝', '랠', '옴', '어', '긋', '덕', '곁', '찍', '불', '촌', '빔', '낙', '정', '판', '콘', '뭣', '5', '씬', '경', '백', '싼', '쫌', '썼', '쑤', '쯤', '였', '밸', '먼', '긍', '조', '갯', '뀐', '슷', '팍', '줘', '뻐', '울', '릇', '본', '너', '낄', '관', '굶', '니', '흠', '맺', '따', '칩', '놨', '겠', '넘', '날', '옵', '갖', '셀', '힘', '협', '챙', '뇌', '길', '찬', '났', '결', '겹', '당', '쏘', '갚', '딘', '움', '참', '꽃', '덩', '벗', '뺏', '잌', '끈', '힐', '촬', '쇠', '릭', '텄', '환', '찐', '킥', '자', '꽂', '권', '춥', '등', '좋', '짧', 'A', '증', '욜', '속', '외', '채', '콤', '탑', '펜', '깍', '뿌', '쩌', '일', '굽', '영', '꽝', '렀', '론', '꼭', '츤', '듦', '낼', '즈', '팀', '희', '킨', '렉', '고', '월', '넣', '네', 'k', '밝', '못', '랭', '쌩', '꿎', '설', '뻘', '닥', '곰', '혹', '렌', '땅', '끼', '꽉', '율', '궜', '뱃', '감', '둔', '뮤', '물', '녔', '랙', '커', '윙', '탕', '꽈', '최', '세', '꾸', '무', '릴', '귄', '수', '막', '떤', '굴', '태', '지', '몽', '도', '통', '밥', '릎', '우', '림', '텔', '검', '준', '킴', '했', '을', '꿧', '츄', '맛', '이', '싸', '찡', '족', '할', '0', '솔', '갑', '잿', '듭', '뽕', '현', '컸', '두', '직', '걱', '닦', '를', '렬', '덧', '픽', '렇', '륜', '각', '딧', '팬', '끗', '른', '흐', '멍', '한', '젖', '쪽', '풀', '닫', '닭', '웽', '쁘', '픔', '익', '껏', '쏠', '품', '만', '법', '헛', '철', '곗', '샐', '옮', '선', '밤', '잇', '었', '듣', '쌈', '낳', '룩', '엘', '취', '총', '동', '약', '믿', '빗', '탈', '헌', '깼', '궈', '그', '웠', '업', '뜁', '겉', '넌', '슴', '둬', '굳', '틱', '얻', '푼', '폰', '렷', '벚', '켜', '씹', '햐', '벴', '액', '효', '토', '마', '옥', '섰', '레', '깃', '평', '깐', '썸', '쓰', '뛴', '빚', '삶', '쌍', '분', '떼', '삿', '튀', '젠', '웬', '쁜', '슨', '흡', '밍', '화', '운', '척', '범', '싹', '쎈', '갇', '바', '챔', '렐', '댈', '쏜', '흘', '몫', '람', '갱', '곳', '블', '티', '뚫', '쭤', '뇨', '건', '쓸', '몬', '별', '션', '유', '컷', '렘', '첩', 'g', '핫', '헤', '싫', '꼈', '8', '댄', '졌', '깬', '쉼', '악', '해', '컥', '뇽', '던', '하', '혀', '똑', '브', '탔', '큼', '옳', 'X', '문', '쌤', '필', '항', '즐', '긁', '원', '잠', '센', '술', '친', '벼', '쭉', '뵈', '욕', '헐', '청', '인', '왔', '낭', '잤', '발', '논', '냅', '밭', '놉', '슈', '뻣', '텨', '빴', '칙', '깔', '랬', '퀴', '텻', '싶', '처', '오', '낚', '꽤', '띵', '병', '섹', '훅', '3', '송', '뚝', '쩐', '않', '낫', '덤', '넹', '으', '뺴', '눠', '씨', '치', '담', '뜸', '뻔', '는', '돌', '갔', '석', '엄', 'n', '씌', '웃', '젤', '녹', '방', '쇼', '쫙', '률', '료', '멤', '포', '점', '꽁', 'o', '밉', '냥', '봇', '삭', '첨', '겨', '큐', '겪', '뭇', '십', '끝', '계', '앱', '다', '입', '텼', '패', '꿩', '임', '연', '혼', '빵', '즉', '흔', '특', '돋', '같', '출', '야', '숭', '킹', '읽', '빌', '핍', '코', '틋', '땡', '굿', '멋', '텍', '죄', '갈', '가', '숍', '벤', '삐', '꿰', '공', '용', '까', '숙', '순', '객', '몰', '력', '기', '쫄', '걷', '랫', '_', '캐', '황', '충', '욌', '높', '밟', '띠', '꼿', '!', '살', '털', '김', '깡', '럴', '곡', '염', 'C', '집', '렜', '옆', '허', '댔', '돈', '벽', '딨', '뎌', '손', '끔', '숏', '란', '색', '헉', '샤', '낮', '숫', '돼', '파', '넋', '놔', '듀', '뺄', '됬', '띄', '섭', '홈', '좀', '게', '뱉', '빙', '혜', '요', '샀', '톡', '로', '명', '베', '띰', '클', '예', '둘', '젯', '랩', '셔', '짰', '카', '잖', '잡', '킬', '푸', '왜', '7', '휨', '택', '떠', '줌', '징', '짱', '덴', '섯', '칼', '뚱', '쳇', '뗄', '삽', '롭', '책', '떨', '쪄', '틀', '빛', '농', '볕', '뷔', '편', '곧', 'c', '걍', 'ㅠ', '릿', '몇', '뒹', '리', '텐', '챗', '삼', '럼', '언', '아', '제', '휙', ',', '봄', '닌', '?', '교', '강', '모', '볶', '엮', '셨', 'D', '툼', '샘', '련', '툭', '근', '칭', '찰', '좁', '메', '엿', '장', '좌', '셥', '괴', '핀', '쓴', '눕', '창', '라', '쌀', '잘', '껀', '획', '뜬', '깨', '콩', '델', '행', '4', '젹', '똥', '듬', '끌', '랑', '절', '앞', '쑥', '웨', '닉', '쟁', '히', '꼬', '댓', '것', '깎', '훔', '쎄', '둥', '퉁', '빼', '몹', '빽', '풍', '끓', '찾', '국', '펑', '뎠'}\n"
     ]
    }
   ],
   "source": [
    "characters = set(c for s in questions + answers for c in s)\n",
    "# print(len(characters))\n",
    "print(characters)"
   ]
  },
  {
   "cell_type": "code",
   "execution_count": 15,
   "id": "dfe37124",
   "metadata": {},
   "outputs": [
    {
     "name": "stdout",
     "output_type": "stream",
     "text": [
      "20684\n"
     ]
    }
   ],
   "source": [
    "tokens = set(w for s in questions + answers for w in s.split())\n",
    "print(len(tokens))"
   ]
  },
  {
   "cell_type": "code",
   "execution_count": 18,
   "id": "98dab664",
   "metadata": {},
   "outputs": [
    {
     "name": "stdout",
     "output_type": "stream",
     "text": [
      "22\n"
     ]
    }
   ],
   "source": [
    "max_len = max(len(s.split()) for s in questions + answers)\n",
    "print(max_len)"
   ]
  },
  {
   "cell_type": "markdown",
   "id": "ed8cf58d",
   "metadata": {},
   "source": [
    "### 데이터 전처리"
   ]
  },
  {
   "cell_type": "code",
   "execution_count": null,
   "id": "5c05b0b2",
   "metadata": {},
   "outputs": [],
   "source": [
    "import tensorflow_datasets as tfds"
   ]
  },
  {
   "cell_type": "code",
   "execution_count": 131,
   "id": "b13fd2b5",
   "metadata": {},
   "outputs": [],
   "source": [
    "# 질문과 답변 데이터셋에 대해서 Vocabulary 생성\n",
    "# target_vocab_size는 위의 토큰 수와 대략적으로 비슷한 20000개로 설정 \n",
    "tokenizer = tfds.deprecated.text.SubwordTextEncoder.build_from_corpus(\n",
    "                                questions + answers, target_vocab_size=20000)"
   ]
  },
  {
   "cell_type": "code",
   "execution_count": 132,
   "id": "2d5d3532",
   "metadata": {},
   "outputs": [
    {
     "name": "stdout",
     "output_type": "stream",
     "text": [
      "START_TOKEN의 번호 : [21935]\n",
      "END_TOKEN의 번호 : [21936]\n"
     ]
    }
   ],
   "source": [
    "START_TOKEN, END_TOKEN = [tokenizer.vocab_size], [tokenizer.vocab_size + 1]\n",
    "\n",
    "print('START_TOKEN의 번호 :' ,[tokenizer.vocab_size])\n",
    "print('END_TOKEN의 번호 :' ,[tokenizer.vocab_size + 1])"
   ]
  },
  {
   "cell_type": "code",
   "execution_count": 133,
   "id": "f90642f0",
   "metadata": {},
   "outputs": [
    {
     "name": "stdout",
     "output_type": "stream",
     "text": [
      "21937\n"
     ]
    }
   ],
   "source": [
    "VOCAB_SIZE = tokenizer.vocab_size + 2\n",
    "print(VOCAB_SIZE)"
   ]
  },
  {
   "cell_type": "code",
   "execution_count": 141,
   "id": "30f2c096",
   "metadata": {},
   "outputs": [
    {
     "data": {
      "text/plain": [
       "''"
      ]
     },
     "execution_count": 141,
     "metadata": {},
     "output_type": "execute_result"
    }
   ],
   "source": [
    "tokenizer.decode([0])"
   ]
  },
  {
   "cell_type": "code",
   "execution_count": 142,
   "id": "8d52451b",
   "metadata": {
    "scrolled": true
   },
   "outputs": [
    {
     "data": {
      "text/plain": [
       "' ?'"
      ]
     },
     "execution_count": 142,
     "metadata": {},
     "output_type": "execute_result"
    }
   ],
   "source": [
    "tokenizer.decode([1])"
   ]
  },
  {
   "cell_type": "code",
   "execution_count": 143,
   "id": "0dd7c09c",
   "metadata": {
    "scrolled": false
   },
   "outputs": [
    {
     "data": {
      "text/plain": [
       "'거예요'"
      ]
     },
     "execution_count": 143,
     "metadata": {},
     "output_type": "execute_result"
    }
   ],
   "source": [
    "tokenizer.decode([2])"
   ]
  },
  {
   "cell_type": "code",
   "execution_count": 144,
   "id": "ddc99d47",
   "metadata": {
    "scrolled": false
   },
   "outputs": [
    {
     "data": {
      "text/plain": [
       "'수 '"
      ]
     },
     "execution_count": 144,
     "metadata": {},
     "output_type": "execute_result"
    }
   ],
   "source": [
    "tokenizer.decode([3])"
   ]
  },
  {
   "cell_type": "code",
   "execution_count": 134,
   "id": "e036c77a",
   "metadata": {},
   "outputs": [
    {
     "name": "stdout",
     "output_type": "stream",
     "text": [
      "정수 인코딩 후의 21번째 질문 샘플: [5206, 1368, 2623]\n",
      "정수 인코딩 후의 21번째 답변 샘플: [1303, 8721, 5, 6212]\n"
     ]
    }
   ],
   "source": [
    "# 임의의 22번째 샘플에 대해서 정수 인코딩 작업을 수행.\n",
    "# 각 토큰을 고유한 정수로 변환\n",
    "print('정수 인코딩 후의 21번째 질문 샘플: {}'.format(tokenizer.encode(questions[21])))\n",
    "print('정수 인코딩 후의 21번째 답변 샘플: {}'.format(tokenizer.encode(answers[21])))"
   ]
  },
  {
   "cell_type": "code",
   "execution_count": 135,
   "id": "55b12866",
   "metadata": {},
   "outputs": [
    {
     "name": "stdout",
     "output_type": "stream",
     "text": [
      "22\n"
     ]
    }
   ],
   "source": [
    "# 샘플의 최대 허용 길이 또는 패딩 후의 최종 길이\n",
    "# 입력 데이타 중 가장 긴 문장의 길이가 22 이므로 22로 설정\n",
    "MAX_LENGTH = 22\n",
    "print(MAX_LENGTH)"
   ]
  },
  {
   "cell_type": "code",
   "execution_count": 124,
   "id": "08b45a8d",
   "metadata": {},
   "outputs": [],
   "source": [
    "# 정수 인코딩, 최대 길이를 초과하는 샘플 제거, 패딩\n",
    "def tokenize_and_filter(inputs, outputs):\n",
    "  tokenized_inputs, tokenized_outputs = [], []\n",
    "  \n",
    "  for (sentence1, sentence2) in zip(inputs, outputs):\n",
    "    # 정수 인코딩 과정에서 시작 토큰과 종료 토큰을 추가\n",
    "    sentence1 = START_TOKEN + tokenizer.encode(sentence1) + END_TOKEN\n",
    "    sentence2 = START_TOKEN + tokenizer.encode(sentence2) + END_TOKEN\n",
    "\n",
    "    # 최대 길이 40 이하인 경우에만 데이터셋으로 허용\n",
    "    if len(sentence1) <= MAX_LENGTH and len(sentence2) <= MAX_LENGTH:\n",
    "      tokenized_inputs.append(sentence1)\n",
    "      tokenized_outputs.append(sentence2)\n",
    "  \n",
    "  # 최대 길이 40으로 모든 데이터셋을 패딩\n",
    "  tokenized_inputs = tf.keras.preprocessing.sequence.pad_sequences(\n",
    "                  tokenized_inputs, maxlen=MAX_LENGTH, padding='post')\n",
    "  tokenized_outputs = tf.keras.preprocessing.sequence.pad_sequences(\n",
    "                  tokenized_outputs, maxlen=MAX_LENGTH, padding='post')\n",
    "  \n",
    "  return tokenized_inputs, tokenized_outputs"
   ]
  },
  {
   "cell_type": "code",
   "execution_count": 125,
   "id": "5a463986",
   "metadata": {},
   "outputs": [
    {
     "name": "stdout",
     "output_type": "stream",
     "text": [
      "단어장의 크기 : 21937\n",
      "필터링 후의 질문 샘플 개수: 11821\n",
      "필터링 후의 답변 샘플 개수: 11821\n"
     ]
    }
   ],
   "source": [
    "questions, answers = tokenize_and_filter(questions, answers)\n",
    "print('단어장의 크기 :',(VOCAB_SIZE))\n",
    "print('필터링 후의 질문 샘플 개수: {}'.format(len(questions)))\n",
    "print('필터링 후의 답변 샘플 개수: {}'.format(len(answers)))"
   ]
  },
  {
   "cell_type": "code",
   "execution_count": 126,
   "id": "e3f23106",
   "metadata": {},
   "outputs": [],
   "source": [
    "BATCH_SIZE = 64\n",
    "BUFFER_SIZE = 20000\n",
    "\n",
    "# 디코더는 이전의 target을 다음의 input으로 사용합니다.\n",
    "# 이에 따라 outputs에서는 START_TOKEN을 제거하겠습니다.\n",
    "dataset = tf.data.Dataset.from_tensor_slices((\n",
    "    {\n",
    "        'inputs': questions,\n",
    "        'dec_inputs': answers[:, :-1]\n",
    "    },\n",
    "    {\n",
    "        'outputs': answers[:, 1:]\n",
    "    },\n",
    "))\n",
    "\n",
    "dataset = dataset.cache()\n",
    "dataset = dataset.shuffle(BUFFER_SIZE)\n",
    "dataset = dataset.batch(BATCH_SIZE)\n",
    "dataset = dataset.prefetch(tf.data.experimental.AUTOTUNE)"
   ]
  },
  {
   "cell_type": "markdown",
   "id": "d06b3580",
   "metadata": {},
   "source": [
    "### 모델 정의 및 초기화"
   ]
  },
  {
   "cell_type": "code",
   "execution_count": 30,
   "id": "0a4c1dd3",
   "metadata": {},
   "outputs": [],
   "source": [
    "# 포지셔널 인코딩 레이어\n",
    "class PositionalEncoding(tf.keras.layers.Layer):\n",
    "\n",
    "  def __init__(self, position, d_model):\n",
    "    super(PositionalEncoding, self).__init__()\n",
    "    self.pos_encoding = self.positional_encoding(position, d_model)\n",
    "\n",
    "  def get_angles(self, position, i, d_model):\n",
    "    angles = 1 / tf.pow(10000, (2 * (i // 2)) / tf.cast(d_model, tf.float32))\n",
    "    return position * angles\n",
    "\n",
    "  def positional_encoding(self, position, d_model):\n",
    "    # 각도 배열 생성\n",
    "    angle_rads = self.get_angles(\n",
    "        position=tf.range(position, dtype=tf.float32)[:, tf.newaxis],\n",
    "        i=tf.range(d_model, dtype=tf.float32)[tf.newaxis, :],\n",
    "        d_model=d_model)\n",
    "\n",
    "    # 배열의 짝수 인덱스에는 sin 함수 적용\n",
    "    sines = tf.math.sin(angle_rads[:, 0::2])\n",
    "    # 배열의 홀수 인덱스에는 cosine 함수 적용\n",
    "    cosines = tf.math.cos(angle_rads[:, 1::2])\n",
    "\n",
    "    # sin과 cosine이 교차되도록 재배열\n",
    "    pos_encoding = tf.stack([sines, cosines], axis=0)\n",
    "    pos_encoding = tf.transpose(pos_encoding,[1, 2, 0]) \n",
    "    pos_encoding = tf.reshape(pos_encoding, [position, d_model])\n",
    "\n",
    "    pos_encoding = pos_encoding[tf.newaxis, ...]\n",
    "    return tf.cast(pos_encoding, tf.float32)\n",
    "\n",
    "  def call(self, inputs):\n",
    "    return inputs + self.pos_encoding[:, :tf.shape(inputs)[1], :]"
   ]
  },
  {
   "cell_type": "code",
   "execution_count": 31,
   "id": "d71f1424",
   "metadata": {},
   "outputs": [],
   "source": [
    "# 스케일드 닷 프로덕트 어텐션 함수\n",
    "def scaled_dot_product_attention(query, key, value, mask):\n",
    "  # 어텐션 가중치는 Q와 K의 닷 프로덕트\n",
    "  matmul_qk = tf.matmul(query, key, transpose_b=True)\n",
    "\n",
    "  # 가중치를 정규화\n",
    "  depth = tf.cast(tf.shape(key)[-1], tf.float32)\n",
    "  logits = matmul_qk / tf.math.sqrt(depth)\n",
    "\n",
    "  # 패딩에 마스크 추가\n",
    "  if mask is not None:\n",
    "    logits += (mask * -1e9)\n",
    "\n",
    "  # softmax적용\n",
    "  attention_weights = tf.nn.softmax(logits, axis=-1)\n",
    "\n",
    "  # 최종 어텐션은 가중치와 V의 닷 프로덕트\n",
    "  output = tf.matmul(attention_weights, value)\n",
    "  return output"
   ]
  },
  {
   "cell_type": "markdown",
   "id": "46c913e1",
   "metadata": {},
   "source": [
    "### 멀티헤드 어텐션"
   ]
  },
  {
   "cell_type": "code",
   "execution_count": 32,
   "id": "68c263de",
   "metadata": {},
   "outputs": [],
   "source": [
    "class MultiHeadAttention(tf.keras.layers.Layer):\n",
    "\n",
    "  def __init__(self, d_model, num_heads, name=\"multi_head_attention\"):\n",
    "    super(MultiHeadAttention, self).__init__(name=name)\n",
    "    self.num_heads = num_heads\n",
    "    self.d_model = d_model\n",
    "\n",
    "    assert d_model % self.num_heads == 0\n",
    "\n",
    "    self.depth = d_model // self.num_heads\n",
    "\n",
    "    self.query_dense = tf.keras.layers.Dense(units=d_model)\n",
    "    self.key_dense = tf.keras.layers.Dense(units=d_model)\n",
    "    self.value_dense = tf.keras.layers.Dense(units=d_model)\n",
    "\n",
    "    self.dense = tf.keras.layers.Dense(units=d_model)\n",
    "\n",
    "  def split_heads(self, inputs, batch_size):\n",
    "    inputs = tf.reshape(\n",
    "        inputs, shape=(batch_size, -1, self.num_heads, self.depth))\n",
    "    return tf.transpose(inputs, perm=[0, 2, 1, 3])\n",
    "\n",
    "  def call(self, inputs):\n",
    "    query, key, value, mask = inputs['query'], inputs['key'], inputs[\n",
    "        'value'], inputs['mask']\n",
    "    batch_size = tf.shape(query)[0]\n",
    "\n",
    "    # Q, K, V에 각각 Dense를 적용합니다\n",
    "    query = self.query_dense(query)\n",
    "    key = self.key_dense(key)\n",
    "    value = self.value_dense(value)\n",
    "\n",
    "    # 병렬 연산을 위한 머리를 여러 개 만듭니다\n",
    "    query = self.split_heads(query, batch_size)\n",
    "    key = self.split_heads(key, batch_size)\n",
    "    value = self.split_heads(value, batch_size)\n",
    "\n",
    "    # 스케일드 닷 프로덕트 어텐션 함수\n",
    "    scaled_attention = scaled_dot_product_attention(query, key, value, mask)\n",
    "\n",
    "    scaled_attention = tf.transpose(scaled_attention, perm=[0, 2, 1, 3])\n",
    "\n",
    "    # 어텐션 연산 후에 각 결과를 다시 연결(concatenate)합니다\n",
    "    concat_attention = tf.reshape(scaled_attention,\n",
    "                                  (batch_size, -1, self.d_model))\n",
    "\n",
    "    # 최종 결과에도 Dense를 한 번 더 적용합니다\n",
    "    outputs = self.dense(concat_attention)\n",
    "\n",
    "    return outputs"
   ]
  },
  {
   "cell_type": "code",
   "execution_count": 33,
   "id": "8255ec97",
   "metadata": {},
   "outputs": [],
   "source": [
    "def create_padding_mask(x):\n",
    "  mask = tf.cast(tf.math.equal(x, 0), tf.float32)\n",
    "  # (batch_size, 1, 1, sequence length)\n",
    "  return mask[:, tf.newaxis, tf.newaxis, :]"
   ]
  },
  {
   "cell_type": "code",
   "execution_count": 34,
   "id": "84fc88f6",
   "metadata": {},
   "outputs": [],
   "source": [
    "def create_look_ahead_mask(x):\n",
    "  seq_len = tf.shape(x)[1]\n",
    "  look_ahead_mask = 1 - tf.linalg.band_part(tf.ones((seq_len, seq_len)), -1, 0)\n",
    "  padding_mask = create_padding_mask(x)\n",
    "  return tf.maximum(look_ahead_mask, padding_mask)"
   ]
  },
  {
   "cell_type": "code",
   "execution_count": 37,
   "id": "e01ec4d3",
   "metadata": {},
   "outputs": [],
   "source": [
    "# 인코더 하나의 레이어를 함수로 구현.\n",
    "# 이 하나의 레이어 안에는 두 개의 서브 레이어가 존재합니다.\n",
    "def encoder_layer(units, d_model, num_heads, dropout, name=\"encoder_layer\"):\n",
    "  inputs = tf.keras.Input(shape=(None, d_model), name=\"inputs\")\n",
    "\n",
    "  # 패딩 마스크 사용\n",
    "  padding_mask = tf.keras.Input(shape=(1, 1, None), name=\"padding_mask\")\n",
    "\n",
    "  # 첫 번째 서브 레이어 : 멀티 헤드 어텐션 수행 (셀프 어텐션)\n",
    "  attention = MultiHeadAttention(\n",
    "      d_model, num_heads, name=\"attention\")({\n",
    "          'query': inputs,\n",
    "          'key': inputs,\n",
    "          'value': inputs,\n",
    "          'mask': padding_mask\n",
    "      })\n",
    "\n",
    "  # 어텐션의 결과는 Dropout과 Layer Normalization이라는 훈련을 돕는 테크닉을 수행\n",
    "  attention = tf.keras.layers.Dropout(rate=dropout)(attention)\n",
    "  attention = tf.keras.layers.LayerNormalization(\n",
    "      epsilon=1e-6)(inputs + attention)\n",
    "\n",
    "  # 두 번째 서브 레이어 : 2개의 완전연결층\n",
    "  outputs = tf.keras.layers.Dense(units=units, activation='relu')(attention)\n",
    "  outputs = tf.keras.layers.Dense(units=d_model)(outputs)\n",
    "\n",
    "  # 완전연결층의 결과는 Dropout과 LayerNormalization이라는 훈련을 돕는 테크닉을 수행\n",
    "  outputs = tf.keras.layers.Dropout(rate=dropout)(outputs)\n",
    "  outputs = tf.keras.layers.LayerNormalization(\n",
    "      epsilon=1e-6)(attention + outputs)\n",
    "\n",
    "  return tf.keras.Model(\n",
    "      inputs=[inputs, padding_mask], outputs=outputs, name=name)"
   ]
  },
  {
   "cell_type": "code",
   "execution_count": 38,
   "id": "fab637a9",
   "metadata": {},
   "outputs": [],
   "source": [
    "# 레이어 스펙을 입력받아 인코더 레이어를 반환하는 함수\n",
    "def encoder(vocab_size,\n",
    "            num_layers,\n",
    "            units,\n",
    "            d_model,\n",
    "            num_heads,\n",
    "            dropout,\n",
    "            name=\"encoder\"):\n",
    "  inputs = tf.keras.Input(shape=(None,), name=\"inputs\")\n",
    "\n",
    "  # 패딩 마스크 사용\n",
    "  padding_mask = tf.keras.Input(shape=(1, 1, None), name=\"padding_mask\")\n",
    "\n",
    "  # 임베딩 레이어\n",
    "  embeddings = tf.keras.layers.Embedding(vocab_size, d_model)(inputs)\n",
    "  embeddings *= tf.math.sqrt(tf.cast(d_model, tf.float32))\n",
    "\n",
    "  # 포지셔널 인코딩\n",
    "  embeddings = PositionalEncoding(vocab_size, d_model)(embeddings)\n",
    "\n",
    "  outputs = tf.keras.layers.Dropout(rate=dropout)(embeddings)\n",
    "\n",
    "  # num_layers만큼 쌓아올린 인코더의 층.\n",
    "  for i in range(num_layers):\n",
    "    outputs = encoder_layer(\n",
    "        units=units,\n",
    "        d_model=d_model,\n",
    "        num_heads=num_heads,\n",
    "        dropout=dropout,\n",
    "        name=\"encoder_layer_{}\".format(i),\n",
    "    )([outputs, padding_mask])\n",
    "\n",
    "  return tf.keras.Model(\n",
    "      inputs=[inputs, padding_mask], outputs=outputs, name=name)"
   ]
  },
  {
   "cell_type": "code",
   "execution_count": 39,
   "id": "6640f7b0",
   "metadata": {},
   "outputs": [],
   "source": [
    "# 디코더 하나의 레이어를 함수로 구현.\n",
    "def decoder_layer(units, d_model, num_heads, dropout, name=\"decoder_layer\"):\n",
    "  inputs = tf.keras.Input(shape=(None, d_model), name=\"inputs\")\n",
    "  enc_outputs = tf.keras.Input(shape=(None, d_model), name=\"encoder_outputs\")\n",
    "  look_ahead_mask = tf.keras.Input(\n",
    "      shape=(1, None, None), name=\"look_ahead_mask\")\n",
    "  padding_mask = tf.keras.Input(shape=(1, 1, None), name='padding_mask')\n",
    "\n",
    "  # 첫 번째 서브 레이어 : 멀티 헤드 어텐션 수행 (셀프 어텐션)\n",
    "  attention1 = MultiHeadAttention(\n",
    "      d_model, num_heads, name=\"attention_1\")(inputs={\n",
    "          'query': inputs,\n",
    "          'key': inputs,\n",
    "          'value': inputs,\n",
    "          'mask': look_ahead_mask\n",
    "      })\n",
    "\n",
    "  # 멀티 헤드 어텐션의 결과는 LayerNormalization이라는 훈련을 돕는 테크닉을 수행\n",
    "  attention1 = tf.keras.layers.LayerNormalization(\n",
    "      epsilon=1e-6)(attention1 + inputs)\n",
    "\n",
    "  # 두 번째 서브 레이어 : 마스크드 멀티 헤드 어텐션 수행 (인코더-디코더 어텐션)\n",
    "  attention2 = MultiHeadAttention(\n",
    "      d_model, num_heads, name=\"attention_2\")(inputs={\n",
    "          'query': attention1,\n",
    "          'key': enc_outputs,\n",
    "          'value': enc_outputs,\n",
    "          'mask': padding_mask\n",
    "      })\n",
    "\n",
    "  # 마스크드 멀티 헤드 어텐션의 결과는\n",
    "  # Dropout과 LayerNormalization이라는 훈련을 돕는 테크닉을 수행\n",
    "  attention2 = tf.keras.layers.Dropout(rate=dropout)(attention2)\n",
    "  attention2 = tf.keras.layers.LayerNormalization(\n",
    "      epsilon=1e-6)(attention2 + attention1)\n",
    "\n",
    "  # 세 번째 서브 레이어 : 2개의 완전연결층\n",
    "  outputs = tf.keras.layers.Dense(units=units, activation='relu')(attention2)\n",
    "  outputs = tf.keras.layers.Dense(units=d_model)(outputs)\n",
    "\n",
    "  # 완전연결층의 결과는 Dropout과 LayerNormalization 수행\n",
    "  outputs = tf.keras.layers.Dropout(rate=dropout)(outputs)\n",
    "  outputs = tf.keras.layers.LayerNormalization(\n",
    "      epsilon=1e-6)(outputs + attention2)\n",
    "\n",
    "  return tf.keras.Model(\n",
    "      inputs=[inputs, enc_outputs, look_ahead_mask, padding_mask],\n",
    "      outputs=outputs,\n",
    "      name=name)"
   ]
  },
  {
   "cell_type": "code",
   "execution_count": 40,
   "id": "e57109a9",
   "metadata": {},
   "outputs": [],
   "source": [
    "# 레이어 스펙을 입력받아 디코더 레이어를 반환하는 함수\n",
    "def decoder(vocab_size,\n",
    "            num_layers,\n",
    "            units,\n",
    "            d_model,\n",
    "            num_heads,\n",
    "            dropout,\n",
    "            name='decoder'):\n",
    "  inputs = tf.keras.Input(shape=(None,), name='inputs')\n",
    "  enc_outputs = tf.keras.Input(shape=(None, d_model), name='encoder_outputs')\n",
    "  look_ahead_mask = tf.keras.Input(\n",
    "      shape=(1, None, None), name='look_ahead_mask')\n",
    "\n",
    "  # 패딩 마스크\n",
    "  padding_mask = tf.keras.Input(shape=(1, 1, None), name='padding_mask')\n",
    "  \n",
    "  # 임베딩 레이어\n",
    "  embeddings = tf.keras.layers.Embedding(vocab_size, d_model)(inputs)\n",
    "  embeddings *= tf.math.sqrt(tf.cast(d_model, tf.float32))\n",
    "\n",
    "  # 포지셔널 인코딩\n",
    "  embeddings = PositionalEncoding(vocab_size, d_model)(embeddings)\n",
    "\n",
    "  # Dropout이라는 훈련을 돕는 테크닉을 수행\n",
    "  outputs = tf.keras.layers.Dropout(rate=dropout)(embeddings)\n",
    "\n",
    "  for i in range(num_layers):\n",
    "    outputs = decoder_layer(\n",
    "        units=units,\n",
    "        d_model=d_model,\n",
    "        num_heads=num_heads,\n",
    "        dropout=dropout,\n",
    "        name='decoder_layer_{}'.format(i),\n",
    "    )(inputs=[outputs, enc_outputs, look_ahead_mask, padding_mask])\n",
    "\n",
    "  return tf.keras.Model(\n",
    "      inputs=[inputs, enc_outputs, look_ahead_mask, padding_mask],\n",
    "      outputs=outputs,\n",
    "      name=name)"
   ]
  },
  {
   "cell_type": "code",
   "execution_count": 41,
   "id": "275aaa20",
   "metadata": {},
   "outputs": [],
   "source": [
    "def transformer(vocab_size,\n",
    "                num_layers,\n",
    "                units,\n",
    "                d_model,\n",
    "                num_heads,\n",
    "                dropout,\n",
    "                name=\"transformer\"):\n",
    "  inputs = tf.keras.Input(shape=(None,), name=\"inputs\")\n",
    "  dec_inputs = tf.keras.Input(shape=(None,), name=\"dec_inputs\")\n",
    "\n",
    "  # create_padding_mask 함수를 인코더 입력에 맵핑\n",
    "  enc_padding_mask = tf.keras.layers.Lambda(\n",
    "      create_padding_mask, output_shape=(1, 1, None),\n",
    "      name='enc_padding_mask')(inputs)\n",
    "\n",
    "  # create_look_ahead_mask 함수를 디코더 입력에 맵핑\n",
    "  look_ahead_mask = tf.keras.layers.Lambda(\n",
    "      create_look_ahead_mask,\n",
    "      output_shape=(1, None, None),\n",
    "      name='look_ahead_mask')(dec_inputs)\n",
    "\n",
    "  # create_padding_mask 함수를 두 번째 어텐션 블록입력에 맵핑\n",
    "  # 인코더에서 디코더로 들어오는 벡터들을 패딩을 위한 마스크\n",
    "  dec_padding_mask = tf.keras.layers.Lambda(\n",
    "      create_padding_mask, output_shape=(1, 1, None),\n",
    "      name='dec_padding_mask')(inputs)\n",
    "\n",
    "  # 인코더\n",
    "  enc_outputs = encoder(\n",
    "      vocab_size=vocab_size,\n",
    "      num_layers=num_layers,\n",
    "      units=units,\n",
    "      d_model=d_model,\n",
    "      num_heads=num_heads,\n",
    "      dropout=dropout,\n",
    "  )(inputs=[inputs, enc_padding_mask])\n",
    "\n",
    "  # 디코더\n",
    "  dec_outputs = decoder(\n",
    "      vocab_size=vocab_size,\n",
    "      num_layers=num_layers,\n",
    "      units=units,\n",
    "      d_model=d_model,\n",
    "      num_heads=num_heads,\n",
    "      dropout=dropout,\n",
    "  )(inputs=[dec_inputs, enc_outputs, look_ahead_mask, dec_padding_mask])\n",
    "\n",
    "  # 완전연결층\n",
    "  outputs = tf.keras.layers.Dense(units=vocab_size, name=\"outputs\")(dec_outputs)\n",
    "\n",
    "  return tf.keras.Model(inputs=[inputs, dec_inputs], outputs=outputs, name=name)"
   ]
  },
  {
   "cell_type": "code",
   "execution_count": 42,
   "id": "b11d5029",
   "metadata": {},
   "outputs": [
    {
     "name": "stdout",
     "output_type": "stream",
     "text": [
      "Model: \"transformer\"\n",
      "__________________________________________________________________________________________________\n",
      "Layer (type)                    Output Shape         Param #     Connected to                     \n",
      "==================================================================================================\n",
      "inputs (InputLayer)             [(None, None)]       0                                            \n",
      "__________________________________________________________________________________________________\n",
      "dec_inputs (InputLayer)         [(None, None)]       0                                            \n",
      "__________________________________________________________________________________________________\n",
      "enc_padding_mask (Lambda)       (None, 1, 1, None)   0           inputs[0][0]                     \n",
      "__________________________________________________________________________________________________\n",
      "encoder (Functional)            (None, None, 256)    6670080     inputs[0][0]                     \n",
      "                                                                 enc_padding_mask[0][0]           \n",
      "__________________________________________________________________________________________________\n",
      "look_ahead_mask (Lambda)        (None, 1, None, None 0           dec_inputs[0][0]                 \n",
      "__________________________________________________________________________________________________\n",
      "dec_padding_mask (Lambda)       (None, 1, 1, None)   0           inputs[0][0]                     \n",
      "__________________________________________________________________________________________________\n",
      "decoder (Functional)            (None, None, 256)    7197440     dec_inputs[0][0]                 \n",
      "                                                                 encoder[0][0]                    \n",
      "                                                                 look_ahead_mask[0][0]            \n",
      "                                                                 dec_padding_mask[0][0]           \n",
      "__________________________________________________________________________________________________\n",
      "outputs (Dense)                 (None, None, 21937)  5637809     decoder[0][0]                    \n",
      "==================================================================================================\n",
      "Total params: 19,505,329\n",
      "Trainable params: 19,505,329\n",
      "Non-trainable params: 0\n",
      "__________________________________________________________________________________________________\n"
     ]
    }
   ],
   "source": [
    "tf.keras.backend.clear_session()\n",
    "\n",
    "# 하이퍼파라미터\n",
    "NUM_LAYERS = 2 # 인코더와 디코더의 층의 개수\n",
    "D_MODEL = 256 # 인코더와 디코더 내부의 입, 출력의 고정 차원\n",
    "NUM_HEADS = 8 # 멀티 헤드 어텐션에서의 헤드 수 \n",
    "UNITS = 512 # 피드 포워드 신경망의 은닉층의 크기\n",
    "DROPOUT = 0.1 # 드롭아웃의 비율\n",
    "\n",
    "model = transformer(\n",
    "    vocab_size=VOCAB_SIZE,\n",
    "    num_layers=NUM_LAYERS,\n",
    "    units=UNITS,\n",
    "    d_model=D_MODEL,\n",
    "    num_heads=NUM_HEADS,\n",
    "    dropout=DROPOUT)\n",
    "\n",
    "model.summary()"
   ]
  },
  {
   "cell_type": "code",
   "execution_count": 43,
   "id": "fa46eac9",
   "metadata": {},
   "outputs": [],
   "source": [
    "def loss_function(y_true, y_pred):\n",
    "  y_true = tf.reshape(y_true, shape=(-1, MAX_LENGTH - 1))\n",
    "  \n",
    "  loss = tf.keras.losses.SparseCategoricalCrossentropy(\n",
    "      from_logits=True, reduction='none')(y_true, y_pred)\n",
    "\n",
    "  mask = tf.cast(tf.not_equal(y_true, 0), tf.float32)\n",
    "  loss = tf.multiply(loss, mask)\n",
    "\n",
    "  return tf.reduce_mean(loss)"
   ]
  },
  {
   "cell_type": "code",
   "execution_count": 44,
   "id": "689f4bb4",
   "metadata": {},
   "outputs": [],
   "source": [
    "class CustomSchedule(tf.keras.optimizers.schedules.LearningRateSchedule):\n",
    "\n",
    "  def __init__(self, d_model, warmup_steps=4000):\n",
    "    super(CustomSchedule, self).__init__()\n",
    "\n",
    "    self.d_model = d_model\n",
    "    self.d_model = tf.cast(self.d_model, tf.float32)\n",
    "\n",
    "    self.warmup_steps = warmup_steps\n",
    "\n",
    "  def __call__(self, step):\n",
    "    arg1 = tf.math.rsqrt(step)\n",
    "    arg2 = step * (self.warmup_steps**-1.5)\n",
    "\n",
    "    return tf.math.rsqrt(self.d_model) * tf.math.minimum(arg1, arg2)"
   ]
  },
  {
   "cell_type": "code",
   "execution_count": 45,
   "id": "893e594b",
   "metadata": {},
   "outputs": [
    {
     "data": {
      "text/plain": [
       "Text(0.5, 0, 'Train Step')"
      ]
     },
     "execution_count": 45,
     "metadata": {},
     "output_type": "execute_result"
    },
    {
     "data": {
      "image/png": "[encoded data removed]",
      "text/plain": [
       "<Figure size 432x288 with 1 Axes>"
      ]
     },
     "metadata": {
      "needs_background": "light"
     },
     "output_type": "display_data"
    }
   ],
   "source": [
    "sample_learning_rate = CustomSchedule(d_model=128)\n",
    "\n",
    "plt.plot(sample_learning_rate(tf.range(200000, dtype=tf.float32)))\n",
    "plt.ylabel(\"Learning Rate\")\n",
    "plt.xlabel(\"Train Step\")"
   ]
  },
  {
   "cell_type": "code",
   "execution_count": 46,
   "id": "b9b51037",
   "metadata": {},
   "outputs": [],
   "source": [
    "learning_rate = CustomSchedule(D_MODEL)\n",
    "\n",
    "optimizer = tf.keras.optimizers.Adam(\n",
    "    learning_rate, beta_1=0.9, beta_2=0.98, epsilon=1e-9)\n",
    "\n",
    "def accuracy(y_true, y_pred):\n",
    "  y_true = tf.reshape(y_true, shape=(-1, MAX_LENGTH - 1))\n",
    "  return tf.keras.metrics.sparse_categorical_accuracy(y_true, y_pred)\n",
    "\n",
    "model.compile(optimizer=optimizer, loss=loss_function, metrics=[accuracy])"
   ]
  },
  {
   "cell_type": "code",
   "execution_count": 82,
   "id": "b61a6641",
   "metadata": {
    "scrolled": true
   },
   "outputs": [
    {
     "name": "stdout",
     "output_type": "stream",
     "text": [
      "Epoch 1/30\n",
      "185/185 [==============================] - 12s 66ms/step - loss: 0.0942 - accuracy: 0.2079\n",
      "Epoch 2/30\n",
      "185/185 [==============================] - 12s 66ms/step - loss: 0.0703 - accuracy: 0.2118\n",
      "Epoch 3/30\n",
      "185/185 [==============================] - 12s 66ms/step - loss: 0.0555 - accuracy: 0.2142\n",
      "Epoch 4/30\n",
      "185/185 [==============================] - 12s 66ms/step - loss: 0.0468 - accuracy: 0.2151\n",
      "Epoch 5/30\n",
      "185/185 [==============================] - 12s 67ms/step - loss: 0.0450 - accuracy: 0.2153\n",
      "Epoch 6/30\n",
      "185/185 [==============================] - 12s 67ms/step - loss: 0.0408 - accuracy: 0.2161\n",
      "Epoch 7/30\n",
      "185/185 [==============================] - 12s 66ms/step - loss: 0.0366 - accuracy: 0.2168\n",
      "Epoch 8/30\n",
      "185/185 [==============================] - 12s 67ms/step - loss: 0.0323 - accuracy: 0.2179\n",
      "Epoch 9/30\n",
      "185/185 [==============================] - 12s 66ms/step - loss: 0.0285 - accuracy: 0.2184\n",
      "Epoch 10/30\n",
      "185/185 [==============================] - 12s 67ms/step - loss: 0.0255 - accuracy: 0.2195\n",
      "Epoch 11/30\n",
      "185/185 [==============================] - 12s 66ms/step - loss: 0.0222 - accuracy: 0.2202\n",
      "Epoch 12/30\n",
      "185/185 [==============================] - 12s 67ms/step - loss: 0.0205 - accuracy: 0.2205\n",
      "Epoch 13/30\n",
      "185/185 [==============================] - 12s 67ms/step - loss: 0.0175 - accuracy: 0.2211\n",
      "Epoch 14/30\n",
      "185/185 [==============================] - 12s 67ms/step - loss: 0.0167 - accuracy: 0.2214\n",
      "Epoch 15/30\n",
      "185/185 [==============================] - 12s 67ms/step - loss: 0.0154 - accuracy: 0.2217\n",
      "Epoch 16/30\n",
      "185/185 [==============================] - 12s 66ms/step - loss: 0.0149 - accuracy: 0.2218\n",
      "Epoch 17/30\n",
      "185/185 [==============================] - 12s 66ms/step - loss: 0.0141 - accuracy: 0.2221\n",
      "Epoch 18/30\n",
      "185/185 [==============================] - 12s 66ms/step - loss: 0.0129 - accuracy: 0.2223\n",
      "Epoch 19/30\n",
      "185/185 [==============================] - 12s 66ms/step - loss: 0.0120 - accuracy: 0.2226\n",
      "Epoch 20/30\n",
      "185/185 [==============================] - 12s 66ms/step - loss: 0.0108 - accuracy: 0.2228\n",
      "Epoch 21/30\n",
      "185/185 [==============================] - 12s 66ms/step - loss: 0.0116 - accuracy: 0.2228\n",
      "Epoch 22/30\n",
      "185/185 [==============================] - 12s 66ms/step - loss: 0.0105 - accuracy: 0.2229\n",
      "Epoch 23/30\n",
      "185/185 [==============================] - 12s 66ms/step - loss: 0.0104 - accuracy: 0.2228\n",
      "Epoch 24/30\n",
      "185/185 [==============================] - 12s 66ms/step - loss: 0.0098 - accuracy: 0.2230\n",
      "Epoch 25/30\n",
      "185/185 [==============================] - 12s 66ms/step - loss: 0.0088 - accuracy: 0.2232\n",
      "Epoch 26/30\n",
      "185/185 [==============================] - 12s 66ms/step - loss: 0.0084 - accuracy: 0.2233\n",
      "Epoch 27/30\n",
      "185/185 [==============================] - 12s 66ms/step - loss: 0.0089 - accuracy: 0.2232\n",
      "Epoch 28/30\n",
      "185/185 [==============================] - 12s 66ms/step - loss: 0.0085 - accuracy: 0.2233\n",
      "Epoch 29/30\n",
      "185/185 [==============================] - 12s 66ms/step - loss: 0.0081 - accuracy: 0.2234\n",
      "Epoch 30/30\n",
      "185/185 [==============================] - 12s 66ms/step - loss: 0.0072 - accuracy: 0.2236\n"
     ]
    }
   ],
   "source": [
    "EPOCHS = 30\n",
    "history = model.fit(dataset, epochs=EPOCHS, verbose=1)"
   ]
  },
  {
   "cell_type": "code",
   "execution_count": 83,
   "id": "abf0bc71",
   "metadata": {},
   "outputs": [
    {
     "data": {
      "image/png": "[encoded data removed]",
      "text/plain": [
       "<Figure size 720x360 with 2 Axes>"
      ]
     },
     "metadata": {
      "needs_background": "light"
     },
     "output_type": "display_data"
    }
   ],
   "source": [
    "import matplotlib.pyplot as plt\n",
    "\n",
    "fig, axes = plt.subplots(1, 2, figsize=(10,5))\n",
    "history_dict = history.history\n",
    "loss_values = history_dict[\"loss\"]\n",
    "# val_loss_values = history_dict[\"val_loss\"]\n",
    "epochs = range(1, len(loss_values) + 1)\n",
    "axes[0].plot(epochs, loss_values, \"bo\", label=\"Training loss\",)\n",
    "# axes[0].plot(epochs, val_loss_values, \"b\", label=\"Validation loss\",)\n",
    "axes[0].legend()\n",
    "\n",
    "acc = history_dict[\"accuracy\"]\n",
    "# val_acc = history_dict[\"val_accuracy\"]\n",
    "axes[1].plot(epochs, acc, \"bo\", label=\"Training acc\",)\n",
    "# axes[1].plot(epochs, val_acc, \"b\", label=\"Validation acc\",)\n",
    "axes[1].legend()\n",
    "plt.show()"
   ]
  },
  {
   "cell_type": "markdown",
   "id": "36e559ae",
   "metadata": {},
   "source": [
    "### 모델 테스트"
   ]
  },
  {
   "cell_type": "code",
   "execution_count": 84,
   "id": "7a0d6f68",
   "metadata": {},
   "outputs": [
    {
     "name": "stdout",
     "output_type": "stream",
     "text": [
      "슝=3\n"
     ]
    }
   ],
   "source": [
    "def decoder_inference(sentence):\n",
    "  sentence = preprocess_sentence(sentence)\n",
    "\n",
    "  # 입력된 문장을 정수 인코딩 후, 시작 토큰과 종료 토큰을 앞뒤로 추가.\n",
    "  # ex) Where have you been? → [[8331   86   30    5 1059    7 8332]]\n",
    "  sentence = tf.expand_dims(\n",
    "      START_TOKEN + tokenizer.encode(sentence) + END_TOKEN, axis=0)\n",
    "\n",
    "  # 디코더의 현재까지의 예측한 출력 시퀀스가 지속적으로 저장되는 변수.\n",
    "  # 처음에는 예측한 내용이 없음으로 시작 토큰만 별도 저장. ex) 8331\n",
    "  output_sequence = tf.expand_dims(START_TOKEN, 0)\n",
    "\n",
    "  # 디코더의 인퍼런스 단계\n",
    "  for i in range(MAX_LENGTH):\n",
    "    # 디코더는 최대 MAX_LENGTH의 길이만큼 다음 단어 예측을 반복합니다.\n",
    "    predictions = model(inputs=[sentence, output_sequence], training=False)\n",
    "    predictions = predictions[:, -1:, :]\n",
    "\n",
    "    # 현재 예측한 단어의 정수\n",
    "    predicted_id = tf.cast(tf.argmax(predictions, axis=-1), tf.int32)\n",
    "\n",
    "    # 만약 현재 예측한 단어가 종료 토큰이라면 for문을 종료\n",
    "    if tf.equal(predicted_id, END_TOKEN[0]):\n",
    "      break\n",
    "\n",
    "    # 예측한 단어들은 지속적으로 output_sequence에 추가됩니다.\n",
    "    # 이 output_sequence는 다시 디코더의 입력이 됩니다.\n",
    "    output_sequence = tf.concat([output_sequence, predicted_id], axis=-1)\n",
    "\n",
    "  return tf.squeeze(output_sequence, axis=0)\n",
    "print(\"슝=3\")"
   ]
  },
  {
   "cell_type": "code",
   "execution_count": 85,
   "id": "65f223fe",
   "metadata": {},
   "outputs": [
    {
     "name": "stdout",
     "output_type": "stream",
     "text": [
      "슝=3\n"
     ]
    }
   ],
   "source": [
    "def sentence_generation(sentence):\n",
    "  # 입력 문장에 대해서 디코더를 동작 시켜 예측된 정수 시퀀스를 리턴받습니다.\n",
    "  prediction = decoder_inference(sentence)\n",
    "\n",
    "  # 정수 시퀀스를 다시 텍스트 시퀀스로 변환합니다.\n",
    "  predicted_sentence = tokenizer.decode(\n",
    "      [i for i in prediction if i < tokenizer.vocab_size])\n",
    "\n",
    "  print('입력 : {}'.format(sentence))\n",
    "  print('출력 : {}'.format(predicted_sentence))\n",
    "\n",
    "  return predicted_sentence\n",
    "print(\"슝=3\")"
   ]
  },
  {
   "cell_type": "code",
   "execution_count": 86,
   "id": "cb664d79",
   "metadata": {},
   "outputs": [
    {
     "name": "stdout",
     "output_type": "stream",
     "text": [
      "입력 : 어디 있었어?\n",
      "출력 : 이젠 마음의 정리를 기억을 좋겠어요\n"
     ]
    },
    {
     "data": {
      "text/plain": [
       "'이젠 마음의 정리를 기억을 좋겠어요'"
      ]
     },
     "execution_count": 86,
     "metadata": {},
     "output_type": "execute_result"
    }
   ],
   "source": [
    "sentence_generation('어디 있었어?')"
   ]
  },
  {
   "cell_type": "code",
   "execution_count": 87,
   "id": "42083d4a",
   "metadata": {},
   "outputs": [
    {
     "name": "stdout",
     "output_type": "stream",
     "text": [
      "입력 : 완전 대박이네\n",
      "출력 : 마음이 좀 후련해지길 바랄게요\n"
     ]
    },
    {
     "data": {
      "text/plain": [
       "'마음이 좀 후련해지길 바랄게요'"
      ]
     },
     "execution_count": 87,
     "metadata": {},
     "output_type": "execute_result"
    }
   ],
   "source": [
    "sentence_generation(\"완전 대박이네\")"
   ]
  },
  {
   "cell_type": "code",
   "execution_count": 88,
   "id": "4be8fae1",
   "metadata": {},
   "outputs": [
    {
     "name": "stdout",
     "output_type": "stream",
     "text": [
      "입력 : 1지망 학교 떨어졌는데 3박 4일 놀러가도 될까?\n",
      "출력 : 위로해 드립니다\n"
     ]
    },
    {
     "data": {
      "text/plain": [
       "'위로해 드립니다'"
      ]
     },
     "execution_count": 88,
     "metadata": {},
     "output_type": "execute_result"
    }
   ],
   "source": [
    "sentence_generation(\"1지망 학교 떨어졌는데 3박 4일 놀러가도 될까?\")"
   ]
  },
  {
   "cell_type": "code",
   "execution_count": 89,
   "id": "e37bd44f",
   "metadata": {},
   "outputs": [
    {
     "name": "stdout",
     "output_type": "stream",
     "text": [
      "입력 : 오늘 나 완전 기분 꿀꿀한데 저녁 뭐 먹을까\n",
      "출력 : 아예 알려고 하지 않는 게 편한 거 같아요\n"
     ]
    },
    {
     "data": {
      "text/plain": [
       "'아예 알려고 하지 않는 게 편한 거 같아요'"
      ]
     },
     "execution_count": 89,
     "metadata": {},
     "output_type": "execute_result"
    }
   ],
   "source": [
    "sentence_generation(\"오늘 나 완전 기분 꿀꿀한데 저녁 뭐 먹을까\")"
   ]
  },
  {
   "cell_type": "code",
   "execution_count": 90,
   "id": "c0d5865a",
   "metadata": {},
   "outputs": [
    {
     "name": "stdout",
     "output_type": "stream",
     "text": [
      "입력 : 오늘나완전기분꿀꿀한데저녁뭐먹을까\n",
      "출력 : 그것만큼 마음 아픈 일도 없겠네요\n"
     ]
    },
    {
     "data": {
      "text/plain": [
       "'그것만큼 마음 아픈 일도 없겠네요'"
      ]
     },
     "execution_count": 90,
     "metadata": {},
     "output_type": "execute_result"
    }
   ],
   "source": [
    "sentence_generation(\"오늘나완전기분꿀꿀한데저녁뭐먹을까\")"
   ]
  },
  {
   "cell_type": "code",
   "execution_count": 91,
   "id": "6abe5072",
   "metadata": {},
   "outputs": [
    {
     "name": "stdout",
     "output_type": "stream",
     "text": [
      "입력 : 오늘나완전기분꿀꿀\n",
      "출력 : 연애 초기 데이트를 해보면서 극복해보세요\n"
     ]
    },
    {
     "data": {
      "text/plain": [
       "'연애 초기 데이트를 해보면서 극복해보세요'"
      ]
     },
     "execution_count": 91,
     "metadata": {},
     "output_type": "execute_result"
    }
   ],
   "source": [
    "sentence_generation(\"오늘나완전기분꿀꿀\")"
   ]
  },
  {
   "cell_type": "code",
   "execution_count": 92,
   "id": "76c1cc42",
   "metadata": {},
   "outputs": [
    {
     "name": "stdout",
     "output_type": "stream",
     "text": [
      "입력 : 오늘 나랑 밥 먹을래?\n",
      "출력 : 저는 좋아요\n"
     ]
    },
    {
     "data": {
      "text/plain": [
       "'저는 좋아요'"
      ]
     },
     "execution_count": 92,
     "metadata": {},
     "output_type": "execute_result"
    }
   ],
   "source": [
    "sentence_generation(\"오늘 나랑 밥 먹을래?\")"
   ]
  },
  {
   "cell_type": "code",
   "execution_count": 93,
   "id": "02cefb91",
   "metadata": {},
   "outputs": [
    {
     "name": "stdout",
     "output_type": "stream",
     "text": [
      "입력 : 오늘 나랑 lunch 먹을래?\n",
      "출력 : 직접 물어보는게 정확할 거예요\n"
     ]
    },
    {
     "data": {
      "text/plain": [
       "'직접 물어보는게 정확할 거예요'"
      ]
     },
     "execution_count": 93,
     "metadata": {},
     "output_type": "execute_result"
    }
   ],
   "source": [
    "sentence_generation(\"오늘 나랑 lunch 먹을래?\")"
   ]
  },
  {
   "cell_type": "code",
   "execution_count": 94,
   "id": "04aae8db",
   "metadata": {},
   "outputs": [
    {
     "name": "stdout",
     "output_type": "stream",
     "text": [
      "입력 : 오늘 나랑 3 먹을래?\n",
      "출력 : 큰 결심이네요 꼭 성공할 거예요\n"
     ]
    },
    {
     "data": {
      "text/plain": [
       "'큰 결심이네요 꼭 성공할 거예요'"
      ]
     },
     "execution_count": 94,
     "metadata": {},
     "output_type": "execute_result"
    }
   ],
   "source": [
    "sentence_generation(\"오늘 나랑 3 먹을래?\")"
   ]
  },
  {
   "cell_type": "code",
   "execution_count": 95,
   "id": "8a367de0",
   "metadata": {
    "scrolled": true
   },
   "outputs": [
    {
     "name": "stdout",
     "output_type": "stream",
     "text": [
      "입력 : 오늘 나랑 PPL 갈래?\n",
      "출력 : 보통 사랑은 그렇죠\n"
     ]
    },
    {
     "data": {
      "text/plain": [
       "'보통 사랑은 그렇죠'"
      ]
     },
     "execution_count": 95,
     "metadata": {},
     "output_type": "execute_result"
    }
   ],
   "source": [
    "sentence_generation(\"오늘 나랑 PPL 갈래?\")"
   ]
  },
  {
   "cell_type": "code",
   "execution_count": 96,
   "id": "e2143aba",
   "metadata": {
    "scrolled": true
   },
   "outputs": [
    {
     "name": "stdout",
     "output_type": "stream",
     "text": [
      "입력 : 오늘 너 좀 예쁘네\n",
      "출력 : 직접 물어보는 게 좋을 것 같아요\n"
     ]
    },
    {
     "data": {
      "text/plain": [
       "'직접 물어보는 게 좋을 것 같아요'"
      ]
     },
     "execution_count": 96,
     "metadata": {},
     "output_type": "execute_result"
    }
   ],
   "source": [
    "sentence_generation(\"오늘 너 좀 예쁘네\")"
   ]
  },
  {
   "cell_type": "code",
   "execution_count": 97,
   "id": "207deae0",
   "metadata": {
    "scrolled": false
   },
   "outputs": [
    {
     "name": "stdout",
     "output_type": "stream",
     "text": [
      "입력 : 오늴 니 쫌 이쁘네\n",
      "출력 : 좀 더 지켜보는 게 좋겠어요\n"
     ]
    },
    {
     "data": {
      "text/plain": [
       "'좀 더 지켜보는 게 좋겠어요'"
      ]
     },
     "execution_count": 97,
     "metadata": {},
     "output_type": "execute_result"
    }
   ],
   "source": [
    "sentence_generation(\"오늴 니 쫌 이쁘네\")"
   ]
  },
  {
   "cell_type": "code",
   "execution_count": 98,
   "id": "99c8cda6",
   "metadata": {
    "scrolled": false
   },
   "outputs": [
    {
     "name": "stdout",
     "output_type": "stream",
     "text": [
      "입력 : 썸\n",
      "출력 : 귀찮아서 친구랑 하루 종일 연락 안해요\n"
     ]
    },
    {
     "data": {
      "text/plain": [
       "'귀찮아서 친구랑 하루 종일 연락 안해요'"
      ]
     },
     "execution_count": 98,
     "metadata": {},
     "output_type": "execute_result"
    }
   ],
   "source": [
    "sentence_generation(\"썸\")"
   ]
  },
  {
   "cell_type": "code",
   "execution_count": null,
   "id": "bb225615",
   "metadata": {},
   "outputs": [],
   "source": []
  }
 ],
 "metadata": {
  "kernelspec": {
   "display_name": "Python 3 (ipykernel)",
   "language": "python",
   "name": "python3"
  },
  "language_info": {
   "codemirror_mode": {
    "name": "ipython",
    "version": 3
   },
   "file_extension": ".py",
   "mimetype": "text/x-python",
   "name": "python",
   "nbconvert_exporter": "python",
   "pygments_lexer": "ipython3",
   "version": "3.9.7"
  }
 },
 "nbformat": 4,
 "nbformat_minor": 5
}
