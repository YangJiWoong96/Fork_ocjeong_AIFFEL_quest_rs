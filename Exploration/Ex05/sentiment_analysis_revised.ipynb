{
 "cells": [
  {
   "cell_type": "markdown",
   "id": "5be3dbf3",
   "metadata": {},
   "source": [
    "# Ex 05 -- 감성분석 실습"
   ]
  },
  {
   "cell_type": "markdown",
   "id": "b907f893",
   "metadata": {},
   "source": [
    "## 네이버 영화리뷰 감성분석\n",
    "\n",
    "```\n",
    "Naver Movie Review in Kor.\n",
    "LSTM\n",
    "1538/1538 - 3s - loss: 0.4803 - accuracy: 0.8360\n",
    "[0.4803449809551239, 0.8359822630882263]\n",
    "\n",
    "LSTM + dropout\n",
    "1538/1538 - 3s - loss: 0.4339 - accuracy: 0.8401\n",
    "[0.4338960647583008, 0.8401284217834473]\n",
    "\n",
    "LSTM + recurrent dropout\n",
    "1538/1538 - 15s - loss: 0.4224 - accuracy: 0.8430\n",
    "[0.4223518371582031, 0.842994213104248]\n",
    "\n",
    "Conv1D + word2vec_ko\n",
    "1538/1538 - 3s - loss: 0.4907 - accuracy: 0.8325\n",
    "[0.4907437562942505, 0.832466185092926]\n",
    "\n",
    "LSTM + word2vec_ko + recurrent dropout\n",
    "1538/1538 - 14s - loss: 0.3620 - accuracy: 0.8536\n",
    "[0.3619636297225952, 0.8535628914833069]\n",
    "\n",
    "LSTM Stacking + word2vec_ko + recurrent dropout 7th epoch\n",
    "1538/1538 - 15s - loss: 0.3733 - accuracy: 0.8533\n",
    "[0.3732941150665283, 0.8532986640930176]\n",
    "\n",
    "GRU Stacking + word2vec_ko + recurrent dropout 8th epoch\n",
    "1538/1538 - 26s - loss: 0.4981 - accuracy: 0.8481\n",
    "[0.49807214736938477, 0.8481362462043762]\n",
    "```\n",
    "한국어에선 Conv1D를 활용한 모델이 성능이 조금 처지는 경향이 보인다. 어순의 차이 때문인듯.\n",
    "Stacking은 성능향상이 거의 없어 보인다. 85%를 넘기는 지표는 drop-out 층을 추가한 덕이 크다.\n",
    "GRU를 썼을 때 효율도 잘 안보이는 것 같다. 임베딩이 잘 학습되는 것과 지표가 잘 나오는 것은 살짝 다를 수도 있겠다는 생각.\n",
    "모델은 과대적합이 되더라도 임베딩은 더 학습될 수 있을까?"
   ]
  },
  {
   "cell_type": "markdown",
   "id": "efce541f",
   "metadata": {},
   "source": [
    "학습된 임베딩과 사전학습된 임베딩 비교\n",
    "```python\n",
    ">>> word_vectors_lstm.similar_by_word(\"재미\")\n",
    "[('망각', 0.7869980335235596),\n",
    " ('마모루', 0.7856428027153015),\n",
    " ('캐', 0.7748635411262512),\n",
    " ('몰입', 0.7729829549789429),\n",
    " ('보트', 0.7706950902938843),\n",
    " ('마니', 0.7645766139030457),\n",
    " ('가치', 0.7612316012382507),\n",
    " ('긴장감', 0.7612043023109436),\n",
    " ('맛있', 0.7608613967895508),\n",
    " ('완전', 0.7575821876525879)]\n",
    "\n",
    "[('묘미', 0.6163142919540405),\n",
    " ('취미', 0.6034970283508301),\n",
    " ('흥미', 0.5939850211143494),\n",
    " ('유머', 0.5888698101043701),\n",
    " ('보람', 0.5689517259597778),\n",
    " ('즐거움', 0.5631207823753357),\n",
    " ('개그', 0.5552946329116821),\n",
    " ('이야기', 0.5536993741989136),\n",
    " ('연애', 0.552293598651886),\n",
    " ('열의', 0.546456515789032)]\n",
    "```"
   ]
  },
  {
   "cell_type": "code",
   "execution_count": 13,
   "id": "11480b28",
   "metadata": {},
   "outputs": [],
   "source": [
    "import numpy as np\n",
    "import tensorflow as tf\n",
    "import matplotlib.pyplot as plt\n",
    "\n",
    "import os\n",
    "os.system(\"ln -s ~/data/*.txt ~/aiffel/sentiment_classification/data\")"
   ]
  },
  {
   "cell_type": "code",
   "execution_count": 1,
   "id": "78cd0ab5",
   "metadata": {},
   "outputs": [
    {
     "name": "stdout",
     "output_type": "stream",
     "text": [
      "1.3.3\n",
      "0.5.2\n",
      "4.1.2\n"
     ]
    }
   ],
   "source": [
    "import pandas\n",
    "import konlpy\n",
    "import gensim\n",
    "\n",
    "print(pandas.__version__)\n",
    "print(konlpy.__version__)\n",
    "print(gensim.__version__)"
   ]
  },
  {
   "cell_type": "code",
   "execution_count": 2,
   "id": "a37b415c",
   "metadata": {},
   "outputs": [
    {
     "data": {
      "text/html": [
       "<div>\n",
       "<style scoped>\n",
       "    .dataframe tbody tr th:only-of-type {\n",
       "        vertical-align: middle;\n",
       "    }\n",
       "\n",
       "    .dataframe tbody tr th {\n",
       "        vertical-align: top;\n",
       "    }\n",
       "\n",
       "    .dataframe thead th {\n",
       "        text-align: right;\n",
       "    }\n",
       "</style>\n",
       "<table border=\"1\" class=\"dataframe\">\n",
       "  <thead>\n",
       "    <tr style=\"text-align: right;\">\n",
       "      <th></th>\n",
       "      <th>id</th>\n",
       "      <th>document</th>\n",
       "      <th>label</th>\n",
       "    </tr>\n",
       "  </thead>\n",
       "  <tbody>\n",
       "    <tr>\n",
       "      <th>0</th>\n",
       "      <td>9976970</td>\n",
       "      <td>아 더빙.. 진짜 짜증나네요 목소리</td>\n",
       "      <td>0</td>\n",
       "    </tr>\n",
       "    <tr>\n",
       "      <th>1</th>\n",
       "      <td>3819312</td>\n",
       "      <td>흠...포스터보고 초딩영화줄....오버연기조차 가볍지 않구나</td>\n",
       "      <td>1</td>\n",
       "    </tr>\n",
       "    <tr>\n",
       "      <th>2</th>\n",
       "      <td>10265843</td>\n",
       "      <td>너무재밓었다그래서보는것을추천한다</td>\n",
       "      <td>0</td>\n",
       "    </tr>\n",
       "    <tr>\n",
       "      <th>3</th>\n",
       "      <td>9045019</td>\n",
       "      <td>교도소 이야기구먼 ..솔직히 재미는 없다..평점 조정</td>\n",
       "      <td>0</td>\n",
       "    </tr>\n",
       "    <tr>\n",
       "      <th>4</th>\n",
       "      <td>6483659</td>\n",
       "      <td>사이몬페그의 익살스런 연기가 돋보였던 영화!스파이더맨에서 늙어보이기만 했던 커스틴 ...</td>\n",
       "      <td>1</td>\n",
       "    </tr>\n",
       "  </tbody>\n",
       "</table>\n",
       "</div>"
      ],
      "text/plain": [
       "         id                                           document  label\n",
       "0   9976970                                아 더빙.. 진짜 짜증나네요 목소리      0\n",
       "1   3819312                  흠...포스터보고 초딩영화줄....오버연기조차 가볍지 않구나      1\n",
       "2  10265843                                  너무재밓었다그래서보는것을추천한다      0\n",
       "3   9045019                      교도소 이야기구먼 ..솔직히 재미는 없다..평점 조정      0\n",
       "4   6483659  사이몬페그의 익살스런 연기가 돋보였던 영화!스파이더맨에서 늙어보이기만 했던 커스틴 ...      1"
      ]
     },
     "execution_count": 2,
     "metadata": {},
     "output_type": "execute_result"
    }
   ],
   "source": [
    "import pandas as pd\n",
    "\n",
    "# 데이터를 읽어봅시다. \n",
    "train_data = pd.read_table('~/aiffel/sentiment_classification/data/ratings_train.txt')\n",
    "test_data = pd.read_table('~/aiffel/sentiment_classification/data/ratings_test.txt')\n",
    "\n",
    "train_data.head()"
   ]
  },
  {
   "cell_type": "markdown",
   "id": "1a1846f1",
   "metadata": {},
   "source": [
    "## 데이터로더 \n",
    "\n",
    "- 데이터의 중복 제거\n",
    "- `NaN` 결측치 제거\n",
    "- 한국어 토크나이저로 토큰화\n",
    "- 불용어(Stopwords) 제거\n",
    "- 사전 `word_to_index` 구성\n",
    "- 텍스트 스트링을 사전 인덱스 스트링으로 변환\n",
    "- `X_train`, `y_train`, `X_test`, `y_test`, `word_to_index` 리턴"
   ]
  },
  {
   "cell_type": "markdown",
   "id": "d35cd8dc",
   "metadata": {},
   "source": [
    "### 토크나이징 함수 코드 연습\n",
    "\n",
    "\n",
    "```python\n",
    "train_data.shape\n",
    "\n",
    "import missingno as msno\n",
    "msno.matrix(train_data)\n",
    "\n",
    "for c in train_data.columns:\n",
    "    print('{} : {}'.format(c, len(train_data.loc[pd.isnull(train_data[c]), c].values)))\n",
    "\n",
    "train_data.loc[pd.isnull(train_data[\"document\"]), \"document\"]\n",
    "\n",
    "train_data = train_data.dropna(subset=[\"document\", \"label\"])\n",
    "\n",
    "# 본문과 레이블 값이 모두 동일한 중복치들을 제거한다.\n",
    "train_data = train_data.drop_duplicates(subset=[\"document\", \"label\"]) # , \"label\"\n",
    "\n",
    "train_data\n",
    "\n",
    "mecab = Mecab()\n",
    "mecab.morphs(train_data[\"document\"][4])\n",
    "\n",
    "stopwords_set = set(stopwords)\n",
    "train_tokens = []\n",
    "train_tok_seqs = []\n",
    "train_labels = []\n",
    "for index, row in train_data.iterrows():\n",
    "    # print(row['c1'], row['c2'])\n",
    "    tokens = [t for t in mecab.morphs(row['document']) if not t in stopwords_set]\n",
    "    if len(tokens)==0:\n",
    "        print(\"nothing but stopwords\")\n",
    "        continue\n",
    "    train_tokens += tokens\n",
    "    train_tok_seqs.append(tokens)\n",
    "    train_labels.append(row['label'])\n",
    "\n",
    "print(\n",
    "    f\"train_tokens : {len(train_tokens)}\\n\",\n",
    "    f\"train_tok_seqs : {len(train_tok_seqs)}\\n\",\n",
    "    f\"train_labels :{len(train_labels)}\\n\",\n",
    ")\n",
    "\n",
    "train_tok_seqs[:5]\n",
    "\n",
    "# train 데이터 문장들에 등장한 토큰의 빈도\n",
    "tok_counts = Counter(train_tokens)\n",
    "\n",
    "print(len(tok_counts), tok_counts.most_common(10))\n",
    "# word_to_index\n",
    "\n",
    "index_to_word = {(i+3):t[0] for i, t in enumerate(tok_counts.most_common(num_words))}\n",
    "index_to_word.update({0:'<PAD>', 1:'<BOS>', 2:'<UNK>'})\n",
    "\n",
    "len(index_to_word)\n",
    "\n",
    "word_to_index = {t[0]:(i+3) for i, t in enumerate(tok_counts.most_common(num_words))}\n",
    "word_to_index.update({'<PAD>':0, '<BOS>':1, '<UNK>':2})\n",
    "\n",
    "num_words, word_to_index['영화']\n",
    "\n",
    "train_emb_seqs = []\n",
    "for seq in train_tok_seqs:\n",
    "    emb_seq = [word_to_index.get(t, 2) for t in seq]\n",
    "    train_emb_seqs.append(emb_seq)\n",
    "\n",
    "train_emb_seqs[:5]\n",
    "```"
   ]
  },
  {
   "cell_type": "markdown",
   "id": "177f1187",
   "metadata": {},
   "source": [
    "### 토큰화 후 인덱싱된 문장을 반환하는 함수"
   ]
  },
  {
   "cell_type": "code",
   "execution_count": 3,
   "id": "553f30d5",
   "metadata": {},
   "outputs": [],
   "source": [
    "from konlpy.tag import Mecab\n",
    "from collections import Counter\n",
    "\n",
    "stopwords = ['의','가','이','은','들','는','좀','잘','걍','과','도','를','으로','자','에','와','한','하다']\n",
    "num_words = 10000"
   ]
  },
  {
   "cell_type": "code",
   "execution_count": 4,
   "id": "5f803de9",
   "metadata": {},
   "outputs": [],
   "source": [
    "def mecab_tokenize(train_data=train_data, column='document', target='label',\n",
    "                       stopwords=stopwords):\n",
    "    tokenizer = Mecab()\n",
    "    \n",
    "    stopwords_set = set(stopwords)\n",
    "    train_tok_seqs = []\n",
    "    train_labels = []\n",
    "    for index, row in train_data.iterrows():\n",
    "        # print(row['c1'], row['c2'])\n",
    "        tokens = [t for t in tokenizer.morphs(row[column]) if not t in stopwords_set]\n",
    "        if len(tokens)==0:\n",
    "            print(\"nothing but stopwords\")\n",
    "            continue\n",
    "        train_tok_seqs.append(tokens)\n",
    "        train_labels.append(row[target])\n",
    "    \n",
    "    return train_tok_seqs, train_labels"
   ]
  },
  {
   "cell_type": "code",
   "execution_count": 5,
   "id": "43326372",
   "metadata": {},
   "outputs": [],
   "source": [
    "def load_data(train_data, test_data, num_words=10000):\n",
    "    \n",
    "    # 본문 또는 레이블 값이 없는 결측치들을 제거한다.\n",
    "    train_data = train_data.dropna(subset=[\"document\", \"label\"])\n",
    "    test_data = test_data.dropna(subset=[\"document\", \"label\"])\n",
    "    \n",
    "    # 본문과 레이블 값이 모두 동일한 중복치들을 제거한다.\n",
    "    train_data = train_data.drop_duplicates(subset=[\"document\", \"label\"]) # , \"label\"\n",
    "    test_data = test_data.drop_duplicates(subset=[\"document\", \"label\"]) # , \"label\"\n",
    "    \n",
    "    # KoNLPy 패키지의 MeCab-ko 분석기 클래스 활용\n",
    "    train_tok_seqs, train_labels = mecab_tokenize(train_data, 'document', 'label')\n",
    "    test_tok_seqs, test_labels = mecab_tokenize(test_data, 'document', 'label')\n",
    "\n",
    "    # train 데이터 문장들에 등장한 토큰의 빈도\n",
    "    tok_counts = Counter([t for seq in train_tok_seqs for t in seq])\n",
    "\n",
    "    word_to_index = {t[0]:(i+3) for i, t in enumerate(tok_counts.most_common(num_words))}\n",
    "    word_to_index.update({'<PAD>':0, '<BOS>':1, '<UNK>':2})\n",
    "\n",
    "    train_emb_seqs = []\n",
    "    for seq in train_tok_seqs:\n",
    "        emb_seq = [word_to_index.get(t, 2) for t in seq]\n",
    "        train_emb_seqs.append(emb_seq)\n",
    "\n",
    "    test_emb_seqs = []\n",
    "    for seq in test_tok_seqs:\n",
    "        emb_seq = [word_to_index.get(t, 2) for t in seq]\n",
    "        test_emb_seqs.append(emb_seq)\n",
    "    \n",
    "    # 특성 행렬과 호응을 위해 타겟 백터를 넘파이 자료형으로 변환; 아닐 시 에러 반환\n",
    "    return train_emb_seqs, np.array(train_labels), test_emb_seqs, np.array(test_labels), word_to_index"
   ]
  },
  {
   "cell_type": "code",
   "execution_count": 6,
   "id": "948a9123",
   "metadata": {
    "scrolled": true
   },
   "outputs": [
    {
     "name": "stdout",
     "output_type": "stream",
     "text": [
      "nothing but stopwords\n",
      "nothing but stopwords\n",
      "nothing but stopwords\n",
      "nothing but stopwords\n",
      "nothing but stopwords\n"
     ]
    }
   ],
   "source": [
    "X_train, y_train, X_test, y_test, word_to_index = load_data(train_data, test_data, num_words)"
   ]
  },
  {
   "cell_type": "code",
   "execution_count": 7,
   "id": "a013fa42",
   "metadata": {},
   "outputs": [],
   "source": [
    "index_to_word = {index:word for word, index in word_to_index.items()}"
   ]
  },
  {
   "cell_type": "code",
   "execution_count": 8,
   "id": "ea0d733c",
   "metadata": {},
   "outputs": [],
   "source": [
    "# 문장 1개를 활용할 딕셔너리와 함께 주면, 단어 인덱스 리스트 벡터로 변환해 주는 함수입니다. \n",
    "# 단, 모든 문장은 <BOS>로 시작하는 것으로 합니다. \n",
    "def get_encoded_sentence(sentence, word_to_index):\n",
    "    return [word_to_index['<BOS>']]+[word_to_index[word] if word in word_to_index else word_to_index['<UNK>'] for word in sentence.split()]\n",
    "\n",
    "# 여러 개의 문장 리스트를 한꺼번에 단어 인덱스 리스트 벡터로 encode해 주는 함수입니다. \n",
    "def get_encoded_sentences(sentences, word_to_index):\n",
    "    return [get_encoded_sentence(sentence, word_to_index) for sentence in sentences]\n",
    "\n",
    "# 숫자 벡터로 encode된 문장을 원래대로 decode하는 함수입니다. \n",
    "def get_decoded_sentence(encoded_sentence, index_to_word):\n",
    "    return ' '.join(index_to_word[index] if index in index_to_word else '<UNK>' for index in encoded_sentence[1:])  #[1:]를 통해 <BOS>를 제외\n",
    "\n",
    "# 여러 개의 숫자 벡터로 encode된 문장을 한꺼번에 원래대로 decode하는 함수입니다. \n",
    "def get_decoded_sentences(encoded_sentences, index_to_word):\n",
    "    return [get_decoded_sentence(encoded_sentence, index_to_word) for encoded_sentence in encoded_sentences]"
   ]
  },
  {
   "cell_type": "code",
   "execution_count": 9,
   "id": "17200a7b",
   "metadata": {},
   "outputs": [
    {
     "name": "stdout",
     "output_type": "stream",
     "text": [
      "문장길이 평균 :  15.95564033589379\n",
      "문장길이 최대 :  116\n",
      "문장길이 표준편차 :  12.844422598641373\n",
      "pad_sequences maxlen :  41\n",
      "전체 문장의 0.9343656987388641%가 maxlen 설정값 이내에 포함됩니다. \n"
     ]
    }
   ],
   "source": [
    "total_data_text = X_train + X_test\n",
    "# 텍스트데이터 문장길이의 리스트를 생성한 후\n",
    "num_tokens = [len(tokens) for tokens in total_data_text]\n",
    "num_tokens = np.array(num_tokens)\n",
    "# 문장길이의 평균값, 최대값, 표준편차를 계산해 본다. \n",
    "print('문장길이 평균 : ', np.mean(num_tokens))\n",
    "print('문장길이 최대 : ', np.max(num_tokens))\n",
    "print('문장길이 표준편차 : ', np.std(num_tokens))\n",
    "\n",
    "# 예를들어, 최대 길이를 (평균 + 2*표준편차)로 한다면,  \n",
    "max_tokens = np.mean(num_tokens) + 2 * np.std(num_tokens)\n",
    "maxlen = int(max_tokens)\n",
    "print('pad_sequences maxlen : ', maxlen)\n",
    "print(f'전체 문장의 {np.sum(num_tokens < max_tokens) / len(num_tokens)}%가 maxlen 설정값 이내에 포함됩니다. ')"
   ]
  },
  {
   "cell_type": "code",
   "execution_count": 14,
   "id": "c55b6456",
   "metadata": {},
   "outputs": [
    {
     "name": "stdout",
     "output_type": "stream",
     "text": [
      "(146336, 41)\n"
     ]
    }
   ],
   "source": [
    "X_train = tf.keras.preprocessing.sequence.pad_sequences(X_train,\n",
    "                                                        value=word_to_index[\"<PAD>\"],\n",
    "                                                        padding='post', # 혹은 'pre'\n",
    "                                                        maxlen=maxlen)\n",
    "\n",
    "X_test = tf.keras.preprocessing.sequence.pad_sequences(X_test,\n",
    "                                                       value=word_to_index[\"<PAD>\"],\n",
    "                                                       padding='post', # 혹은 'pre'\n",
    "                                                       maxlen=maxlen)\n",
    "# 이때 X_train은 넘파이 자료형으로 반환 된 상태\n",
    "print(X_train.shape)"
   ]
  },
  {
   "cell_type": "code",
   "execution_count": 15,
   "id": "48141e4f",
   "metadata": {},
   "outputs": [
    {
     "data": {
      "text/plain": [
       "array([[  31,   73,  918, ...,    0,    0,    0],\n",
       "       [1027,    3,   10, ...,    0,    0,    0],\n",
       "       [  23,  204,    2, ...,    0,    0,    0],\n",
       "       ...,\n",
       "       [ 153,    2,   17, ...,    0,    0,    0],\n",
       "       [1051,    4, 2517, ...,    0,    0,    0],\n",
       "       [ 180,    4, 1944, ...,    0,    0,    0]], dtype=int32)"
      ]
     },
     "execution_count": 15,
     "metadata": {},
     "output_type": "execute_result"
    }
   ],
   "source": [
    "X_train"
   ]
  },
  {
   "cell_type": "code",
   "execution_count": 16,
   "id": "d11f46bb",
   "metadata": {},
   "outputs": [],
   "source": [
    "# validation set 30000건 분리\n",
    "x_val = X_train[:30000]   \n",
    "y_val = y_train[:30000]\n",
    "\n",
    "# validation set을 제외한 나머지 116179건\n",
    "partial_x_train = X_train[30000:]  \n",
    "partial_y_train = y_train[30000:]\n",
    "\n",
    "# print(partial_x_train.shape)\n",
    "# print(partial_y_train.shape)"
   ]
  },
  {
   "cell_type": "markdown",
   "id": "7dfbde11",
   "metadata": {},
   "source": [
    "#### LTMS Model Training-Predetion"
   ]
  },
  {
   "cell_type": "code",
   "execution_count": 173,
   "id": "c17344de",
   "metadata": {
    "scrolled": true
   },
   "outputs": [
    {
     "name": "stdout",
     "output_type": "stream",
     "text": [
      "WARNING:tensorflow:Layer lstm_35 will not use cuDNN kernels since it doesn't meet the criteria. It will use a generic GPU kernel as fallback when running on GPU.\n",
      "Epoch 1/20\n",
      "228/228 [==============================] - 23s 44ms/step - loss: 0.6078 - accuracy: 0.6747 - val_loss: 0.4874 - val_accuracy: 0.7914\n",
      "Epoch 2/20\n",
      "228/228 [==============================] - 8s 36ms/step - loss: 0.5269 - accuracy: 0.7850 - val_loss: 0.4860 - val_accuracy: 0.7923\n",
      "Epoch 3/20\n",
      "228/228 [==============================] - 8s 36ms/step - loss: 0.4795 - accuracy: 0.8148 - val_loss: 0.4082 - val_accuracy: 0.8327\n",
      "Epoch 4/20\n",
      "228/228 [==============================] - 8s 36ms/step - loss: 0.4307 - accuracy: 0.8407 - val_loss: 0.3870 - val_accuracy: 0.8386\n",
      "Epoch 5/20\n",
      "228/228 [==============================] - 8s 36ms/step - loss: 0.3982 - accuracy: 0.8522 - val_loss: 0.3701 - val_accuracy: 0.8412\n",
      "Epoch 6/20\n",
      "228/228 [==============================] - 8s 37ms/step - loss: 0.3745 - accuracy: 0.8607 - val_loss: 0.3797 - val_accuracy: 0.8455\n",
      "Epoch 7/20\n",
      "228/228 [==============================] - 8s 37ms/step - loss: 0.3577 - accuracy: 0.8678 - val_loss: 0.3664 - val_accuracy: 0.8447\n",
      "Epoch 8/20\n",
      "228/228 [==============================] - 8s 37ms/step - loss: 0.3434 - accuracy: 0.8710 - val_loss: 0.3612 - val_accuracy: 0.8464\n",
      "Epoch 9/20\n",
      "228/228 [==============================] - 8s 36ms/step - loss: 0.3316 - accuracy: 0.8737 - val_loss: 0.3581 - val_accuracy: 0.8470\n",
      "Epoch 10/20\n",
      "228/228 [==============================] - 8s 36ms/step - loss: 0.3203 - accuracy: 0.8766 - val_loss: 0.3664 - val_accuracy: 0.8469\n",
      "Epoch 11/20\n",
      "228/228 [==============================] - 8s 36ms/step - loss: 0.3089 - accuracy: 0.8803 - val_loss: 0.3596 - val_accuracy: 0.8461\n",
      "Epoch 12/20\n",
      "228/228 [==============================] - 8s 36ms/step - loss: 0.3025 - accuracy: 0.8824 - val_loss: 0.3601 - val_accuracy: 0.8460\n",
      "Epoch 13/20\n",
      "228/228 [==============================] - 8s 37ms/step - loss: 0.2941 - accuracy: 0.8841 - val_loss: 0.3627 - val_accuracy: 0.8458\n",
      "Epoch 14/20\n",
      "228/228 [==============================] - 8s 36ms/step - loss: 0.2861 - accuracy: 0.8870 - val_loss: 0.3812 - val_accuracy: 0.8450\n",
      "Epoch 15/20\n",
      "228/228 [==============================] - 8s 36ms/step - loss: 0.2764 - accuracy: 0.8890 - val_loss: 0.3736 - val_accuracy: 0.8476\n",
      "Epoch 16/20\n",
      "228/228 [==============================] - 8s 36ms/step - loss: 0.2698 - accuracy: 0.8913 - val_loss: 0.3815 - val_accuracy: 0.8464\n",
      "Epoch 17/20\n",
      "228/228 [==============================] - 8s 36ms/step - loss: 0.2641 - accuracy: 0.8926 - val_loss: 0.3923 - val_accuracy: 0.8448\n",
      "Epoch 18/20\n",
      "228/228 [==============================] - 8s 36ms/step - loss: 0.2581 - accuracy: 0.8942 - val_loss: 0.3975 - val_accuracy: 0.8432\n",
      "Epoch 19/20\n",
      "228/228 [==============================] - 8s 37ms/step - loss: 0.2528 - accuracy: 0.8959 - val_loss: 0.4188 - val_accuracy: 0.8437\n",
      "Epoch 20/20\n",
      "228/228 [==============================] - 8s 37ms/step - loss: 0.2465 - accuracy: 0.8975 - val_loss: 0.4192 - val_accuracy: 0.8459\n"
     ]
    }
   ],
   "source": [
    "vocab_size = num_words    # 어휘 사전의 크기입니다(10,000개의 단어)\n",
    "word_vector_dim = 64\n",
    "\n",
    "model = tf.keras.Sequential()\n",
    "\n",
    "model.add(tf.keras.layers.Embedding(vocab_size, word_vector_dim, input_shape=(maxlen,)))\n",
    "model.add(tf.keras.layers.LSTM(32, recurrent_dropout=.5, unroll=True))\n",
    "model.add(tf.keras.layers.Dense(16, activation='relu'))\n",
    "model.add(tf.keras.layers.Dropout(.5)) # 드롭아웃 추가\n",
    "model.add(tf.keras.layers.Dense(1, activation='sigmoid'))  # 최종 출력은 긍정/부정을 나타내는 1dim 입니다.\n",
    "\n",
    "model.compile(\n",
    "    optimizer='adam',loss='binary_crossentropy',metrics=['accuracy'])\n",
    "              \n",
    "epochs=20\n",
    "history = model.fit(partial_x_train,partial_y_train,epochs=epochs,\n",
    "            batch_size=512,validation_data=(x_val, y_val),verbose=1)"
   ]
  },
  {
   "cell_type": "code",
   "execution_count": 177,
   "id": "935955fc",
   "metadata": {},
   "outputs": [
    {
     "data": {
      "image/png": "[encoded data removed]",
      "text/plain": [
       "<Figure size 432x288 with 1 Axes>"
      ]
     },
     "metadata": {
      "needs_background": "light"
     },
     "output_type": "display_data"
    }
   ],
   "source": [
    "history_dict = history.history\n",
    "acc = history_dict['accuracy']\n",
    "val_acc = history_dict['val_accuracy']\n",
    "loss = history_dict['loss']\n",
    "val_loss = history_dict['val_loss']\n",
    "\n",
    "epochs = range(1, len(acc) + 1)\n",
    "\n",
    "# \"bo\"는 \"파란색 점\"입니다\n",
    "plt.plot(epochs, loss, 'bo', label='Training loss')\n",
    "# b는 \"파란 실선\"입니다\n",
    "plt.plot(epochs, val_loss, 'b', label='Validation loss')\n",
    "plt.title('Training and validation loss')\n",
    "plt.xlabel('Epochs')\n",
    "plt.ylabel('Loss')\n",
    "plt.legend()\n",
    "\n",
    "plt.show()"
   ]
  },
  {
   "cell_type": "code",
   "execution_count": 178,
   "id": "6c3ce9e4",
   "metadata": {
    "scrolled": true
   },
   "outputs": [
    {
     "data": {
      "image/png": "[encoded data removed]",
      "text/plain": [
       "<Figure size 432x288 with 1 Axes>"
      ]
     },
     "metadata": {
      "needs_background": "light"
     },
     "output_type": "display_data"
    },
    {
     "name": "stdout",
     "output_type": "stream",
     "text": [
      "1538/1538 - 15s - loss: 0.4224 - accuracy: 0.8430\n",
      "[0.4223518371582031, 0.842994213104248]\n"
     ]
    }
   ],
   "source": [
    "plt.clf()   # 그림을 초기화합니다\n",
    "\n",
    "plt.plot(epochs, acc, 'bo', label='Training acc')\n",
    "plt.plot(epochs, val_acc, 'b', label='Validation acc')\n",
    "plt.title('Training and validation accuracy')\n",
    "plt.xlabel('Epochs')\n",
    "plt.ylabel('Accuracy')\n",
    "plt.legend()\n",
    "\n",
    "plt.show()\n",
    "\n",
    "results = model.evaluate(X_test,  y_test, verbose=2)\n",
    "print(results)"
   ]
  },
  {
   "cell_type": "code",
   "execution_count": 184,
   "id": "b1129162",
   "metadata": {
    "scrolled": true
   },
   "outputs": [
    {
     "name": "stdout",
     "output_type": "stream",
     "text": [
      "1538/1538 - 15s - loss: 0.5217 - accuracy: 0.8393\n",
      "[0.521704912185669, 0.8392544984817505]\n"
     ]
    }
   ],
   "source": [
    "epochs=7 # 최적 적합 지점\n",
    "history = model.fit(partial_x_train,partial_y_train,epochs=epochs,\n",
    "            batch_size=512,validation_data=(x_val, y_val),verbose=0)\n",
    "results = model.evaluate(X_test,  y_test, verbose=2)\n",
    "print(results)"
   ]
  },
  {
   "cell_type": "markdown",
   "id": "3da6df38",
   "metadata": {},
   "source": [
    "#### Conv1D Model Training-Predetion"
   ]
  },
  {
   "cell_type": "code",
   "execution_count": 135,
   "id": "98789e84",
   "metadata": {
    "collapsed": true
   },
   "outputs": [
    {
     "name": "stdout",
     "output_type": "stream",
     "text": [
      "Epoch 1/20\n",
      "228/228 [==============================] - 2s 6ms/step - loss: 0.4648 - accuracy: 0.7804 - val_loss: 0.3498 - val_accuracy: 0.8469\n",
      "Epoch 2/20\n",
      "228/228 [==============================] - 1s 5ms/step - loss: 0.3191 - accuracy: 0.8661 - val_loss: 0.3380 - val_accuracy: 0.8523\n",
      "Epoch 3/20\n",
      "228/228 [==============================] - 1s 5ms/step - loss: 0.2765 - accuracy: 0.8869 - val_loss: 0.3362 - val_accuracy: 0.8549\n",
      "Epoch 4/20\n",
      "228/228 [==============================] - 1s 5ms/step - loss: 0.2315 - accuracy: 0.9105 - val_loss: 0.3569 - val_accuracy: 0.8514\n",
      "Epoch 5/20\n",
      "228/228 [==============================] - 1s 5ms/step - loss: 0.1792 - accuracy: 0.9347 - val_loss: 0.3889 - val_accuracy: 0.8445\n",
      "Epoch 6/20\n",
      "228/228 [==============================] - 1s 5ms/step - loss: 0.1317 - accuracy: 0.9553 - val_loss: 0.4522 - val_accuracy: 0.8402\n",
      "Epoch 7/20\n",
      "228/228 [==============================] - 1s 5ms/step - loss: 0.0943 - accuracy: 0.9694 - val_loss: 0.5144 - val_accuracy: 0.8324\n",
      "Epoch 8/20\n",
      "228/228 [==============================] - 1s 5ms/step - loss: 0.0684 - accuracy: 0.9789 - val_loss: 0.5727 - val_accuracy: 0.8333\n",
      "Epoch 9/20\n",
      "228/228 [==============================] - 1s 5ms/step - loss: 0.0517 - accuracy: 0.9841 - val_loss: 0.6282 - val_accuracy: 0.8309\n",
      "Epoch 10/20\n",
      "228/228 [==============================] - 1s 5ms/step - loss: 0.0406 - accuracy: 0.9877 - val_loss: 0.6966 - val_accuracy: 0.8319\n",
      "Epoch 11/20\n",
      "228/228 [==============================] - 1s 5ms/step - loss: 0.0332 - accuracy: 0.9894 - val_loss: 0.7399 - val_accuracy: 0.8288\n",
      "Epoch 12/20\n",
      "228/228 [==============================] - 1s 5ms/step - loss: 0.0271 - accuracy: 0.9916 - val_loss: 0.8210 - val_accuracy: 0.8273\n",
      "Epoch 13/20\n",
      "228/228 [==============================] - 1s 5ms/step - loss: 0.0238 - accuracy: 0.9924 - val_loss: 0.8746 - val_accuracy: 0.8250\n",
      "Epoch 14/20\n",
      "228/228 [==============================] - 1s 5ms/step - loss: 0.0204 - accuracy: 0.9933 - val_loss: 0.9123 - val_accuracy: 0.8210\n",
      "Epoch 15/20\n",
      "228/228 [==============================] - 1s 5ms/step - loss: 0.0191 - accuracy: 0.9935 - val_loss: 0.9499 - val_accuracy: 0.8228\n",
      "Epoch 16/20\n",
      "228/228 [==============================] - 1s 5ms/step - loss: 0.0188 - accuracy: 0.9936 - val_loss: 0.9864 - val_accuracy: 0.8232\n",
      "Epoch 17/20\n",
      "228/228 [==============================] - 1s 5ms/step - loss: 0.0194 - accuracy: 0.9930 - val_loss: 1.0685 - val_accuracy: 0.8216\n",
      "Epoch 18/20\n",
      "228/228 [==============================] - 1s 5ms/step - loss: 0.0232 - accuracy: 0.9909 - val_loss: 1.1209 - val_accuracy: 0.8207\n",
      "Epoch 19/20\n",
      "228/228 [==============================] - 1s 5ms/step - loss: 0.0297 - accuracy: 0.9890 - val_loss: 1.0622 - val_accuracy: 0.8252\n",
      "Epoch 20/20\n",
      "228/228 [==============================] - 1s 5ms/step - loss: 0.0227 - accuracy: 0.9918 - val_loss: 1.1012 - val_accuracy: 0.8228\n"
     ]
    }
   ],
   "source": [
    "vocab_size = num_words    # 어휘 사전의 크기입니다(10,000개의 단어)\n",
    "word_vector_dim = 64\n",
    "# vocab_size = 10\n",
    "# word_vector_dim = 4\n",
    "\n",
    "\n",
    "model = tf.keras.Sequential()\n",
    "model.add(tf.keras.layers.Embedding(vocab_size, word_vector_dim, input_shape=(None,)))\n",
    "model.add(tf.keras.layers.Conv1D(16, 7, activation='relu'))\n",
    "model.add(tf.keras.layers.MaxPooling1D(5))\n",
    "model.add(tf.keras.layers.Conv1D(16, 7, activation='relu'))\n",
    "model.add(tf.keras.layers.GlobalMaxPooling1D())\n",
    "model.add(tf.keras.layers.Dense(8, activation='relu'))\n",
    "model.add(tf.keras.layers.Dense(1, activation='sigmoid'))  # 최종 출력은 긍정/부정을 나타내는 1dim 입니다.\n",
    "\n",
    "model.compile(\n",
    "    optimizer='adam',loss='binary_crossentropy',metrics=['accuracy'])\n",
    "              \n",
    "epochs=20\n",
    "history = model.fit(partial_x_train,partial_y_train,epochs=epochs,\n",
    "            batch_size=512,validation_data=(x_val, y_val),verbose=1)"
   ]
  },
  {
   "cell_type": "code",
   "execution_count": 136,
   "id": "28fbc6ee",
   "metadata": {},
   "outputs": [
    {
     "name": "stdout",
     "output_type": "stream",
     "text": [
      "dict_keys(['loss', 'accuracy', 'val_loss', 'val_accuracy'])\n"
     ]
    }
   ],
   "source": [
    "history_dict = history.history\n",
    "print(history_dict.keys()) # epoch에 따른 그래프를 그려볼 수 있는 항목들"
   ]
  },
  {
   "cell_type": "code",
   "execution_count": 137,
   "id": "f0473e85",
   "metadata": {},
   "outputs": [
    {
     "data": {
      "image/png": "[encoded data removed]",
      "text/plain": [
       "<Figure size 432x288 with 1 Axes>"
      ]
     },
     "metadata": {
      "needs_background": "light"
     },
     "output_type": "display_data"
    }
   ],
   "source": [
    "import matplotlib.pyplot as plt\n",
    "\n",
    "acc = history_dict['accuracy']\n",
    "val_acc = history_dict['val_accuracy']\n",
    "loss = history_dict['loss']\n",
    "val_loss = history_dict['val_loss']\n",
    "\n",
    "epochs = range(1, len(acc) + 1)\n",
    "\n",
    "# \"bo\"는 \"파란색 점\"입니다\n",
    "plt.plot(epochs, loss, 'bo', label='Training loss')\n",
    "# b는 \"파란 실선\"입니다\n",
    "plt.plot(epochs, val_loss, 'b', label='Validation loss')\n",
    "plt.title('Training and validation loss')\n",
    "plt.xlabel('Epochs')\n",
    "plt.ylabel('Loss')\n",
    "plt.legend()\n",
    "\n",
    "plt.show()"
   ]
  },
  {
   "cell_type": "code",
   "execution_count": 138,
   "id": "c4e2ed13",
   "metadata": {
    "scrolled": true
   },
   "outputs": [
    {
     "data": {
      "image/png": "[encoded data removed]",
      "text/plain": [
       "<Figure size 432x288 with 1 Axes>"
      ]
     },
     "metadata": {
      "needs_background": "light"
     },
     "output_type": "display_data"
    },
    {
     "name": "stdout",
     "output_type": "stream",
     "text": [
      "1538/1538 - 3s - loss: 1.1201 - accuracy: 0.8210\n",
      "[1.1200588941574097, 0.8210031986236572]\n"
     ]
    }
   ],
   "source": [
    "plt.clf()   # 그림을 초기화합니다\n",
    "\n",
    "plt.plot(epochs, acc, 'bo', label='Training acc')\n",
    "plt.plot(epochs, val_acc, 'b', label='Validation acc')\n",
    "plt.title('Training and validation accuracy')\n",
    "plt.xlabel('Epochs')\n",
    "plt.ylabel('Accuracy')\n",
    "plt.legend()\n",
    "\n",
    "plt.show()\n",
    "\n",
    "results = model.evaluate(X_test,  y_test, verbose=2)\n",
    "\n",
    "print(results)"
   ]
  },
  {
   "cell_type": "code",
   "execution_count": 139,
   "id": "3c0145ec",
   "metadata": {},
   "outputs": [
    {
     "name": "stdout",
     "output_type": "stream",
     "text": [
      "1538/1538 - 2s - loss: 1.1950 - accuracy: 0.8203\n",
      "[1.1950390338897705, 0.8202512264251709]\n"
     ]
    }
   ],
   "source": [
    "epochs=3\n",
    "history = model.fit(partial_x_train,partial_y_train,epochs=epochs,\n",
    "            batch_size=512,validation_data=(x_val, y_val),verbose=0)\n",
    "results = model.evaluate(X_test,  y_test, verbose=2)\n",
    "print(results)"
   ]
  },
  {
   "cell_type": "markdown",
   "id": "6b2dc511",
   "metadata": {},
   "source": [
    "#### GlobalMaxPooling1D Model Training-Predetion"
   ]
  },
  {
   "cell_type": "code",
   "execution_count": 211,
   "id": "fa09df0e",
   "metadata": {
    "collapsed": true
   },
   "outputs": [
    {
     "name": "stdout",
     "output_type": "stream",
     "text": [
      "Epoch 1/20\n",
      "227/227 [==============================] - 1s 4ms/step - loss: 0.5270 - accuracy: 0.7776 - val_loss: 0.3724 - val_accuracy: 0.8372\n",
      "Epoch 2/20\n",
      "227/227 [==============================] - 1s 4ms/step - loss: 0.3355 - accuracy: 0.8562 - val_loss: 0.3406 - val_accuracy: 0.8493\n",
      "Epoch 3/20\n",
      "227/227 [==============================] - 1s 4ms/step - loss: 0.2883 - accuracy: 0.8801 - val_loss: 0.3389 - val_accuracy: 0.8524\n",
      "Epoch 4/20\n",
      "227/227 [==============================] - 1s 4ms/step - loss: 0.2554 - accuracy: 0.8967 - val_loss: 0.3472 - val_accuracy: 0.8521\n",
      "Epoch 5/20\n",
      "227/227 [==============================] - 1s 4ms/step - loss: 0.2265 - accuracy: 0.9110 - val_loss: 0.3609 - val_accuracy: 0.8524\n",
      "Epoch 6/20\n",
      "227/227 [==============================] - 1s 4ms/step - loss: 0.1987 - accuracy: 0.9248 - val_loss: 0.3780 - val_accuracy: 0.8502\n",
      "Epoch 7/20\n",
      "227/227 [==============================] - 1s 4ms/step - loss: 0.1723 - accuracy: 0.9370 - val_loss: 0.4005 - val_accuracy: 0.8463\n",
      "Epoch 8/20\n",
      "227/227 [==============================] - 1s 4ms/step - loss: 0.1471 - accuracy: 0.9490 - val_loss: 0.4270 - val_accuracy: 0.8448\n",
      "Epoch 9/20\n",
      "227/227 [==============================] - 1s 4ms/step - loss: 0.1243 - accuracy: 0.9587 - val_loss: 0.4597 - val_accuracy: 0.8410\n",
      "Epoch 10/20\n",
      "227/227 [==============================] - 1s 4ms/step - loss: 0.1039 - accuracy: 0.9670 - val_loss: 0.4908 - val_accuracy: 0.8382\n",
      "Epoch 11/20\n",
      "227/227 [==============================] - 1s 4ms/step - loss: 0.0863 - accuracy: 0.9741 - val_loss: 0.5287 - val_accuracy: 0.8357\n",
      "Epoch 12/20\n",
      "227/227 [==============================] - 1s 4ms/step - loss: 0.0716 - accuracy: 0.9795 - val_loss: 0.5638 - val_accuracy: 0.8340\n",
      "Epoch 13/20\n",
      "227/227 [==============================] - 1s 4ms/step - loss: 0.0598 - accuracy: 0.9834 - val_loss: 0.5997 - val_accuracy: 0.8299\n",
      "Epoch 14/20\n",
      "227/227 [==============================] - 1s 4ms/step - loss: 0.0493 - accuracy: 0.9869 - val_loss: 0.6356 - val_accuracy: 0.8305\n",
      "Epoch 15/20\n",
      "227/227 [==============================] - 1s 4ms/step - loss: 0.0409 - accuracy: 0.9894 - val_loss: 0.6742 - val_accuracy: 0.8295\n",
      "Epoch 16/20\n",
      "227/227 [==============================] - 1s 4ms/step - loss: 0.0344 - accuracy: 0.9909 - val_loss: 0.7132 - val_accuracy: 0.8273\n",
      "Epoch 17/20\n",
      "227/227 [==============================] - 1s 4ms/step - loss: 0.0292 - accuracy: 0.9925 - val_loss: 0.7500 - val_accuracy: 0.8254\n",
      "Epoch 18/20\n",
      "227/227 [==============================] - 1s 4ms/step - loss: 0.0249 - accuracy: 0.9938 - val_loss: 0.7851 - val_accuracy: 0.8263\n",
      "Epoch 19/20\n",
      "227/227 [==============================] - 1s 4ms/step - loss: 0.0213 - accuracy: 0.9943 - val_loss: 0.8235 - val_accuracy: 0.8218\n",
      "Epoch 20/20\n",
      "227/227 [==============================] - 1s 4ms/step - loss: 0.0185 - accuracy: 0.9951 - val_loss: 0.8558 - val_accuracy: 0.8248\n"
     ]
    }
   ],
   "source": [
    "vocab_size = num_words    # 어휘 사전의 크기입니다(10,000개의 단어)\n",
    "word_vector_dim = 64\n",
    "\n",
    "model = tf.keras.Sequential()\n",
    "model.add(tf.keras.layers.Embedding(vocab_size, word_vector_dim, input_shape=(None,)))\n",
    "model.add(tf.keras.layers.GlobalMaxPooling1D())\n",
    "model.add(tf.keras.layers.Dense(8, activation='relu'))\n",
    "model.add(tf.keras.layers.Dense(1, activation='sigmoid'))  # 최종 출력은 긍정/부정을 나타내는 1dim 입니다.\n",
    "\n",
    "model.compile(\n",
    "    optimizer='adam',loss='binary_crossentropy',metrics=['accuracy'])\n",
    "              \n",
    "epochs=20\n",
    "history = model.fit(partial_x_train,partial_y_train,epochs=epochs,\n",
    "            batch_size=512,validation_data=(x_val, y_val),verbose=1)"
   ]
  },
  {
   "cell_type": "code",
   "execution_count": 212,
   "id": "a4103f2f",
   "metadata": {},
   "outputs": [
    {
     "name": "stdout",
     "output_type": "stream",
     "text": [
      "dict_keys(['loss', 'accuracy', 'val_loss', 'val_accuracy'])\n"
     ]
    }
   ],
   "source": [
    "history_dict = history.history\n",
    "print(history_dict.keys()) # epoch에 따른 그래프를 그려볼 수 있는 항목들"
   ]
  },
  {
   "cell_type": "code",
   "execution_count": 213,
   "id": "21d7e0bb",
   "metadata": {},
   "outputs": [
    {
     "data": {
      "image/png": "[encoded data removed]",
      "text/plain": [
       "<Figure size 432x288 with 1 Axes>"
      ]
     },
     "metadata": {
      "needs_background": "light"
     },
     "output_type": "display_data"
    }
   ],
   "source": [
    "import matplotlib.pyplot as plt\n",
    "\n",
    "acc = history_dict['accuracy']\n",
    "val_acc = history_dict['val_accuracy']\n",
    "loss = history_dict['loss']\n",
    "val_loss = history_dict['val_loss']\n",
    "\n",
    "epochs = range(1, len(acc) + 1)\n",
    "\n",
    "# \"bo\"는 \"파란색 점\"입니다\n",
    "plt.plot(epochs, loss, 'bo', label='Training loss')\n",
    "# b는 \"파란 실선\"입니다\n",
    "plt.plot(epochs, val_loss, 'b', label='Validation loss')\n",
    "plt.title('Training and validation loss')\n",
    "plt.xlabel('Epochs')\n",
    "plt.ylabel('Loss')\n",
    "plt.legend()\n",
    "\n",
    "plt.show()"
   ]
  },
  {
   "cell_type": "code",
   "execution_count": 214,
   "id": "8aad8b2f",
   "metadata": {},
   "outputs": [
    {
     "data": {
      "image/png": "[encoded data removed]",
      "text/plain": [
       "<Figure size 432x288 with 1 Axes>"
      ]
     },
     "metadata": {
      "needs_background": "light"
     },
     "output_type": "display_data"
    },
    {
     "name": "stdout",
     "output_type": "stream",
     "text": [
      "1538/1538 - 2s - loss: 0.8595 - accuracy: 0.8209\n",
      "[0.8595306873321533, 0.8208609223365784]\n"
     ]
    }
   ],
   "source": [
    "plt.clf()   # 그림을 초기화합니다\n",
    "\n",
    "plt.plot(epochs, acc, 'bo', label='Training acc')\n",
    "plt.plot(epochs, val_acc, 'b', label='Validation acc')\n",
    "plt.title('Training and validation accuracy')\n",
    "plt.xlabel('Epochs')\n",
    "plt.ylabel('Accuracy')\n",
    "plt.legend()\n",
    "\n",
    "plt.show()\n",
    "\n",
    "results = model.evaluate(X_test,  y_test, verbose=2)\n",
    "\n",
    "print(results)"
   ]
  },
  {
   "cell_type": "markdown",
   "id": "5f2509f7",
   "metadata": {},
   "source": [
    "### 임베딩 벡터 추출"
   ]
  },
  {
   "cell_type": "code",
   "execution_count": 185,
   "id": "43066435",
   "metadata": {},
   "outputs": [
    {
     "name": "stdout",
     "output_type": "stream",
     "text": [
      "(10000, 64)\n"
     ]
    }
   ],
   "source": [
    "embedding_layer = model.layers[0]\n",
    "weights = embedding_layer.get_weights()[0]\n",
    "print(weights.shape)    # shape: (vocab_size, embedding_dim)b"
   ]
  },
  {
   "cell_type": "code",
   "execution_count": 186,
   "id": "36484acc",
   "metadata": {},
   "outputs": [
    {
     "data": {
      "text/plain": [
       "10000"
      ]
     },
     "execution_count": 186,
     "metadata": {},
     "output_type": "execute_result"
    }
   ],
   "source": [
    "vectors = model.get_weights()[0]\n",
    "len(vectors)"
   ]
  },
  {
   "cell_type": "code",
   "execution_count": 187,
   "id": "734b6e56",
   "metadata": {},
   "outputs": [],
   "source": [
    "word2vec_file_path = os.getenv('HOME')+'/aiffel/sentiment_classification/data/word2vec_kor.txt'\n",
    "\n",
    "with open(word2vec_file_path, 'w') as f:\n",
    "    f.write('{} {}\\n'.format(vocab_size-4, word_vector_dim)) \n",
    "    vectors = model.get_weights()[0]\n",
    "    for i in range(4,vocab_size):\n",
    "        f.write('{} {}\\n'.format(index_to_word[i], ' '.join(map(str, list(vectors[i, :])))))"
   ]
  },
  {
   "cell_type": "code",
   "execution_count": 188,
   "id": "eedf3a27",
   "metadata": {
    "scrolled": true
   },
   "outputs": [
    {
     "data": {
      "text/plain": [
       "array([-0.0633241 , -0.03915964,  0.11795199, -0.0052815 ,  0.04227443,\n",
       "       -0.06000474, -0.05582763,  0.01987036, -0.0112064 ,  0.07230794,\n",
       "       -0.04851288, -0.08225393,  0.03454892,  0.04138022, -0.01028074,\n",
       "        0.04797602, -0.01152341, -0.01748088,  0.03982136, -0.09611604,\n",
       "       -0.04576351,  0.04005467, -0.01362292, -0.02546351, -0.02595228,\n",
       "        0.01227347, -0.0315112 ,  0.03192014,  0.08520109, -0.00285222,\n",
       "       -0.05756396,  0.00276829, -0.04961812,  0.05820467,  0.03897576,\n",
       "        0.00558604, -0.05525676, -0.11419272, -0.02109938,  0.00322495,\n",
       "       -0.11719435,  0.02697829, -0.00257999,  0.11228397, -0.00368758,\n",
       "        0.06625979,  0.02308918,  0.03489112,  0.01761463, -0.13628878,\n",
       "        0.05643692, -0.00847419,  0.0226559 , -0.0225627 ,  0.04344964,\n",
       "        0.04664984,  0.00376097,  0.10092533, -0.03697559, -0.02482015,\n",
       "        0.05239385, -0.02116383, -0.04918092, -0.01290834], dtype=float32)"
      ]
     },
     "execution_count": 188,
     "metadata": {},
     "output_type": "execute_result"
    }
   ],
   "source": [
    "from gensim.models.keyedvectors import Word2VecKeyedVectors\n",
    "\n",
    "word_vectors_lstm = Word2VecKeyedVectors.load_word2vec_format(word2vec_file_path, binary=False)\n",
    "vector = word_vectors_lstm['영화']\n",
    "vector"
   ]
  },
  {
   "cell_type": "code",
   "execution_count": 189,
   "id": "8a3fde1a",
   "metadata": {
    "scrolled": true
   },
   "outputs": [
    {
     "data": {
      "text/plain": [
       "[('망각', 0.8039290904998779),\n",
       " ('긴장감', 0.8004361987113953),\n",
       " ('퍼센트', 0.7974274158477783),\n",
       " ('따르', 0.7803413271903992),\n",
       " ('아무거', 0.7792147397994995),\n",
       " ('했으니', 0.7748521566390991),\n",
       " ('각종', 0.7657678723335266),\n",
       " ('보트', 0.7647290229797363),\n",
       " ('대화', 0.7633835673332214),\n",
       " ('몰입', 0.7610213160514832)]"
      ]
     },
     "execution_count": 189,
     "metadata": {},
     "output_type": "execute_result"
    }
   ],
   "source": [
    "word_vectors_lstm.similar_by_word(\"재미\")"
   ]
  },
  {
   "cell_type": "markdown",
   "id": "ec65f6bd",
   "metadata": {},
   "source": [
    "### Google pretrained word embedding model"
   ]
  },
  {
   "cell_type": "code",
   "execution_count": 221,
   "id": "28a08b9b",
   "metadata": {},
   "outputs": [
    {
     "data": {
      "text/plain": [
       "0"
      ]
     },
     "execution_count": 221,
     "metadata": {},
     "output_type": "execute_result"
    }
   ],
   "source": [
    "os.system(\"ln -s ~/data/word2vec_ko* ~/aiffel/sentiment_classification/data\")"
   ]
  },
  {
   "cell_type": "code",
   "execution_count": 47,
   "id": "793ae1c4",
   "metadata": {},
   "outputs": [
    {
     "data": {
      "text/plain": [
       "array([-1.8007389 , -1.1790098 , -2.4066596 ,  2.1384156 , -0.3537603 ,\n",
       "        1.3749527 , -4.894612  , -3.6517198 ,  0.4411444 ,  0.78153926,\n",
       "       -2.696888  , -1.7812852 , -2.1514654 , -4.813236  ,  2.7465918 ,\n",
       "       -2.1620324 , -0.11467794, -1.2431171 ,  2.3979309 , -1.1060628 ,\n",
       "       -0.41043055,  1.9500391 ,  0.7821002 ,  1.5899978 ,  1.6447444 ,\n",
       "       -2.1265035 , -1.7981595 ,  1.7535795 ,  0.53717697, -1.212121  ,\n",
       "       -4.466316  ,  4.5488324 ,  1.334441  , -0.9070271 ,  1.1931889 ,\n",
       "        4.1563215 ,  1.9758307 , -0.9437562 , -0.2592725 ,  0.34935686,\n",
       "        1.8562875 , -3.3249645 ,  1.1221625 ,  1.2836524 ,  3.9211376 ,\n",
       "        3.8023994 ,  2.766269  ,  0.67293745,  2.2853644 , -5.1131716 ,\n",
       "        0.32525915, -3.3079958 ,  5.3043513 , -3.8813758 , -0.32960036,\n",
       "       -1.9527504 ,  3.8865075 , -3.5470378 , -0.21991685,  0.82119733,\n",
       "       -0.9492492 ,  3.5472107 ,  1.322048  , -0.70640826,  0.52253807,\n",
       "        1.4683235 , -1.1018689 ,  2.262941  , -0.7204685 , -1.766201  ,\n",
       "        5.2237577 ,  3.0748682 ,  1.0977576 ,  3.3191733 , -0.4100423 ,\n",
       "       -1.7022891 , -0.78379875,  0.82586575, -0.54520637,  1.2355382 ,\n",
       "        2.02674   , -0.652447  ,  1.0866054 ,  0.8977641 ,  0.7928342 ,\n",
       "        3.7770627 ,  3.0274863 ,  5.1660023 ,  2.6461644 ,  2.8926868 ,\n",
       "        1.970944  , -3.3746543 , -5.2656593 , -1.1041485 ,  2.357547  ,\n",
       "       -2.3570824 , -4.8172383 ,  3.7290223 ,  4.62329   ,  1.5004613 ],\n",
       "      dtype=float32)"
      ]
     },
     "execution_count": 47,
     "metadata": {},
     "output_type": "execute_result"
    }
   ],
   "source": [
    "word2vec_path = os.getenv('HOME')+'/aiffel/sentiment_classification/data/word2vec_ko.model'\n",
    "# word2vec = KeyedVectors.load_word2vec_format(word2vec_path, binary=True, limit=1000000)\n",
    "word_vectors = Word2VecKeyedVectors.load(word2vec_path)\n",
    "\n",
    "vector = word_vectors.wv['영화']\n",
    "vec_size = len(vector)\n",
    "vector"
   ]
  },
  {
   "cell_type": "code",
   "execution_count": 45,
   "id": "ccc898f7",
   "metadata": {},
   "outputs": [
    {
     "data": {
      "text/plain": [
       "[('묘미', 0.6163142919540405),\n",
       " ('취미', 0.6034970283508301),\n",
       " ('흥미', 0.5939850211143494),\n",
       " ('유머', 0.5888698101043701),\n",
       " ('보람', 0.5689517259597778),\n",
       " ('즐거움', 0.5631207823753357),\n",
       " ('개그', 0.5552946329116821),\n",
       " ('이야기', 0.5536993741989136),\n",
       " ('연애', 0.552293598651886),\n",
       " ('열의', 0.546456515789032)]"
      ]
     },
     "execution_count": 45,
     "metadata": {},
     "output_type": "execute_result"
    }
   ],
   "source": [
    "word_vectors.wv.similar_by_word('재미')"
   ]
  },
  {
   "cell_type": "markdown",
   "id": "53ca9070",
   "metadata": {},
   "source": [
    "### 사전학습 임베딩을 이용한 전이 학습"
   ]
  },
  {
   "cell_type": "code",
   "execution_count": 52,
   "id": "9addbb66",
   "metadata": {},
   "outputs": [],
   "source": [
    "vocab_size = 10000    # 어휘 사전의 크기입니다(10,000개의 단어)\n",
    "word_vector_dim = vec_size  # 워드 벡터의 차원수\n",
    "embedding_matrix = np.random.rand(vocab_size, word_vector_dim)\n",
    "\n",
    "# embedding_matrix에 Word2Vec 워드 벡터를 단어 하나씩마다 차례차례 카피한다.\n",
    "for i in range(4,vocab_size):\n",
    "    if index_to_word[i] in word_vectors.wv:\n",
    "        embedding_matrix[i] = word_vectors.wv[index_to_word[i]]"
   ]
  },
  {
   "cell_type": "code",
   "execution_count": 53,
   "id": "954afc57",
   "metadata": {},
   "outputs": [],
   "source": [
    "from tensorflow.keras.initializers import Constant"
   ]
  },
  {
   "cell_type": "markdown",
   "id": "c8176583",
   "metadata": {},
   "source": [
    "#### Conv1D 층을 이용한 전이 학습"
   ]
  },
  {
   "cell_type": "code",
   "execution_count": 125,
   "id": "f96abb65",
   "metadata": {},
   "outputs": [],
   "source": [
    "model = tf.keras.Sequential()\n",
    "model.add(tf.keras.layers.Embedding(vocab_size, \n",
    "                                 word_vector_dim, \n",
    "                                 embeddings_initializer=Constant(embedding_matrix),  # 카피한 임베딩을 여기서 활용\n",
    "                                 input_length=maxlen, \n",
    "                                 trainable=True))   # trainable을 True로 주면 Fine-tuning\n",
    "model.add(tf.keras.layers.Conv1D(64, 7, activation='relu'))\n",
    "model.add(tf.keras.layers.MaxPooling1D(5))\n",
    "model.add(tf.keras.layers.Conv1D(32, 7, activation='relu'))\n",
    "model.add(tf.keras.layers.GlobalMaxPooling1D())\n",
    "model.add(tf.keras.layers.Dropout(.5))\n",
    "model.add(tf.keras.layers.Dense(8, activation='relu'))\n",
    "model.add(tf.keras.layers.Dense(1, activation='sigmoid')) "
   ]
  },
  {
   "cell_type": "code",
   "execution_count": 126,
   "id": "5d72ca28",
   "metadata": {
    "collapsed": true
   },
   "outputs": [
    {
     "name": "stdout",
     "output_type": "stream",
     "text": [
      "Epoch 1/20\n",
      "228/228 [==============================] - 3s 9ms/step - loss: 0.6772 - accuracy: 0.5551 - val_loss: 0.5893 - val_accuracy: 0.7156\n",
      "Epoch 2/20\n",
      "228/228 [==============================] - 2s 7ms/step - loss: 0.5405 - accuracy: 0.7253 - val_loss: 0.4588 - val_accuracy: 0.7877\n",
      "Epoch 3/20\n",
      "228/228 [==============================] - 2s 7ms/step - loss: 0.4349 - accuracy: 0.8046 - val_loss: 0.4085 - val_accuracy: 0.8166\n",
      "Epoch 4/20\n",
      "228/228 [==============================] - 2s 7ms/step - loss: 0.3811 - accuracy: 0.8336 - val_loss: 0.3812 - val_accuracy: 0.8333\n",
      "Epoch 5/20\n",
      "228/228 [==============================] - 2s 7ms/step - loss: 0.3448 - accuracy: 0.8528 - val_loss: 0.3618 - val_accuracy: 0.8404\n",
      "Epoch 6/20\n",
      "228/228 [==============================] - 2s 7ms/step - loss: 0.3182 - accuracy: 0.8667 - val_loss: 0.3528 - val_accuracy: 0.8429\n",
      "Epoch 7/20\n",
      "228/228 [==============================] - 2s 7ms/step - loss: 0.2965 - accuracy: 0.8776 - val_loss: 0.3509 - val_accuracy: 0.8465\n",
      "Epoch 8/20\n",
      "228/228 [==============================] - 2s 7ms/step - loss: 0.2790 - accuracy: 0.8863 - val_loss: 0.3501 - val_accuracy: 0.8470\n",
      "Epoch 9/20\n",
      "228/228 [==============================] - 2s 7ms/step - loss: 0.2585 - accuracy: 0.8962 - val_loss: 0.3532 - val_accuracy: 0.8472\n",
      "Epoch 10/20\n",
      "228/228 [==============================] - 2s 7ms/step - loss: 0.2424 - accuracy: 0.9044 - val_loss: 0.3680 - val_accuracy: 0.8443\n",
      "Epoch 11/20\n",
      "228/228 [==============================] - 2s 7ms/step - loss: 0.2279 - accuracy: 0.9105 - val_loss: 0.3585 - val_accuracy: 0.8488\n",
      "Epoch 12/20\n",
      "228/228 [==============================] - 2s 7ms/step - loss: 0.2115 - accuracy: 0.9186 - val_loss: 0.3913 - val_accuracy: 0.8392\n",
      "Epoch 13/20\n",
      "228/228 [==============================] - 2s 7ms/step - loss: 0.1988 - accuracy: 0.9236 - val_loss: 0.3736 - val_accuracy: 0.8441\n",
      "Epoch 14/20\n",
      "228/228 [==============================] - 2s 7ms/step - loss: 0.1851 - accuracy: 0.9304 - val_loss: 0.3940 - val_accuracy: 0.8427\n",
      "Epoch 15/20\n",
      "228/228 [==============================] - 2s 7ms/step - loss: 0.1728 - accuracy: 0.9365 - val_loss: 0.4248 - val_accuracy: 0.8369\n",
      "Epoch 16/20\n",
      "228/228 [==============================] - 2s 7ms/step - loss: 0.1603 - accuracy: 0.9400 - val_loss: 0.4220 - val_accuracy: 0.8399\n",
      "Epoch 17/20\n",
      "228/228 [==============================] - 2s 7ms/step - loss: 0.1525 - accuracy: 0.9440 - val_loss: 0.4222 - val_accuracy: 0.8417\n",
      "Epoch 18/20\n",
      "228/228 [==============================] - 2s 7ms/step - loss: 0.1448 - accuracy: 0.9472 - val_loss: 0.4881 - val_accuracy: 0.8363\n",
      "Epoch 19/20\n",
      "228/228 [==============================] - 2s 7ms/step - loss: 0.1336 - accuracy: 0.9516 - val_loss: 0.4663 - val_accuracy: 0.8380\n",
      "Epoch 20/20\n",
      "228/228 [==============================] - 2s 7ms/step - loss: 0.1254 - accuracy: 0.9548 - val_loss: 0.4762 - val_accuracy: 0.8369\n"
     ]
    }
   ],
   "source": [
    "model.compile(optimizer='adam',loss='binary_crossentropy',metrics=['accuracy'])\n",
    "              \n",
    "epochs=20\n",
    "history = model.fit(partial_x_train,partial_y_train,epochs=epochs,\n",
    "            batch_size=512,validation_data=(x_val, y_val),verbose=1)"
   ]
  },
  {
   "cell_type": "code",
   "execution_count": 127,
   "id": "bfcd4417",
   "metadata": {
    "collapsed": true
   },
   "outputs": [
    {
     "data": {
      "image/png": "[encoded data removed]",
      "text/plain": [
       "<Figure size 432x288 with 1 Axes>"
      ]
     },
     "metadata": {
      "needs_background": "light"
     },
     "output_type": "display_data"
    }
   ],
   "source": [
    "history_dict = history.history\n",
    "acc = history_dict['accuracy']\n",
    "val_acc = history_dict['val_accuracy']\n",
    "loss = history_dict['loss']\n",
    "val_loss = history_dict['val_loss']\n",
    "\n",
    "epochs = range(1, len(acc) + 1)\n",
    "\n",
    "# \"bo\"는 \"파란색 점\"입니다\n",
    "plt.plot(epochs, loss, 'bo', label='Training loss')\n",
    "# b는 \"파란 실선\"입니다\n",
    "plt.plot(epochs, val_loss, 'b', label='Validation loss')\n",
    "plt.title('Training and validation loss')\n",
    "plt.xlabel('Epochs')\n",
    "plt.ylabel('Loss')\n",
    "plt.legend()\n",
    "\n",
    "plt.show()"
   ]
  },
  {
   "cell_type": "code",
   "execution_count": 128,
   "id": "2e7f7e56",
   "metadata": {
    "scrolled": false
   },
   "outputs": [
    {
     "data": {
      "image/png": "[encoded data removed]",
      "text/plain": [
       "<Figure size 432x288 with 1 Axes>"
      ]
     },
     "metadata": {
      "needs_background": "light"
     },
     "output_type": "display_data"
    },
    {
     "name": "stdout",
     "output_type": "stream",
     "text": [
      "1538/1538 - 3s - loss: 0.4907 - accuracy: 0.8325\n",
      "[0.4907437562942505, 0.832466185092926]\n"
     ]
    }
   ],
   "source": [
    "plt.clf()   # 그림을 초기화합니다\n",
    "\n",
    "plt.plot(epochs, acc, 'bo', label='Training acc')\n",
    "plt.plot(epochs, val_acc, 'b', label='Validation acc')\n",
    "plt.title('Training and validation accuracy')\n",
    "plt.xlabel('Epochs')\n",
    "plt.ylabel('Accuracy')\n",
    "plt.legend()\n",
    "\n",
    "plt.show()\n",
    "\n",
    "results = model.evaluate(X_test,  y_test, verbose=2)\n",
    "print(results)"
   ]
  },
  {
   "cell_type": "markdown",
   "id": "8873604b",
   "metadata": {},
   "source": [
    "#### LSTM 층을 이용한 전이 학습"
   ]
  },
  {
   "cell_type": "code",
   "execution_count": 115,
   "id": "b2ac57f4",
   "metadata": {
    "collapsed": true
   },
   "outputs": [
    {
     "name": "stdout",
     "output_type": "stream",
     "text": [
      "WARNING:tensorflow:Layer gru will not use cuDNN kernels since it doesn't meet the criteria. It will use a generic GPU kernel as fallback when running on GPU.\n",
      "WARNING:tensorflow:Layer gru_1 will not use cuDNN kernels since it doesn't meet the criteria. It will use a generic GPU kernel as fallback when running on GPU.\n",
      "Model: \"sequential_17\"\n",
      "_________________________________________________________________\n",
      "Layer (type)                 Output Shape              Param #   \n",
      "=================================================================\n",
      "embedding_30 (Embedding)     (None, 41, 100)           1000000   \n",
      "_________________________________________________________________\n",
      "gru (GRU)                    (None, 41, 32)            12864     \n",
      "_________________________________________________________________\n",
      "gru_1 (GRU)                  (None, 32)                6336      \n",
      "_________________________________________________________________\n",
      "dropout_15 (Dropout)         (None, 32)                0         \n",
      "_________________________________________________________________\n",
      "dense_42 (Dense)             (None, 16)                528       \n",
      "_________________________________________________________________\n",
      "dense_43 (Dense)             (None, 1)                 17        \n",
      "=================================================================\n",
      "Total params: 1,019,745\n",
      "Trainable params: 1,019,745\n",
      "Non-trainable params: 0\n",
      "_________________________________________________________________\n"
     ]
    }
   ],
   "source": [
    "model = tf.keras.Sequential()\n",
    "model.add(tf.keras.layers.Embedding(vocab_size, word_vector_dim, \n",
    "                 embeddings_initializer=Constant(embedding_matrix),  \n",
    "                 input_length=maxlen, trainable=True)) # trainable을 True로 주면 Fine-tuning\n",
    "# 순환 드롭아웃 기법 활용, w. unrolling the layer\n",
    "model.add(tf.keras.layers.LSTM(32, recurrent_dropout=.5, unroll=True))\n",
    "# 드롭아웃 기법 활용\n",
    "model.add(tf.keras.layers.Dropout(.5))\n",
    "model.add(tf.keras.layers.Dense(16, activation='relu'))\n",
    "model.add(tf.keras.layers.Dense(1, activation='sigmoid'))  # 최종 출력은 긍정/부정을 나타내는 1dim 입니다.\n",
    "model.summary()\n",
    "model.compile(optimizer='adam',loss='binary_crossentropy',metrics=['accuracy'])"
   ]
  },
  {
   "cell_type": "code",
   "execution_count": 116,
   "id": "e4db838c",
   "metadata": {
    "collapsed": true
   },
   "outputs": [
    {
     "name": "stdout",
     "output_type": "stream",
     "text": [
      "Epoch 1/20\n",
      "228/228 [==============================] - 55s 93ms/step - loss: 0.6923 - accuracy: 0.5093 - val_loss: 0.6857 - val_accuracy: 0.5212\n",
      "Epoch 2/20\n",
      "228/228 [==============================] - 16s 70ms/step - loss: 0.5233 - accuracy: 0.7380 - val_loss: 0.3966 - val_accuracy: 0.8216\n",
      "Epoch 3/20\n",
      "228/228 [==============================] - 16s 71ms/step - loss: 0.3821 - accuracy: 0.8337 - val_loss: 0.3508 - val_accuracy: 0.8454\n",
      "Epoch 4/20\n",
      "228/228 [==============================] - 16s 70ms/step - loss: 0.3426 - accuracy: 0.8538 - val_loss: 0.3350 - val_accuracy: 0.8526\n",
      "Epoch 5/20\n",
      "228/228 [==============================] - 16s 71ms/step - loss: 0.3192 - accuracy: 0.8656 - val_loss: 0.3325 - val_accuracy: 0.8536\n",
      "Epoch 6/20\n",
      "228/228 [==============================] - 16s 70ms/step - loss: 0.3032 - accuracy: 0.8739 - val_loss: 0.3276 - val_accuracy: 0.8577\n",
      "Epoch 7/20\n",
      "228/228 [==============================] - 16s 71ms/step - loss: 0.2897 - accuracy: 0.8794 - val_loss: 0.3262 - val_accuracy: 0.8594\n",
      "Epoch 8/20\n",
      "228/228 [==============================] - 16s 70ms/step - loss: 0.2788 - accuracy: 0.8862 - val_loss: 0.3292 - val_accuracy: 0.8600\n",
      "Epoch 9/20\n",
      "228/228 [==============================] - 16s 70ms/step - loss: 0.2697 - accuracy: 0.8906 - val_loss: 0.3314 - val_accuracy: 0.8596\n",
      "Epoch 10/20\n",
      "228/228 [==============================] - 16s 70ms/step - loss: 0.2603 - accuracy: 0.8946 - val_loss: 0.3338 - val_accuracy: 0.8590\n",
      "Epoch 11/20\n",
      "228/228 [==============================] - 16s 71ms/step - loss: 0.2511 - accuracy: 0.8985 - val_loss: 0.3397 - val_accuracy: 0.8591\n",
      "Epoch 12/20\n",
      "228/228 [==============================] - 16s 70ms/step - loss: 0.2428 - accuracy: 0.9030 - val_loss: 0.3411 - val_accuracy: 0.8583\n",
      "Epoch 13/20\n",
      "228/228 [==============================] - 16s 70ms/step - loss: 0.2365 - accuracy: 0.9066 - val_loss: 0.3532 - val_accuracy: 0.8570\n",
      "Epoch 14/20\n",
      "228/228 [==============================] - 16s 70ms/step - loss: 0.2279 - accuracy: 0.9103 - val_loss: 0.3603 - val_accuracy: 0.8578\n",
      "Epoch 15/20\n",
      "228/228 [==============================] - 16s 70ms/step - loss: 0.2224 - accuracy: 0.9127 - val_loss: 0.3652 - val_accuracy: 0.8560\n",
      "Epoch 16/20\n",
      "228/228 [==============================] - 16s 70ms/step - loss: 0.2150 - accuracy: 0.9156 - val_loss: 0.3767 - val_accuracy: 0.8533\n",
      "Epoch 17/20\n",
      "228/228 [==============================] - 16s 71ms/step - loss: 0.2093 - accuracy: 0.9188 - val_loss: 0.3837 - val_accuracy: 0.8553\n",
      "Epoch 18/20\n",
      "228/228 [==============================] - 16s 71ms/step - loss: 0.2034 - accuracy: 0.9209 - val_loss: 0.3949 - val_accuracy: 0.8551\n",
      "Epoch 19/20\n",
      "228/228 [==============================] - 16s 70ms/step - loss: 0.1967 - accuracy: 0.9244 - val_loss: 0.4056 - val_accuracy: 0.8532\n",
      "Epoch 20/20\n",
      "228/228 [==============================] - 16s 70ms/step - loss: 0.1927 - accuracy: 0.9254 - val_loss: 0.4108 - val_accuracy: 0.8527\n"
     ]
    }
   ],
   "source": [
    "epochs=20\n",
    "history = model.fit(partial_x_train,partial_y_train,epochs=epochs,\n",
    "            batch_size=512,validation_data=(x_val, y_val),verbose=1)"
   ]
  },
  {
   "cell_type": "code",
   "execution_count": 117,
   "id": "e638b620",
   "metadata": {},
   "outputs": [
    {
     "data": {
      "image/png": "[encoded data removed]",
      "text/plain": [
       "<Figure size 432x288 with 1 Axes>"
      ]
     },
     "metadata": {
      "needs_background": "light"
     },
     "output_type": "display_data"
    }
   ],
   "source": [
    "history_dict = history.history\n",
    "acc = history_dict['accuracy']\n",
    "val_acc = history_dict['val_accuracy']\n",
    "loss = history_dict['loss']\n",
    "val_loss = history_dict['val_loss']\n",
    "\n",
    "epochs = range(1, len(acc) + 1)\n",
    "\n",
    "# \"bo\"는 \"파란색 점\"입니다\n",
    "plt.plot(epochs, loss, 'bo', label='Training loss')\n",
    "# b는 \"파란 실선\"입니다\n",
    "plt.plot(epochs, val_loss, 'b', label='Validation loss')\n",
    "plt.title('Training and validation loss')\n",
    "plt.xlabel('Epochs')\n",
    "plt.ylabel('Loss')\n",
    "plt.legend()\n",
    "\n",
    "plt.show()"
   ]
  },
  {
   "cell_type": "code",
   "execution_count": 118,
   "id": "fc3c95fc",
   "metadata": {
    "scrolled": false
   },
   "outputs": [
    {
     "data": {
      "image/png": "[encoded data removed]",
      "text/plain": [
       "<Figure size 432x288 with 1 Axes>"
      ]
     },
     "metadata": {
      "needs_background": "light"
     },
     "output_type": "display_data"
    },
    {
     "name": "stdout",
     "output_type": "stream",
     "text": [
      "1538/1538 - 26s - loss: 0.4119 - accuracy: 0.8524\n",
      "[0.41192078590393066, 0.852424681186676]\n"
     ]
    }
   ],
   "source": [
    "plt.clf()   # 그림을 초기화합니다\n",
    "\n",
    "plt.plot(epochs, acc, 'bo', label='Training acc')\n",
    "plt.plot(epochs, val_acc, 'b', label='Validation acc')\n",
    "plt.title('Training and validation accuracy')\n",
    "plt.xlabel('Epochs')\n",
    "plt.ylabel('Accuracy')\n",
    "plt.legend()\n",
    "\n",
    "plt.show()\n",
    "\n",
    "results = model.evaluate(X_test,  y_test, verbose=2)\n",
    "print(results)"
   ]
  },
  {
   "cell_type": "code",
   "execution_count": 119,
   "id": "2a59dd29",
   "metadata": {},
   "outputs": [
    {
     "name": "stdout",
     "output_type": "stream",
     "text": [
      "1538/1538 - 26s - loss: 0.4981 - accuracy: 0.8481\n",
      "[0.49807214736938477, 0.8481362462043762]\n"
     ]
    }
   ],
   "source": [
    "epochs=8\n",
    "history = model.fit(partial_x_train,partial_y_train,epochs=epochs,\n",
    "            batch_size=512,validation_data=(x_val, y_val),verbose=0)\n",
    "results = model.evaluate(X_test,  y_test, verbose=2)\n",
    "print(results)"
   ]
  },
  {
   "cell_type": "markdown",
   "id": "4884d864",
   "metadata": {},
   "source": [
    "#### LSTM 스태킹 기법 사용"
   ]
  },
  {
   "cell_type": "code",
   "execution_count": 110,
   "id": "2fbe9517",
   "metadata": {
    "collapsed": true
   },
   "outputs": [
    {
     "name": "stdout",
     "output_type": "stream",
     "text": [
      "WARNING:tensorflow:Layer lstm_23 will not use cuDNN kernels since it doesn't meet the criteria. It will use a generic GPU kernel as fallback when running on GPU.\n",
      "WARNING:tensorflow:Layer lstm_24 will not use cuDNN kernels since it doesn't meet the criteria. It will use a generic GPU kernel as fallback when running on GPU.\n",
      "Model: \"model_4\"\n",
      "_________________________________________________________________\n",
      "Layer (type)                 Output Shape              Param #   \n",
      "=================================================================\n",
      "input_12 (InputLayer)        [(None, 41)]              0         \n",
      "_________________________________________________________________\n",
      "embedding_28 (Embedding)     (None, 41, 100)           1000000   \n",
      "_________________________________________________________________\n",
      "lstm_23 (LSTM)               (None, 41, 32)            17024     \n",
      "_________________________________________________________________\n",
      "lstm_24 (LSTM)               (None, 32)                8320      \n",
      "_________________________________________________________________\n",
      "dropout_13 (Dropout)         (None, 32)                0         \n",
      "_________________________________________________________________\n",
      "dense_38 (Dense)             (None, 16)                528       \n",
      "_________________________________________________________________\n",
      "dense_39 (Dense)             (None, 1)                 17        \n",
      "=================================================================\n",
      "Total params: 1,025,889\n",
      "Trainable params: 1,025,889\n",
      "Non-trainable params: 0\n",
      "_________________________________________________________________\n"
     ]
    }
   ],
   "source": [
    "# model = tf.keras.Sequential()\n",
    "in_x = tf.keras.Input(shape=(maxlen,))\n",
    "embed_x = tf.keras.layers.Embedding(vocab_size, word_vector_dim, \n",
    "             embeddings_initializer=Constant(embedding_matrix), #input_length=maxlen,\n",
    "                                     trainable=True)(in_x) # trainable을 True로 주면 Fine-tuning\n",
    "\n",
    "# 순환 드롭아웃 기법 활용, w. unrolling the layer\n",
    "# 여기에 return_sequences=True인자를 안 넣고 삽질로 함수형 API로 바꿨다.\n",
    "# 스태킹 기법은 시퀀셜 모델로 만들어도 작동한다.\n",
    "x = tf.keras.layers.LSTM(32, recurrent_dropout=.2, \n",
    "                     return_sequences=True, unroll=True)(embed_x)\n",
    "# 순환층 스태킹 기법\n",
    "x = tf.keras.layers.LSTM(32, recurrent_dropout=.2, unroll=True)(x)\n",
    "# 드롭아웃 기법 활용\n",
    "# x = tf.keras.layers.Dropout(.5)(embed_x)\n",
    "x = tf.keras.layers.Dropout(.5)(x)\n",
    "x = tf.keras.layers.Dense(16, activation='relu')(x)\n",
    "out = tf.keras.layers.Dense(1, activation='sigmoid')(x)\n",
    "model = tf.keras.Model(inputs=in_x, outputs=out)\n",
    "model.summary()\n",
    "model.compile(optimizer='adam',loss='binary_crossentropy',metrics=['accuracy'])"
   ]
  },
  {
   "cell_type": "markdown",
   "id": "6b4b4e13",
   "metadata": {},
   "source": [
    "#### GRU 스태킹 기법 사용"
   ]
  },
  {
   "cell_type": "code",
   "execution_count": 130,
   "id": "2f7a9a25",
   "metadata": {
    "collapsed": true
   },
   "outputs": [
    {
     "name": "stdout",
     "output_type": "stream",
     "text": [
      "WARNING:tensorflow:Layer gru_3 will not use cuDNN kernels since it doesn't meet the criteria. It will use a generic GPU kernel as fallback when running on GPU.\n",
      "Model: \"sequential_22\"\n",
      "_________________________________________________________________\n",
      "Layer (type)                 Output Shape              Param #   \n",
      "=================================================================\n",
      "embedding_35 (Embedding)     (None, 41, 100)           1000000   \n",
      "_________________________________________________________________\n",
      "gru_3 (GRU)                  (None, 41, 32)            12864     \n",
      "_________________________________________________________________\n",
      "dropout_18 (Dropout)         (None, 41, 32)            0         \n",
      "_________________________________________________________________\n",
      "dense_48 (Dense)             (None, 41, 16)            528       \n",
      "_________________________________________________________________\n",
      "dense_49 (Dense)             (None, 41, 1)             17        \n",
      "=================================================================\n",
      "Total params: 1,013,409\n",
      "Trainable params: 1,013,409\n",
      "Non-trainable params: 0\n",
      "_________________________________________________________________\n"
     ]
    }
   ],
   "source": [
    "model = tf.keras.Sequential()\n",
    "model.add(tf.keras.layers.Embedding(vocab_size, word_vector_dim, \n",
    "                 embeddings_initializer=Constant(embedding_matrix),  \n",
    "                 input_length=maxlen, trainable=True)) # trainable을 True로 주면 Fine-tuning\n",
    "# 순환 드롭아웃 기법 활용, w. unrolling the layer\n",
    "model.add(tf.keras.layers.GRU(32, recurrent_dropout=.5, unroll=True, return_sequences=True))\n",
    "model.add(tf.keras.layers.GRU(32, recurrent_dropout=.5, unroll=True))\n",
    "# 드롭아웃 기법 활용\n",
    "model.add(tf.keras.layers.Dropout(.5))\n",
    "model.add(tf.keras.layers.Dense(16, activation='relu'))\n",
    "model.add(tf.keras.layers.Dense(1, activation='sigmoid'))  # 최종 출력은 긍정/부정을 나타내는 1dim 입니다.\n",
    "model.summary()\n",
    "model.compile(optimizer='adam',loss='binary_crossentropy',metrics=['accuracy'])"
   ]
  },
  {
   "cell_type": "code",
   "execution_count": 131,
   "id": "cca3d9d1",
   "metadata": {
    "collapsed": true
   },
   "outputs": [
    {
     "name": "stdout",
     "output_type": "stream",
     "text": [
      "Epoch 1/20\n",
      "228/228 [==============================] - 30s 50ms/step - loss: 0.6099 - accuracy: 0.6495 - val_loss: 0.4725 - val_accuracy: 0.7735\n",
      "Epoch 2/20\n",
      "228/228 [==============================] - 9s 38ms/step - loss: 0.4692 - accuracy: 0.7781 - val_loss: 0.4167 - val_accuracy: 0.8054\n",
      "Epoch 3/20\n",
      "228/228 [==============================] - 9s 38ms/step - loss: 0.4261 - accuracy: 0.8031 - val_loss: 0.3980 - val_accuracy: 0.8149\n",
      "Epoch 4/20\n",
      "228/228 [==============================] - 9s 38ms/step - loss: 0.4033 - accuracy: 0.8154 - val_loss: 0.3889 - val_accuracy: 0.8205\n",
      "Epoch 5/20\n",
      "228/228 [==============================] - 9s 38ms/step - loss: 0.3885 - accuracy: 0.8235 - val_loss: 0.3875 - val_accuracy: 0.8216\n",
      "Epoch 6/20\n",
      "228/228 [==============================] - 9s 38ms/step - loss: 0.3781 - accuracy: 0.8289 - val_loss: 0.3828 - val_accuracy: 0.8244\n",
      "Epoch 7/20\n",
      "228/228 [==============================] - 9s 38ms/step - loss: 0.3701 - accuracy: 0.8333 - val_loss: 0.3809 - val_accuracy: 0.8253\n",
      "Epoch 8/20\n",
      "228/228 [==============================] - 9s 38ms/step - loss: 0.3625 - accuracy: 0.8378 - val_loss: 0.3775 - val_accuracy: 0.8263\n",
      "Epoch 9/20\n",
      "228/228 [==============================] - 9s 38ms/step - loss: 0.3566 - accuracy: 0.8404 - val_loss: 0.3795 - val_accuracy: 0.8273\n",
      "Epoch 10/20\n",
      "228/228 [==============================] - 9s 38ms/step - loss: 0.3507 - accuracy: 0.8434 - val_loss: 0.3787 - val_accuracy: 0.8285\n",
      "Epoch 11/20\n",
      "228/228 [==============================] - 9s 38ms/step - loss: 0.3457 - accuracy: 0.8460 - val_loss: 0.3772 - val_accuracy: 0.8280\n",
      "Epoch 12/20\n",
      "228/228 [==============================] - 9s 38ms/step - loss: 0.3413 - accuracy: 0.8479 - val_loss: 0.3796 - val_accuracy: 0.8292\n",
      "Epoch 13/20\n",
      "228/228 [==============================] - 9s 38ms/step - loss: 0.3382 - accuracy: 0.8497 - val_loss: 0.3817 - val_accuracy: 0.8287\n",
      "Epoch 14/20\n",
      "228/228 [==============================] - 9s 38ms/step - loss: 0.3336 - accuracy: 0.8519 - val_loss: 0.3834 - val_accuracy: 0.8292\n",
      "Epoch 15/20\n",
      "228/228 [==============================] - 9s 38ms/step - loss: 0.3300 - accuracy: 0.8534 - val_loss: 0.3820 - val_accuracy: 0.8296\n",
      "Epoch 16/20\n",
      "228/228 [==============================] - 9s 38ms/step - loss: 0.3273 - accuracy: 0.8549 - val_loss: 0.3855 - val_accuracy: 0.8268\n",
      "Epoch 17/20\n",
      "228/228 [==============================] - 9s 38ms/step - loss: 0.3239 - accuracy: 0.8564 - val_loss: 0.3845 - val_accuracy: 0.8305\n",
      "Epoch 18/20\n",
      "228/228 [==============================] - 9s 38ms/step - loss: 0.3209 - accuracy: 0.8578 - val_loss: 0.3846 - val_accuracy: 0.8293\n",
      "Epoch 19/20\n",
      "228/228 [==============================] - 9s 38ms/step - loss: 0.3181 - accuracy: 0.8589 - val_loss: 0.3858 - val_accuracy: 0.8297\n",
      "Epoch 20/20\n",
      "228/228 [==============================] - 9s 38ms/step - loss: 0.3141 - accuracy: 0.8610 - val_loss: 0.3908 - val_accuracy: 0.8292\n"
     ]
    }
   ],
   "source": [
    "epochs=20\n",
    "history = model.fit(partial_x_train,partial_y_train,epochs=epochs,\n",
    "            batch_size=512,validation_data=(x_val, y_val),verbose=1)"
   ]
  },
  {
   "cell_type": "code",
   "execution_count": 132,
   "id": "4b7da855",
   "metadata": {},
   "outputs": [
    {
     "data": {
      "image/png": "[encoded data removed]",
      "text/plain": [
       "<Figure size 432x288 with 1 Axes>"
      ]
     },
     "metadata": {
      "needs_background": "light"
     },
     "output_type": "display_data"
    }
   ],
   "source": [
    "history_dict = history.history\n",
    "acc = history_dict['accuracy']\n",
    "val_acc = history_dict['val_accuracy']\n",
    "loss = history_dict['loss']\n",
    "val_loss = history_dict['val_loss']\n",
    "\n",
    "epochs = range(1, len(acc) + 1)\n",
    "\n",
    "# \"bo\"는 \"파란색 점\"입니다\n",
    "plt.plot(epochs, loss, 'bo', label='Training loss')\n",
    "# b는 \"파란 실선\"입니다\n",
    "plt.plot(epochs, val_loss, 'b', label='Validation loss')\n",
    "plt.title('Training and validation loss')\n",
    "plt.xlabel('Epochs')\n",
    "plt.ylabel('Loss')\n",
    "plt.legend()\n",
    "\n",
    "plt.show()"
   ]
  },
  {
   "cell_type": "code",
   "execution_count": 133,
   "id": "fe784518",
   "metadata": {
    "scrolled": true
   },
   "outputs": [
    {
     "data": {
      "image/png": "[encoded data removed]",
      "text/plain": [
       "<Figure size 432x288 with 1 Axes>"
      ]
     },
     "metadata": {
      "needs_background": "light"
     },
     "output_type": "display_data"
    },
    {
     "name": "stdout",
     "output_type": "stream",
     "text": [
      "1538/1538 - 15s - loss: 0.3912 - accuracy: 0.8290\n",
      "[0.3911742866039276, 0.8290160298347473]\n"
     ]
    }
   ],
   "source": [
    "plt.clf()   # 그림을 초기화합니다\n",
    "\n",
    "plt.plot(epochs, acc, 'bo', label='Training acc')\n",
    "plt.plot(epochs, val_acc, 'b', label='Validation acc')\n",
    "plt.title('Training and validation accuracy')\n",
    "plt.xlabel('Epochs')\n",
    "plt.ylabel('Accuracy')\n",
    "plt.legend()\n",
    "\n",
    "plt.show()\n",
    "\n",
    "results = model.evaluate(X_test,  y_test, verbose=2)\n",
    "print(results)"
   ]
  },
  {
   "cell_type": "code",
   "execution_count": 134,
   "id": "64c90241",
   "metadata": {},
   "outputs": [
    {
     "name": "stdout",
     "output_type": "stream",
     "text": [
      "1538/1538 - 15s - loss: 0.3987 - accuracy: 0.8285\n",
      "[0.3986968696117401, 0.8284562826156616]\n"
     ]
    }
   ],
   "source": [
    "epochs=7\n",
    "history = model.fit(partial_x_train,partial_y_train,epochs=epochs,\n",
    "            batch_size=512,validation_data=(x_val, y_val),verbose=0)\n",
    "results = model.evaluate(X_test,  y_test, verbose=2)\n",
    "print(results)"
   ]
  }
 ],
 "metadata": {
  "kernelspec": {
   "display_name": "Python 3 (ipykernel)",
   "language": "python",
   "name": "python3"
  },
  "language_info": {
   "codemirror_mode": {
    "name": "ipython",
    "version": 3
   },
   "file_extension": ".py",
   "mimetype": "text/x-python",
   "name": "python",
   "nbconvert_exporter": "python",
   "pygments_lexer": "ipython3",
   "version": "3.9.7"
  }
 },
 "nbformat": 4,
 "nbformat_minor": 5
}
