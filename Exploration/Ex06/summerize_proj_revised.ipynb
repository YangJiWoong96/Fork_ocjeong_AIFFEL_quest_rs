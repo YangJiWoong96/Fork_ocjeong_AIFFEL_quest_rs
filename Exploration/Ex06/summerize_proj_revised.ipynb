{
 "cells": [
  {
   "cell_type": "markdown",
   "id": "c4c9b268",
   "metadata": {},
   "source": [
    "# 자연어처리 실습; 요약문 생성"
   ]
  },
  {
   "cell_type": "markdown",
   "id": "43bf811a",
   "metadata": {},
   "source": [
    "### 결론\n",
    "   - LSTM 에 어텐션 기법을 적용한 모델 완성.\n",
    "   - 군데군데 드롭아웃 기법을 쓰면 성능이 조금 더 올라온다.\n",
    "   - 아마 규제를 잘 덧대는 게 이번 모델 튜닝의 요점인 듯.\n",
    "   - unrolling을 해서 속도를 살짝 끌어올릴 수 있다.\n",
    "   - 이번 노크북은 조금 더 정리된 형태로 코딩 한 것 같다.\n",
    "   - 하지만 여전히 실험, 디버깅, 회고 시간은 부족한.듯"
   ]
  },
  {
   "cell_type": "code",
   "execution_count": 1,
   "id": "14434cba",
   "metadata": {},
   "outputs": [],
   "source": [
    "import os"
   ]
  },
  {
   "cell_type": "code",
   "execution_count": 2,
   "id": "5e2bae84",
   "metadata": {},
   "outputs": [
    {
     "name": "stderr",
     "output_type": "stream",
     "text": [
      "ln: failed to create symbolic link '/aiffel/aiffel/news_summarization/data/Reviews.csv': File exists\n"
     ]
    },
    {
     "data": {
      "text/plain": [
       "256"
      ]
     },
     "execution_count": 2,
     "metadata": {},
     "output_type": "execute_result"
    }
   ],
   "source": [
    "os.system(\"mkdir -p ~/aiffel/news_summarization/data\")\n",
    "os.system(\"ln -s ~/data/*.csv ~/aiffel/news_summarization/data\")"
   ]
  },
  {
   "cell_type": "raw",
   "id": "ffd7d731",
   "metadata": {},
   "source": [
    "\n",
    "import numpy as np\n",
    "import pandas as pd\n",
    "import os\n",
    "import re\n",
    "import matplotlib.pyplot as plt\n",
    "from bs4 import BeautifulSoup \n",
    "from tensorflow.keras.preprocessing.text import Tokenizer \n",
    "from tensorflow.keras.preprocessing.sequence import pad_sequences\n",
    "import urllib.request\n",
    "import warnings\n",
    "warnings.filterwarnings(\"ignore\", category=UserWarning, module='bs4')\n",
    "\n",
    "print('=3')"
   ]
  },
  {
   "cell_type": "code",
   "execution_count": null,
   "id": "da4136a6",
   "metadata": {},
   "outputs": [],
   "source": [
    "from importlib.metadata import version\n",
    "import nltk\n",
    "import tensorflow\n",
    "import summa\n",
    "import pandas as pd\n",
    "\n",
    "print(nltk.__version__)\n",
    "print(tensorflow.__version__)\n",
    "print(pd.__version__)\n",
    "print(version('summa'))"
   ]
  },
  {
   "cell_type": "markdown",
   "id": "67a712a8",
   "metadata": {},
   "source": [
    "## 데이터 수집"
   ]
  },
  {
   "cell_type": "code",
   "execution_count": null,
   "id": "b68d3b65",
   "metadata": {},
   "outputs": [],
   "source": [
    "import urllib.request\n",
    "urllib.request.urlretrieve(\"https://raw.githubusercontent.com/sunnysai12345/News_Summary/master/news_summary_more.csv\", filename=\"news_summary_more.csv\")\n",
    "# data = pd.read_csv('news_summary_more.csv', encoding='iso-8859-1')"
   ]
  },
  {
   "cell_type": "code",
   "execution_count": 10,
   "id": "bb844e76",
   "metadata": {
    "scrolled": true
   },
   "outputs": [
    {
     "name": "stdout",
     "output_type": "stream",
     "text": [
      "불용어 개수 : 179\n"
     ]
    },
    {
     "name": "stderr",
     "output_type": "stream",
     "text": [
      "[nltk_data] Downloading package stopwords to /aiffel/nltk_data...\n",
      "[nltk_data]   Package stopwords is already up-to-date!\n"
     ]
    }
   ],
   "source": [
    "import nltk\n",
    "nltk.download('stopwords')\n",
    "# 학습 노드와 같이 nltk 불용어 활용\n",
    "nltk.download('stopwords')\n",
    "\n",
    "from nltk.corpus import stopwords\n",
    "print('불용어 개수 :', len(stopwords.words('english') ))\n",
    "# print(stopwords.words('english'))"
   ]
  },
  {
   "cell_type": "code",
   "execution_count": 11,
   "id": "15b2c127",
   "metadata": {},
   "outputs": [],
   "source": [
    "# 학습 노드와 같이 정규화 사전 활용\n",
    "contractions = {\n",
    "   \"ain't\": \"is not\", \"aren't\": \"are not\",\"can't\": \"cannot\", \"'cause\": \"because\", \"could've\": \"could have\", \"couldn't\": \"could not\",\n",
    "   \"didn't\": \"did not\",  \"doesn't\": \"does not\", \"don't\": \"do not\", \"hadn't\": \"had not\", \"hasn't\": \"has not\", \"haven't\": \"have not\",\n",
    "   \"he'd\": \"he would\",\"he'll\": \"he will\", \"he's\": \"he is\", \"how'd\": \"how did\", \"how'd'y\": \"how do you\", \"how'll\": \"how will\", \"how's\": \"how is\",\n",
    "   \"I'd\": \"I would\", \"I'd've\": \"I would have\", \"I'll\": \"I will\", \"I'll've\": \"I will have\",\"I'm\": \"I am\", \"I've\": \"I have\", \"i'd\": \"i would\",\n",
    "   \"i'd've\": \"i would have\", \"i'll\": \"i will\",  \"i'll've\": \"i will have\",\"i'm\": \"i am\", \"i've\": \"i have\", \"isn't\": \"is not\", \"it'd\": \"it would\",\n",
    "   \"it'd've\": \"it would have\", \"it'll\": \"it will\", \"it'll've\": \"it will have\",\"it's\": \"it is\", \"let's\": \"let us\", \"ma'am\": \"madam\",\n",
    "   \"mayn't\": \"may not\", \"might've\": \"might have\",\"mightn't\": \"might not\",\"mightn't've\": \"might not have\", \"must've\": \"must have\",\n",
    "   \"mustn't\": \"must not\", \"mustn't've\": \"must not have\", \"needn't\": \"need not\", \"needn't've\": \"need not have\",\"o'clock\": \"of the clock\",\n",
    "   \"oughtn't\": \"ought not\", \"oughtn't've\": \"ought not have\", \"shan't\": \"shall not\", \"sha'n't\": \"shall not\", \"shan't've\": \"shall not have\",\n",
    "   \"she'd\": \"she would\", \"she'd've\": \"she would have\", \"she'll\": \"she will\", \"she'll've\": \"she will have\", \"she's\": \"she is\",\n",
    "   \"should've\": \"should have\", \"shouldn't\": \"should not\", \"shouldn't've\": \"should not have\", \"so've\": \"so have\",\"so's\": \"so as\",\n",
    "   \"this's\": \"this is\",\"that'd\": \"that would\", \"that'd've\": \"that would have\", \"that's\": \"that is\", \"there'd\": \"there would\",\n",
    "   \"there'd've\": \"there would have\", \"there's\": \"there is\", \"here's\": \"here is\",\"they'd\": \"they would\", \"they'd've\": \"they would have\",\n",
    "   \"they'll\": \"they will\", \"they'll've\": \"they will have\", \"they're\": \"they are\", \"they've\": \"they have\", \"to've\": \"to have\",\n",
    "   \"wasn't\": \"was not\", \"we'd\": \"we would\", \"we'd've\": \"we would have\", \"we'll\": \"we will\", \"we'll've\": \"we will have\", \"we're\": \"we are\",\n",
    "   \"we've\": \"we have\", \"weren't\": \"were not\", \"what'll\": \"what will\", \"what'll've\": \"what will have\", \"what're\": \"what are\",\n",
    "   \"what's\": \"what is\", \"what've\": \"what have\", \"when's\": \"when is\", \"when've\": \"when have\", \"where'd\": \"where did\", \"where's\": \"where is\",\n",
    "   \"where've\": \"where have\", \"who'll\": \"who will\", \"who'll've\": \"who will have\", \"who's\": \"who is\", \"who've\": \"who have\",\n",
    "   \"why's\": \"why is\", \"why've\": \"why have\", \"will've\": \"will have\", \"won't\": \"will not\", \"won't've\": \"will not have\",\n",
    "   \"would've\": \"would have\", \"wouldn't\": \"would not\", \"wouldn't've\": \"would not have\", \"y'all\": \"you all\",\n",
    "   \"y'all'd\": \"you all would\",\"y'all'd've\": \"you all would have\",\"y'all're\": \"you all are\",\"y'all've\": \"you all have\",\n",
    "   \"you'd\": \"you would\", \"you'd've\": \"you would have\", \"you'll\": \"you will\", \"you'll've\": \"you will have\",\n",
    "   \"you're\": \"you are\", \"you've\": \"you have\"\n",
    "}"
   ]
  },
  {
   "cell_type": "code",
   "execution_count": 8,
   "id": "88c6d276",
   "metadata": {},
   "outputs": [
    {
     "name": "stdout",
     "output_type": "stream",
     "text": [
      "전체 샘플수 : 98401\n"
     ]
    },
    {
     "data": {
      "text/html": [
       "<div>\n",
       "<style scoped>\n",
       "    .dataframe tbody tr th:only-of-type {\n",
       "        vertical-align: middle;\n",
       "    }\n",
       "\n",
       "    .dataframe tbody tr th {\n",
       "        vertical-align: top;\n",
       "    }\n",
       "\n",
       "    .dataframe thead th {\n",
       "        text-align: right;\n",
       "    }\n",
       "</style>\n",
       "<table border=\"1\" class=\"dataframe\">\n",
       "  <thead>\n",
       "    <tr style=\"text-align: right;\">\n",
       "      <th></th>\n",
       "      <th>headlines</th>\n",
       "      <th>text</th>\n",
       "    </tr>\n",
       "  </thead>\n",
       "  <tbody>\n",
       "    <tr>\n",
       "      <th>0</th>\n",
       "      <td>upGrad learner switches to career in ML &amp; Al w...</td>\n",
       "      <td>Saurav Kant, an alumnus of upGrad and IIIT-B's...</td>\n",
       "    </tr>\n",
       "    <tr>\n",
       "      <th>1</th>\n",
       "      <td>Delhi techie wins free food from Swiggy for on...</td>\n",
       "      <td>Kunal Shah's credit card bill payment platform...</td>\n",
       "    </tr>\n",
       "    <tr>\n",
       "      <th>2</th>\n",
       "      <td>New Zealand end Rohit Sharma-led India's 12-ma...</td>\n",
       "      <td>New Zealand defeated India by 8 wickets in the...</td>\n",
       "    </tr>\n",
       "    <tr>\n",
       "      <th>3</th>\n",
       "      <td>Aegon life iTerm insurance plan helps customer...</td>\n",
       "      <td>With Aegon Life iTerm Insurance plan, customer...</td>\n",
       "    </tr>\n",
       "    <tr>\n",
       "      <th>4</th>\n",
       "      <td>Have known Hirani for yrs, what if MeToo claim...</td>\n",
       "      <td>Speaking about the sexual harassment allegatio...</td>\n",
       "    </tr>\n",
       "  </tbody>\n",
       "</table>\n",
       "</div>"
      ],
      "text/plain": [
       "                                           headlines  \\\n",
       "0  upGrad learner switches to career in ML & Al w...   \n",
       "1  Delhi techie wins free food from Swiggy for on...   \n",
       "2  New Zealand end Rohit Sharma-led India's 12-ma...   \n",
       "3  Aegon life iTerm insurance plan helps customer...   \n",
       "4  Have known Hirani for yrs, what if MeToo claim...   \n",
       "\n",
       "                                                text  \n",
       "0  Saurav Kant, an alumnus of upGrad and IIIT-B's...  \n",
       "1  Kunal Shah's credit card bill payment platform...  \n",
       "2  New Zealand defeated India by 8 wickets in the...  \n",
       "3  With Aegon Life iTerm Insurance plan, customer...  \n",
       "4  Speaking about the sexual harassment allegatio...  "
      ]
     },
     "execution_count": 8,
     "metadata": {},
     "output_type": "execute_result"
    }
   ],
   "source": [
    "data = pd.read_csv(os.getenv(\"HOME\")+\"/aiffel/news_summarization/news_summary_more.csv\", encoding='iso-8859-1')\n",
    "print('전체 샘플수 :', (len(data)))\n",
    "\n",
    "data.head()"
   ]
  },
  {
   "cell_type": "markdown",
   "id": "9ef3193e",
   "metadata": {},
   "source": [
    "## 추상적 요약 -- 데이터 전처리"
   ]
  },
  {
   "cell_type": "code",
   "execution_count": 13,
   "id": "f28719a0",
   "metadata": {},
   "outputs": [
    {
     "name": "stdout",
     "output_type": "stream",
     "text": [
      "전체 샘플수 : 98360\n",
      "전체 샘플수 : 98360\n"
     ]
    }
   ],
   "source": [
    "data = data[[\"text\", \"headlines\"]]\n",
    "# Column 이름 변경\n",
    "data = data.rename(columns={\"text\": \"Text\", \"headlines\": \"Summary\"})\n",
    "\n",
    "# inplace=True 를 설정하면 DataFrame 타입 값을 return 하지 않고 data 내부를 직접적으로 바꿉니다\n",
    "data.drop_duplicates(subset = ['Text'], inplace=True)\n",
    "print('전체 샘플수 :', (len(data)))\n",
    "\n",
    "data.dropna(axis=0, inplace=True)\n",
    "print('전체 샘플수 :', (len(data)))"
   ]
  },
  {
   "cell_type": "code",
   "execution_count": 76,
   "id": "cf99a72a",
   "metadata": {},
   "outputs": [],
   "source": [
    "# 데이터 전처리 함수\n",
    "def preprocess_sentence(sentence, remove_stopwords=True):\n",
    "    sentence = sentence.lower() # 텍스트 소문자화\n",
    "    sentence = BeautifulSoup(sentence, \"lxml\").get(\" \") # <br />, <a href = ...> 등의 html 태그 제거; .get(\" \")사용\n",
    "    sentence = re.sub(r'\\([^)]*\\)', '', sentence) # 괄호로 닫힌 문자열 (...) 제거 Ex) my husband (and myself!) for => my husband for\n",
    "    sentence = re.sub('\"','', sentence) # 쌍따옴표 \" 제거\n",
    "    sentence = ' '.join([contractions[t] if t in contractions else t for t in sentence.split(\" \")]) # 약어 정규화\n",
    "    sentence = re.sub(r\"'s\\b\",\"\", sentence) # 소유격 제거. Ex) roland's -> roland\n",
    "    sentence = re.sub(\"[^a-zA-Z]\", \" \", sentence) # 영어 외 문자(숫자, 특수문자 등) 공백으로 변환\n",
    "    sentence = re.sub('[m]{2,}', 'mm', sentence) # m이 3개 이상이면 2개로 변경. Ex) ummmmmmm yeah -> umm yeah\n",
    "    \n",
    "    # 불용어 제거 (Text)\n",
    "    if remove_stopwords:\n",
    "        tokens = ' '.join(word for word in sentence.split() if not word in stopwords.words('english') if len(word) > 1)\n",
    "    # 불용어 미제거 (Summary)\n",
    "    else:\n",
    "        tokens = ' '.join(word for word in sentence.split() if len(word) > 1)\n",
    "    return tokens"
   ]
  },
  {
   "cell_type": "code",
   "execution_count": 16,
   "id": "bb9c090e",
   "metadata": {},
   "outputs": [
    {
     "name": "stdout",
     "output_type": "stream",
     "text": [
      "Text 전처리 후 결과:  ['saurav kant alumnus upgrad iiit pg program machine learning artificial intelligence sr systems engineer infosys almost years work experience program upgrad degree career support helped transition data scientist tech mahindra salary hike upgrad online power learning powered lakh careers', 'kunal shah credit card bill payment platform cred gave users chance win free food swiggy one year pranav kaushik delhi techie bagged reward spending cred coins users get one cred coin per rupee bill paid used avail rewards brands like ixigo bookmyshow ubereats cult fit', 'new zealand defeated india wickets fourth odi hamilton thursday win first match five match odi series india lost international match rohit sharma captaincy consecutive victories dating back march match witnessed india getting seventh lowest total odi cricket history', 'aegon life iterm insurance plan customers enjoy tax benefits premiums paid save taxes plan provides life cover age years also customers options insure critical illnesses disability accidental death benefit rider life cover age years', 'speaking sexual harassment allegations rajkumar hirani sonam kapoor said known hirani many years true metoo movement get derailed metoo movement always believe woman case need reserve judgment added hirani accused assistant worked sanju']\n"
     ]
    }
   ],
   "source": [
    "clean_text = []\n",
    "\n",
    "for txt in data[\"Text\"]:\n",
    "    clean_text.append(preprocess_sentence(txt))\n",
    "\n",
    "print(\"Text 전처리 후 결과: \", clean_text[:5])"
   ]
  },
  {
   "cell_type": "code",
   "execution_count": 18,
   "id": "06cd9288",
   "metadata": {},
   "outputs": [
    {
     "name": "stdout",
     "output_type": "stream",
     "text": [
      "Summary 전처리 후 결과:  ['upgrad learner switches to career in ml al with salary hike', 'delhi techie wins free food from swiggy for one year on cred', 'new zealand end rohit sharma led india match winning streak', 'aegon life iterm insurance plan helps customers save tax', 'have known hirani for yrs what if metoo claims are not true sonam']\n"
     ]
    }
   ],
   "source": [
    "clean_summary = []\n",
    "\n",
    "for smm in data[\"Summary\"]:\n",
    "    clean_summary.append(preprocess_sentence(smm, False))\n",
    "\n",
    "print(\"Summary 전처리 후 결과: \", clean_summary[:5])"
   ]
  },
  {
   "cell_type": "code",
   "execution_count": 19,
   "id": "cd43e10e",
   "metadata": {},
   "outputs": [],
   "source": [
    "data['Text'] = clean_text\n",
    "data['Summary'] = clean_summary\n",
    "\n",
    "data.replace('', np.nan, inplace=True)"
   ]
  },
  {
   "cell_type": "code",
   "execution_count": 20,
   "id": "f306a38c",
   "metadata": {
    "scrolled": false
   },
   "outputs": [
    {
     "data": {
      "text/plain": [
       "Text       0\n",
       "Summary    0\n",
       "dtype: int64"
      ]
     },
     "execution_count": 20,
     "metadata": {},
     "output_type": "execute_result"
    }
   ],
   "source": [
    "data.isnull().sum()"
   ]
  },
  {
   "cell_type": "code",
   "execution_count": 21,
   "id": "bae965bb",
   "metadata": {},
   "outputs": [
    {
     "name": "stdout",
     "output_type": "stream",
     "text": [
      "전체 샘플수 : 98360\n"
     ]
    }
   ],
   "source": [
    "data.dropna(axis=0, inplace=True)\n",
    "print('전체 샘플수 :', (len(data)))"
   ]
  },
  {
   "cell_type": "markdown",
   "id": "05f16a6b",
   "metadata": {},
   "source": [
    "### 훈련데이터와 테스트데이터 나누기"
   ]
  },
  {
   "cell_type": "code",
   "execution_count": 22,
   "id": "163a406a",
   "metadata": {
    "collapsed": true
   },
   "outputs": [
    {
     "name": "stdout",
     "output_type": "stream",
     "text": [
      "텍스트의 최소 길이 : 1\n",
      "텍스트의 최대 길이 : 60\n",
      "텍스트의 평균 길이 : 35.09968483123221\n",
      "요약의 최소 길이 : 1\n",
      "요약의 최대 길이 : 16\n",
      "요약의 평균 길이 : 9.299532330215534\n"
     ]
    },
    {
     "data": {
      "image/png": "[encoded data removed]",
      "text/plain": [
       "<Figure size 432x288 with 2 Axes>"
      ]
     },
     "metadata": {
      "needs_background": "light"
     },
     "output_type": "display_data"
    },
    {
     "data": {
      "image/png": "[encoded data removed]",
      "text/plain": [
       "<Figure size 432x288 with 1 Axes>"
      ]
     },
     "metadata": {
      "needs_background": "light"
     },
     "output_type": "display_data"
    },
    {
     "data": {
      "image/png": "[encoded data removed]",
      "text/plain": [
       "<Figure size 432x288 with 1 Axes>"
      ]
     },
     "metadata": {
      "needs_background": "light"
     },
     "output_type": "display_data"
    }
   ],
   "source": [
    "# 길이 분포 출력\n",
    "import matplotlib.pyplot as plt\n",
    "\n",
    "text_len = [len(s.split()) for s in data['Text']]\n",
    "summary_len = [len(s.split()) for s in data['Summary']]\n",
    "\n",
    "print('텍스트의 최소 길이 : {}'.format(np.min(text_len)))\n",
    "print('텍스트의 최대 길이 : {}'.format(np.max(text_len)))\n",
    "print('텍스트의 평균 길이 : {}'.format(np.mean(text_len)))\n",
    "print('요약의 최소 길이 : {}'.format(np.min(summary_len)))\n",
    "print('요약의 최대 길이 : {}'.format(np.max(summary_len)))\n",
    "print('요약의 평균 길이 : {}'.format(np.mean(summary_len)))\n",
    "\n",
    "plt.subplot(1,2,1)\n",
    "plt.boxplot(text_len)\n",
    "plt.title('Text')\n",
    "plt.subplot(1,2,2)\n",
    "plt.boxplot(summary_len)\n",
    "plt.title('Summary')\n",
    "plt.tight_layout()\n",
    "plt.show()\n",
    "\n",
    "plt.title('Text')\n",
    "plt.hist(text_len, bins = 40)\n",
    "plt.xlabel('length of samples')\n",
    "plt.ylabel('number of samples')\n",
    "plt.show()\n",
    "\n",
    "plt.title('Summary')\n",
    "plt.hist(summary_len, bins = 40)\n",
    "plt.xlabel('length of samples')\n",
    "plt.ylabel('number of samples')\n",
    "plt.show()"
   ]
  },
  {
   "cell_type": "code",
   "execution_count": 28,
   "id": "df1a3ace",
   "metadata": {},
   "outputs": [],
   "source": [
    "text_max_len = 38\n",
    "summary_max_len = 11\n",
    "\n",
    "def below_threshold_len(max_len, nested_list):\n",
    "  cnt = 0\n",
    "  for s in nested_list:\n",
    "    if(len(s.split()) <= max_len):\n",
    "        cnt = cnt + 1\n",
    "  print('전체 샘플 중 길이가 %s 이하인 샘플의 비율: %s'%(max_len, (cnt / len(nested_list))))"
   ]
  },
  {
   "cell_type": "code",
   "execution_count": 29,
   "id": "919a0aa9",
   "metadata": {
    "scrolled": true
   },
   "outputs": [
    {
     "name": "stdout",
     "output_type": "stream",
     "text": [
      "전체 샘플 중 길이가 38 이하인 샘플의 비율: 0.8163379422529483\n",
      "전체 샘플 중 길이가 11 이하인 샘플의 비율: 0.9449877999186661\n"
     ]
    }
   ],
   "source": [
    "below_threshold_len(text_max_len, data['Text'])\n",
    "below_threshold_len(summary_max_len,  data['Summary'])"
   ]
  },
  {
   "cell_type": "code",
   "execution_count": 30,
   "id": "414653bd",
   "metadata": {},
   "outputs": [],
   "source": [
    "data = data[data['Text'].apply(\n",
    "                lambda i: not len(i.split())>text_max_len)]\n",
    "data = data[data['Summary'].apply(\n",
    "                lambda i: not len(i.split())>summary_max_len)]"
   ]
  },
  {
   "cell_type": "code",
   "execution_count": 31,
   "id": "6ba2ab77",
   "metadata": {},
   "outputs": [
    {
     "name": "stdout",
     "output_type": "stream",
     "text": [
      "전체 샘플수 : 75754\n"
     ]
    }
   ],
   "source": [
    "print('전체 샘플수 :', (len(data)))"
   ]
  },
  {
   "cell_type": "code",
   "execution_count": 32,
   "id": "384b6f71",
   "metadata": {},
   "outputs": [
    {
     "data": {
      "text/html": [
       "<div>\n",
       "<style scoped>\n",
       "    .dataframe tbody tr th:only-of-type {\n",
       "        vertical-align: middle;\n",
       "    }\n",
       "\n",
       "    .dataframe tbody tr th {\n",
       "        vertical-align: top;\n",
       "    }\n",
       "\n",
       "    .dataframe thead th {\n",
       "        text-align: right;\n",
       "    }\n",
       "</style>\n",
       "<table border=\"1\" class=\"dataframe\">\n",
       "  <thead>\n",
       "    <tr style=\"text-align: right;\">\n",
       "      <th></th>\n",
       "      <th>Text</th>\n",
       "      <th>Summary</th>\n",
       "      <th>decoder_input</th>\n",
       "      <th>decoder_target</th>\n",
       "    </tr>\n",
       "  </thead>\n",
       "  <tbody>\n",
       "    <tr>\n",
       "      <th>2</th>\n",
       "      <td>new zealand defeated india wickets fourth odi ...</td>\n",
       "      <td>new zealand end rohit sharma led india match w...</td>\n",
       "      <td>sostoken new zealand end rohit sharma led indi...</td>\n",
       "      <td>new zealand end rohit sharma led india match w...</td>\n",
       "    </tr>\n",
       "    <tr>\n",
       "      <th>3</th>\n",
       "      <td>aegon life iterm insurance plan customers enjo...</td>\n",
       "      <td>aegon life iterm insurance plan helps customer...</td>\n",
       "      <td>sostoken aegon life iterm insurance plan helps...</td>\n",
       "      <td>aegon life iterm insurance plan helps customer...</td>\n",
       "    </tr>\n",
       "    <tr>\n",
       "      <th>5</th>\n",
       "      <td>pakistani singer rahat fateh ali khan denied r...</td>\n",
       "      <td>rahat fateh ali khan denies getting notice for...</td>\n",
       "      <td>sostoken rahat fateh ali khan denies getting n...</td>\n",
       "      <td>rahat fateh ali khan denies getting notice for...</td>\n",
       "    </tr>\n",
       "    <tr>\n",
       "      <th>7</th>\n",
       "      <td>weeks ex cbi director alok verma told departme...</td>\n",
       "      <td>govt directs alok verma to join work day befor...</td>\n",
       "      <td>sostoken govt directs alok verma to join work ...</td>\n",
       "      <td>govt directs alok verma to join work day befor...</td>\n",
       "    </tr>\n",
       "    <tr>\n",
       "      <th>8</th>\n",
       "      <td>andhra pradesh cm chandrababu naidu said met u...</td>\n",
       "      <td>called pm modi sir times to satisfy his ego an...</td>\n",
       "      <td>sostoken called pm modi sir times to satisfy h...</td>\n",
       "      <td>called pm modi sir times to satisfy his ego an...</td>\n",
       "    </tr>\n",
       "  </tbody>\n",
       "</table>\n",
       "</div>"
      ],
      "text/plain": [
       "                                                Text  \\\n",
       "2  new zealand defeated india wickets fourth odi ...   \n",
       "3  aegon life iterm insurance plan customers enjo...   \n",
       "5  pakistani singer rahat fateh ali khan denied r...   \n",
       "7  weeks ex cbi director alok verma told departme...   \n",
       "8  andhra pradesh cm chandrababu naidu said met u...   \n",
       "\n",
       "                                             Summary  \\\n",
       "2  new zealand end rohit sharma led india match w...   \n",
       "3  aegon life iterm insurance plan helps customer...   \n",
       "5  rahat fateh ali khan denies getting notice for...   \n",
       "7  govt directs alok verma to join work day befor...   \n",
       "8  called pm modi sir times to satisfy his ego an...   \n",
       "\n",
       "                                       decoder_input  \\\n",
       "2  sostoken new zealand end rohit sharma led indi...   \n",
       "3  sostoken aegon life iterm insurance plan helps...   \n",
       "5  sostoken rahat fateh ali khan denies getting n...   \n",
       "7  sostoken govt directs alok verma to join work ...   \n",
       "8  sostoken called pm modi sir times to satisfy h...   \n",
       "\n",
       "                                      decoder_target  \n",
       "2  new zealand end rohit sharma led india match w...  \n",
       "3  aegon life iterm insurance plan helps customer...  \n",
       "5  rahat fateh ali khan denies getting notice for...  \n",
       "7  govt directs alok verma to join work day befor...  \n",
       "8  called pm modi sir times to satisfy his ego an...  "
      ]
     },
     "execution_count": 32,
     "metadata": {},
     "output_type": "execute_result"
    }
   ],
   "source": [
    "# 요약 데이터에는 시작 토큰과 종료 토큰을 추가한다.\n",
    "data['decoder_input'] = data['Summary'].apply(lambda x : 'sostoken '+ x)\n",
    "data['decoder_target'] = data['Summary'].apply(lambda x : x + ' eostoken')\n",
    "data.head()"
   ]
  },
  {
   "cell_type": "code",
   "execution_count": null,
   "id": "19601025",
   "metadata": {},
   "outputs": [],
   "source": [
    "encoder_input = np.array(data['Text']) # 인코더의 입력\n",
    "decoder_input = np.array(data['decoder_input']) # 디코더의 입력\n",
    "decoder_target = np.array(data['decoder_target']) # 디코더의 레이블"
   ]
  },
  {
   "cell_type": "code",
   "execution_count": 34,
   "id": "cf159623",
   "metadata": {},
   "outputs": [
    {
     "name": "stdout",
     "output_type": "stream",
     "text": [
      "[30444 67274 21455 ... 22244 49912 14666]\n"
     ]
    }
   ],
   "source": [
    "indices = np.arange(encoder_input.shape[0])\n",
    "np.random.shuffle(indices)\n",
    "print(indices)"
   ]
  },
  {
   "cell_type": "code",
   "execution_count": null,
   "id": "ab1e012c",
   "metadata": {
    "scrolled": true
   },
   "outputs": [],
   "source": [
    "encoder_input = encoder_input[indices]\n",
    "decoder_input = decoder_input[indices]\n",
    "decoder_target = decoder_target[indices]"
   ]
  },
  {
   "cell_type": "code",
   "execution_count": 36,
   "id": "6116f719",
   "metadata": {},
   "outputs": [
    {
     "name": "stdout",
     "output_type": "stream",
     "text": [
      "테스트 데이터의 수 : 15150\n"
     ]
    }
   ],
   "source": [
    "n_of_val = int(len(encoder_input)*0.2)\n",
    "print('테스트 데이터의 수 :', n_of_val)"
   ]
  },
  {
   "cell_type": "code",
   "execution_count": 37,
   "id": "1d326ac5",
   "metadata": {},
   "outputs": [
    {
     "name": "stdout",
     "output_type": "stream",
     "text": [
      "훈련 데이터의 개수 : 60604\n",
      "훈련 레이블의 개수 : 60604\n",
      "테스트 데이터의 개수 : 15150\n",
      "테스트 레이블의 개수 : 15150\n"
     ]
    }
   ],
   "source": [
    "encoder_input_train = encoder_input[:-n_of_val]\n",
    "decoder_input_train = decoder_input[:-n_of_val]\n",
    "decoder_target_train = decoder_target[:-n_of_val]\n",
    "\n",
    "encoder_input_test = encoder_input[-n_of_val:]\n",
    "decoder_input_test = decoder_input[-n_of_val:]\n",
    "decoder_target_test = decoder_target[-n_of_val:]\n",
    "\n",
    "print('훈련 데이터의 개수 :', len(encoder_input_train))\n",
    "print('훈련 레이블의 개수 :', len(decoder_input_train))\n",
    "print('테스트 데이터의 개수 :', len(encoder_input_test))\n",
    "print('테스트 레이블의 개수 :', len(decoder_input_test))"
   ]
  },
  {
   "cell_type": "markdown",
   "id": "32f954e4",
   "metadata": {},
   "source": [
    "### 단어 집합(vocabulary) 만들기 및 정수 인코딩"
   ]
  },
  {
   "cell_type": "code",
   "execution_count": 38,
   "id": "94773836",
   "metadata": {},
   "outputs": [],
   "source": [
    "src_tokenizer = Tokenizer() # 토크나이저 정의\n",
    "src_tokenizer.fit_on_texts(encoder_input_train) # 입력된 데이터로부터 단어 집합 생성"
   ]
  },
  {
   "cell_type": "code",
   "execution_count": 47,
   "id": "8ca02609",
   "metadata": {},
   "outputs": [
    {
     "name": "stdout",
     "output_type": "stream",
     "text": [
      "단어 집합(vocabulary)의 크기 : 60254\n",
      "등장 빈도가 4번 이하인 희귀 단어의 수: 37451\n",
      "단어 집합에서 희귀 단어를 제외시킬 경우의 단어 집합의 크기 22803\n",
      "단어 집합에서 희귀 단어의 비율: 62.15520961263983\n",
      "전체 등장 빈도에서 희귀 단어 등장 빈도 비율: 3.1007031187630094\n"
     ]
    }
   ],
   "source": [
    "threshold = 5\n",
    "total_cnt = len(src_tokenizer.word_index) # 단어의 수\n",
    "rare_cnt = 0 # 등장 빈도수가 threshold보다 작은 단어의 개수를 카운트\n",
    "total_freq = 0 # 훈련 데이터의 전체 단어 빈도수 총 합\n",
    "rare_freq = 0 # 등장 빈도수가 threshold보다 작은 단어의 등장 빈도수의 총 합\n",
    "\n",
    "# 단어와 빈도수의 쌍(pair)을 key와 value로 받는다.\n",
    "for key, value in src_tokenizer.word_counts.items():\n",
    "    total_freq = total_freq + value\n",
    "\n",
    "    # 단어의 등장 빈도수가 threshold보다 작으면\n",
    "    if(value < threshold):\n",
    "        rare_cnt = rare_cnt + 1\n",
    "        rare_freq = rare_freq + value\n",
    "\n",
    "print('단어 집합(vocabulary)의 크기 :', total_cnt)\n",
    "print('등장 빈도가 %s번 이하인 희귀 단어의 수: %s'%(threshold - 1, rare_cnt))\n",
    "print('단어 집합에서 희귀 단어를 제외시킬 경우의 단어 집합의 크기 %s'%(total_cnt - rare_cnt))\n",
    "print(\"단어 집합에서 희귀 단어의 비율:\", (rare_cnt / total_cnt)*100)\n",
    "print(\"전체 등장 빈도에서 희귀 단어 등장 빈도 비율:\", (rare_freq / total_freq)*100)"
   ]
  },
  {
   "cell_type": "code",
   "execution_count": 48,
   "id": "709f6021",
   "metadata": {},
   "outputs": [],
   "source": [
    "# 포함되지 않은 희귀 단어 등장 비율이 3%대 정도로 유지\n",
    "src_vocab = 20000\n",
    "src_tokenizer = Tokenizer(num_words=src_vocab) # 단어 집합의 크기를 20,000으로 제한\n",
    "src_tokenizer.fit_on_texts(encoder_input_train) # 단어 집합 재생성"
   ]
  },
  {
   "cell_type": "code",
   "execution_count": 49,
   "id": "5a942182",
   "metadata": {},
   "outputs": [
    {
     "name": "stdout",
     "output_type": "stream",
     "text": [
      "[[599, 58, 57, 15, 4220, 53, 3439, 80, 83, 47, 591, 6945, 5545, 85, 481, 3440, 4133, 6, 83, 1003, 234, 120, 178, 8, 85, 82, 3709, 481, 1744, 393, 81], [30, 816, 58, 16679, 8391, 13036, 6946, 365, 22, 426, 67, 706, 16, 1003, 2728, 3902, 848, 7, 1535, 11629, 232, 658, 695, 848, 740, 1437, 262, 1043, 1], [1558, 1093, 179, 1079, 355, 4650, 6523, 290, 6316, 563, 1047, 1187, 15, 1, 6947, 86, 289, 8392, 1, 2815, 779, 2905, 1047, 1093, 319, 6523, 1194, 85, 2065, 1886, 29, 12, 174]]\n"
     ]
    }
   ],
   "source": [
    "# 텍스트 시퀀스를 정수 시퀀스로 변환\n",
    "encoder_input_train = src_tokenizer.texts_to_sequences(encoder_input_train) \n",
    "encoder_input_test = src_tokenizer.texts_to_sequences(encoder_input_test)\n",
    "\n",
    "# 잘 진행되었는지 샘플 출력\n",
    "print(encoder_input_train[:3])"
   ]
  },
  {
   "cell_type": "code",
   "execution_count": 50,
   "id": "c5ccc1a0",
   "metadata": {},
   "outputs": [],
   "source": [
    "tar_tokenizer = Tokenizer()\n",
    "tar_tokenizer.fit_on_texts(decoder_input_train)"
   ]
  },
  {
   "cell_type": "code",
   "execution_count": 58,
   "id": "aa8bcc89",
   "metadata": {},
   "outputs": [
    {
     "name": "stdout",
     "output_type": "stream",
     "text": [
      "단어 집합(vocabulary)의 크기 : 27100\n",
      "등장 빈도가 5번 이하인 희귀 단어의 수: 18033\n",
      "단어 집합에서 희귀 단어를 제외시킬 경우의 단어 집합의 크기 9067\n",
      "단어 집합에서 희귀 단어의 비율: 66.54243542435424\n",
      "전체 등장 빈도에서 희귀 단어 등장 빈도 비율: 5.609473821477473\n"
     ]
    }
   ],
   "source": [
    "threshold = 6\n",
    "total_cnt = len(tar_tokenizer.word_index) # 단어의 수\n",
    "rare_cnt = 0 # 등장 빈도수가 threshold보다 작은 단어의 개수를 카운트\n",
    "total_freq = 0 # 훈련 데이터의 전체 단어 빈도수 총 합\n",
    "rare_freq = 0 # 등장 빈도수가 threshold보다 작은 단어의 등장 빈도수의 총 합\n",
    "\n",
    "# 단어와 빈도수의 쌍(pair)을 key와 value로 받는다.\n",
    "for key, value in tar_tokenizer.word_counts.items():\n",
    "    total_freq = total_freq + value\n",
    "\n",
    "    # 단어의 등장 빈도수가 threshold보다 작으면\n",
    "    if(value < threshold):\n",
    "        rare_cnt = rare_cnt + 1\n",
    "        rare_freq = rare_freq + value\n",
    "\n",
    "print('단어 집합(vocabulary)의 크기 :', total_cnt)\n",
    "print('등장 빈도가 %s번 이하인 희귀 단어의 수: %s'%(threshold - 1, rare_cnt))\n",
    "print('단어 집합에서 희귀 단어를 제외시킬 경우의 단어 집합의 크기 %s'%(total_cnt - rare_cnt))\n",
    "print(\"단어 집합에서 희귀 단어의 비율:\", (rare_cnt / total_cnt)*100)\n",
    "print(\"전체 등장 빈도에서 희귀 단어 등장 빈도 비율:\", (rare_freq / total_freq)*100)"
   ]
  },
  {
   "cell_type": "code",
   "execution_count": 59,
   "id": "6a6a18e5",
   "metadata": {},
   "outputs": [
    {
     "name": "stdout",
     "output_type": "stream",
     "text": [
      "input\n",
      "input  [[1, 4003, 579, 1928, 551, 3, 69, 56, 59, 4354], [1, 19, 654, 46, 5, 5797, 4, 126, 63], [1, 973, 86, 385, 3, 4004, 608, 70, 204, 4526, 614, 280], [1, 472, 527, 3, 638, 44, 2409, 3286, 4, 2526], [1, 42, 1733, 1413, 156, 2351, 1437, 59, 639, 722]]\n",
      "target\n",
      "decoder  [[4003, 579, 1928, 551, 3, 69, 56, 59, 4354, 2], [19, 654, 46, 5, 5797, 4, 126, 63, 2], [973, 86, 385, 3, 4004, 608, 70, 204, 4526, 614, 280, 2], [472, 527, 3, 638, 44, 2409, 3286, 4, 2526, 2], [42, 1733, 1413, 156, 2351, 1437, 59, 639, 722, 2]]\n"
     ]
    }
   ],
   "source": [
    "# 포함되지 않은 희귀 단어 등장 비율이 5%대 정도; 단어 집합의 크기 9,000\n",
    "tar_vocab = 9000\n",
    "tar_tokenizer = Tokenizer(num_words=tar_vocab) \n",
    "tar_tokenizer.fit_on_texts(decoder_input_train)\n",
    "tar_tokenizer.fit_on_texts(decoder_target_train)\n",
    "\n",
    "# 텍스트 시퀀스를 정수 시퀀스로 변환\n",
    "decoder_input_train = tar_tokenizer.texts_to_sequences(decoder_input_train) \n",
    "decoder_target_train = tar_tokenizer.texts_to_sequences(decoder_target_train)\n",
    "decoder_input_test = tar_tokenizer.texts_to_sequences(decoder_input_test)\n",
    "decoder_target_test = tar_tokenizer.texts_to_sequences(decoder_target_test)\n",
    "\n",
    "# 잘 변환되었는지 확인\n",
    "print('input')\n",
    "print('input ',decoder_input_train[:5])\n",
    "print('target')\n",
    "print('decoder ',decoder_target_train[:5])"
   ]
  },
  {
   "cell_type": "code",
   "execution_count": 60,
   "id": "166e080e",
   "metadata": {},
   "outputs": [
    {
     "name": "stdout",
     "output_type": "stream",
     "text": [
      "삭제할 훈련 데이터의 개수 : 0\n",
      "삭제할 테스트 데이터의 개수 : 1\n",
      "훈련 데이터의 개수 : 60604\n",
      "훈련 레이블의 개수 : 60604\n",
      "테스트 데이터의 개수 : 15149\n",
      "테스트 레이블의 개수 : 15149\n"
     ]
    }
   ],
   "source": [
    "drop_train = [index for index, sentence in enumerate(decoder_input_train) if len(sentence) == 1]\n",
    "drop_test = [index for index, sentence in enumerate(decoder_input_test) if len(sentence) == 1]\n",
    "\n",
    "print('삭제할 훈련 데이터의 개수 :', len(drop_train))\n",
    "print('삭제할 테스트 데이터의 개수 :', len(drop_test))\n",
    "\n",
    "encoder_input_train = [sentence for index, sentence in enumerate(encoder_input_train) if index not in drop_train]\n",
    "decoder_input_train = [sentence for index, sentence in enumerate(decoder_input_train) if index not in drop_train]\n",
    "decoder_target_train = [sentence for index, sentence in enumerate(decoder_target_train) if index not in drop_train]\n",
    "\n",
    "encoder_input_test = [sentence for index, sentence in enumerate(encoder_input_test) if index not in drop_test]\n",
    "decoder_input_test = [sentence for index, sentence in enumerate(decoder_input_test) if index not in drop_test]\n",
    "decoder_target_test = [sentence for index, sentence in enumerate(decoder_target_test) if index not in drop_test]\n",
    "\n",
    "print('훈련 데이터의 개수 :', len(encoder_input_train))\n",
    "print('훈련 레이블의 개수 :', len(decoder_input_train))\n",
    "print('테스트 데이터의 개수 :', len(encoder_input_test))\n",
    "print('테스트 레이블의 개수 :', len(decoder_input_test))"
   ]
  },
  {
   "cell_type": "code",
   "execution_count": 61,
   "id": "bfd539de",
   "metadata": {},
   "outputs": [],
   "source": [
    "encoder_input_train = pad_sequences(encoder_input_train, maxlen=text_max_len, padding='post')\n",
    "encoder_input_test = pad_sequences(encoder_input_test, maxlen=text_max_len, padding='post')\n",
    "decoder_input_train = pad_sequences(decoder_input_train, maxlen=summary_max_len, padding='post')\n",
    "decoder_target_train = pad_sequences(decoder_target_train, maxlen=summary_max_len, padding='post')\n",
    "decoder_input_test = pad_sequences(decoder_input_test, maxlen=summary_max_len, padding='post')\n",
    "decoder_target_test = pad_sequences(decoder_target_test, maxlen=summary_max_len, padding='post')"
   ]
  },
  {
   "cell_type": "markdown",
   "id": "202daf81",
   "metadata": {},
   "source": [
    "## 추상적 요약 -- 어텐션 메커니즘"
   ]
  },
  {
   "cell_type": "markdown",
   "id": "2c4d7e98",
   "metadata": {},
   "source": [
    "### 함수형 API를 이용해서 인코더를 설계"
   ]
  },
  {
   "cell_type": "code",
   "execution_count": 87,
   "id": "815256f9",
   "metadata": {},
   "outputs": [
    {
     "name": "stdout",
     "output_type": "stream",
     "text": [
      "WARNING:tensorflow:Layer lstm_4 will not use cuDNN kernels since it doesn't meet the criteria. It will use a generic GPU kernel as fallback when running on GPU.\n",
      "WARNING:tensorflow:Layer lstm_5 will not use cuDNN kernels since it doesn't meet the criteria. It will use a generic GPU kernel as fallback when running on GPU.\n",
      "WARNING:tensorflow:Layer lstm_6 will not use cuDNN kernels since it doesn't meet the criteria. It will use a generic GPU kernel as fallback when running on GPU.\n"
     ]
    }
   ],
   "source": [
    "from tensorflow.keras.layers import Input, LSTM, Embedding, Dense, Concatenate, TimeDistributed\n",
    "from tensorflow.keras.models import Model\n",
    "from tensorflow.keras.callbacks import EarlyStopping, ModelCheckpoint\n",
    "\n",
    "\n",
    "# 인코더 설계 시작\n",
    "embedding_dim = 128\n",
    "hidden_size = 256\n",
    "\n",
    "# 인코더\n",
    "encoder_inputs = Input(shape=(text_max_len,))\n",
    "\n",
    "# 인코더의 임베딩 층\n",
    "enc_emb = Embedding(src_vocab, embedding_dim)(encoder_inputs)\n",
    "\n",
    "# 인코더의 LSTM 1\n",
    "# encoder_lstm1 = LSTM(hidden_size, return_sequences=True, return_state=True ,dropout = 0.4, recurrent_dropout = 0.4)\n",
    "encoder_lstm1 = LSTM(hidden_size, return_sequences=True, return_state=True\n",
    "                     ,dropout = 0.4, recurrent_dropout = 0.4, unroll=True)\n",
    "encoder_output1, state_h1, state_c1 = encoder_lstm1(enc_emb)\n",
    "\n",
    "# 인코더의 LSTM 2\n",
    "encoder_lstm2 = LSTM(hidden_size, return_sequences=True, return_state=True\n",
    "                     ,dropout = 0.4, recurrent_dropout = 0.4, unroll=True)\n",
    "encoder_output2, state_h2, state_c2 = encoder_lstm2(encoder_output1)\n",
    "\n",
    "# 인코더의 LSTM 3\n",
    "encoder_lstm3 = LSTM(hidden_size, return_sequences=True, return_state=True\n",
    "                     ,dropout = 0.4, recurrent_dropout = 0.4, unroll=True)\n",
    "encoder_outputs, state_h, state_c = encoder_lstm3(encoder_output2)\n"
   ]
  },
  {
   "cell_type": "code",
   "execution_count": 89,
   "id": "23fc6e85",
   "metadata": {},
   "outputs": [
    {
     "name": "stdout",
     "output_type": "stream",
     "text": [
      "WARNING:tensorflow:Layer lstm_8 will not use cuDNN kernels since it doesn't meet the criteria. It will use a generic GPU kernel as fallback when running on GPU.\n"
     ]
    }
   ],
   "source": [
    "# 디코더 설계\n",
    "# decoder_inputs = Input(shape=(None,))\n",
    "decoder_inputs = Input(shape=(summary_max_len,))\n",
    "\n",
    "# 디코더의 임베딩 층\n",
    "dec_emb_layer = Embedding(tar_vocab, embedding_dim)\n",
    "dec_emb = dec_emb_layer(decoder_inputs)\n",
    "\n",
    "# 디코더의 LSTM\n",
    "# decoder_lstm = LSTM(hidden_size, return_sequences=True, return_state=True, dropout=0.4, recurrent_dropout=0.2)\n",
    "decoder_lstm = LSTM(hidden_size, return_sequences=True, return_state=True\n",
    "                     ,dropout = 0.4, recurrent_dropout = 0.2, unroll=True)\n",
    "decoder_outputs, _, _ = decoder_lstm(dec_emb, initial_state=[state_h, state_c])"
   ]
  },
  {
   "cell_type": "code",
   "execution_count": 90,
   "id": "84bdad02",
   "metadata": {
    "collapsed": true
   },
   "outputs": [
    {
     "name": "stdout",
     "output_type": "stream",
     "text": [
      "Model: \"model_4\"\n",
      "__________________________________________________________________________________________________\n",
      "Layer (type)                    Output Shape         Param #     Connected to                     \n",
      "==================================================================================================\n",
      "input_6 (InputLayer)            [(None, 38)]         0                                            \n",
      "__________________________________________________________________________________________________\n",
      "embedding_2 (Embedding)         (None, 38, 128)      2560000     input_6[0][0]                    \n",
      "__________________________________________________________________________________________________\n",
      "lstm_4 (LSTM)                   [(None, 38, 256), (N 394240      embedding_2[0][0]                \n",
      "__________________________________________________________________________________________________\n",
      "input_8 (InputLayer)            [(None, 11)]         0                                            \n",
      "__________________________________________________________________________________________________\n",
      "lstm_5 (LSTM)                   [(None, 38, 256), (N 525312      lstm_4[0][0]                     \n",
      "__________________________________________________________________________________________________\n",
      "embedding_4 (Embedding)         (None, 11, 128)      1152000     input_8[0][0]                    \n",
      "__________________________________________________________________________________________________\n",
      "lstm_6 (LSTM)                   [(None, 38, 256), (N 525312      lstm_5[0][0]                     \n",
      "__________________________________________________________________________________________________\n",
      "lstm_8 (LSTM)                   [(None, 11, 256), (N 394240      embedding_4[0][0]                \n",
      "                                                                 lstm_6[0][1]                     \n",
      "                                                                 lstm_6[0][2]                     \n",
      "__________________________________________________________________________________________________\n",
      "attention_layer (AdditiveAttent (None, 11, 256)      256         lstm_8[0][0]                     \n",
      "                                                                 lstm_6[0][0]                     \n",
      "__________________________________________________________________________________________________\n",
      "concat_layer (Concatenate)      (None, 11, 512)      0           lstm_8[0][0]                     \n",
      "                                                                 attention_layer[0][0]            \n",
      "__________________________________________________________________________________________________\n",
      "dense_2 (Dense)                 (None, 11, 9000)     4617000     concat_layer[0][0]               \n",
      "==================================================================================================\n",
      "Total params: 10,168,360\n",
      "Trainable params: 10,168,360\n",
      "Non-trainable params: 0\n",
      "__________________________________________________________________________________________________\n"
     ]
    }
   ],
   "source": [
    "from tensorflow.keras.layers import AdditiveAttention\n",
    "\n",
    "# 어텐션 층(어텐션 함수)\n",
    "attn_layer = AdditiveAttention(name='attention_layer')\n",
    "\n",
    "# 인코더와 디코더의 모든 time step의 hidden state를 어텐션 층에 전달하고 결과를 리턴\n",
    "attn_out = attn_layer([decoder_outputs, encoder_outputs])\n",
    "\n",
    "# 어텐션의 결과와 디코더의 hidden state들을 연결\n",
    "decoder_concat_input = Concatenate(axis=-1, name='concat_layer')([decoder_outputs, attn_out])\n",
    "\n",
    "# 디코더의 출력층\n",
    "decoder_softmax_layer = Dense(tar_vocab, activation='softmax')\n",
    "decoder_softmax_outputs = decoder_softmax_layer(decoder_concat_input)\n",
    "\n",
    "# 모델 정의\n",
    "model = Model([encoder_inputs, decoder_inputs], decoder_softmax_outputs)\n",
    "model.summary()"
   ]
  },
  {
   "cell_type": "code",
   "execution_count": 91,
   "id": "924e8f4e",
   "metadata": {},
   "outputs": [
    {
     "name": "stdout",
     "output_type": "stream",
     "text": [
      "Epoch 1/50\n",
      "237/237 [==============================] - 94s 191ms/step - loss: 5.9985 - val_loss: 5.5860\n",
      "Epoch 2/50\n",
      "237/237 [==============================] - 39s 163ms/step - loss: 5.4802 - val_loss: 5.2707\n",
      "Epoch 3/50\n",
      "237/237 [==============================] - 39s 163ms/step - loss: 5.1972 - val_loss: 5.0289\n",
      "Epoch 4/50\n",
      "237/237 [==============================] - 39s 163ms/step - loss: 4.9839 - val_loss: 4.8583\n",
      "Epoch 5/50\n",
      "237/237 [==============================] - 39s 163ms/step - loss: 4.7971 - val_loss: 4.7158\n",
      "Epoch 6/50\n",
      "237/237 [==============================] - 39s 163ms/step - loss: 4.6343 - val_loss: 4.5975\n",
      "Epoch 7/50\n",
      "237/237 [==============================] - 39s 164ms/step - loss: 4.4974 - val_loss: 4.5075\n",
      "Epoch 8/50\n",
      "237/237 [==============================] - 39s 163ms/step - loss: 4.3744 - val_loss: 4.4216\n",
      "Epoch 9/50\n",
      "237/237 [==============================] - 39s 163ms/step - loss: 4.2617 - val_loss: 4.3503\n",
      "Epoch 10/50\n",
      "237/237 [==============================] - 39s 163ms/step - loss: 4.1605 - val_loss: 4.2926\n",
      "Epoch 11/50\n",
      "237/237 [==============================] - 39s 164ms/step - loss: 4.0679 - val_loss: 4.2509\n",
      "Epoch 12/50\n",
      "237/237 [==============================] - 39s 163ms/step - loss: 3.9864 - val_loss: 4.1945\n",
      "Epoch 13/50\n",
      "237/237 [==============================] - 39s 163ms/step - loss: 3.9096 - val_loss: 4.1544\n",
      "Epoch 14/50\n",
      "237/237 [==============================] - 39s 164ms/step - loss: 3.8353 - val_loss: 4.1246\n",
      "Epoch 15/50\n",
      "237/237 [==============================] - 39s 164ms/step - loss: 3.7675 - val_loss: 4.0873\n",
      "Epoch 16/50\n",
      "237/237 [==============================] - 39s 163ms/step - loss: 3.7077 - val_loss: 4.0682\n",
      "Epoch 17/50\n",
      "237/237 [==============================] - 39s 163ms/step - loss: 3.6501 - val_loss: 4.0436\n",
      "Epoch 18/50\n",
      "237/237 [==============================] - 39s 163ms/step - loss: 3.5944 - val_loss: 4.0168\n",
      "Epoch 19/50\n",
      "237/237 [==============================] - 39s 164ms/step - loss: 3.5440 - val_loss: 4.0005\n",
      "Epoch 20/50\n",
      "237/237 [==============================] - 39s 164ms/step - loss: 3.4963 - val_loss: 3.9866\n",
      "Epoch 21/50\n",
      "237/237 [==============================] - 39s 163ms/step - loss: 3.4522 - val_loss: 3.9632\n",
      "Epoch 22/50\n",
      "237/237 [==============================] - 39s 163ms/step - loss: 3.4045 - val_loss: 3.9536\n",
      "Epoch 23/50\n",
      "237/237 [==============================] - 39s 164ms/step - loss: 3.3611 - val_loss: 3.9367\n",
      "Epoch 24/50\n",
      "237/237 [==============================] - 39s 163ms/step - loss: 3.3202 - val_loss: 3.9257\n",
      "Epoch 25/50\n",
      "237/237 [==============================] - 39s 163ms/step - loss: 3.2817 - val_loss: 3.9121\n",
      "Epoch 26/50\n",
      "237/237 [==============================] - 39s 163ms/step - loss: 3.2459 - val_loss: 3.9031\n",
      "Epoch 27/50\n",
      "237/237 [==============================] - 39s 163ms/step - loss: 3.2099 - val_loss: 3.8957\n",
      "Epoch 28/50\n",
      "237/237 [==============================] - 39s 163ms/step - loss: 3.1740 - val_loss: 3.8821\n",
      "Epoch 29/50\n",
      "237/237 [==============================] - 39s 163ms/step - loss: 3.1432 - val_loss: 3.8811\n",
      "Epoch 30/50\n",
      "237/237 [==============================] - 39s 163ms/step - loss: 3.1139 - val_loss: 3.8683\n",
      "Epoch 31/50\n",
      "237/237 [==============================] - 39s 164ms/step - loss: 3.0874 - val_loss: 3.8640\n",
      "Epoch 32/50\n",
      "237/237 [==============================] - 39s 163ms/step - loss: 3.0596 - val_loss: 3.8580\n",
      "Epoch 33/50\n",
      "237/237 [==============================] - 39s 163ms/step - loss: 3.0284 - val_loss: 3.8463\n",
      "Epoch 34/50\n",
      "237/237 [==============================] - 39s 164ms/step - loss: 3.0012 - val_loss: 3.8463\n",
      "Epoch 35/50\n",
      "237/237 [==============================] - 39s 163ms/step - loss: 2.9726 - val_loss: 3.8360\n",
      "Epoch 36/50\n",
      "237/237 [==============================] - 39s 163ms/step - loss: 2.9487 - val_loss: 3.8348\n",
      "Epoch 37/50\n",
      "237/237 [==============================] - 39s 163ms/step - loss: 2.9257 - val_loss: 3.8323\n",
      "Epoch 38/50\n",
      "237/237 [==============================] - 39s 163ms/step - loss: 2.9037 - val_loss: 3.8276\n",
      "Epoch 39/50\n",
      "237/237 [==============================] - 39s 163ms/step - loss: 2.8817 - val_loss: 3.8223\n",
      "Epoch 40/50\n",
      "237/237 [==============================] - 39s 163ms/step - loss: 2.8613 - val_loss: 3.8167\n",
      "Epoch 41/50\n",
      "237/237 [==============================] - 39s 163ms/step - loss: 2.8402 - val_loss: 3.8143\n",
      "Epoch 42/50\n",
      "237/237 [==============================] - 39s 164ms/step - loss: 2.8199 - val_loss: 3.8101\n",
      "Epoch 43/50\n",
      "237/237 [==============================] - 39s 163ms/step - loss: 2.7960 - val_loss: 3.8091\n",
      "Epoch 44/50\n",
      "237/237 [==============================] - 39s 163ms/step - loss: 2.7754 - val_loss: 3.8044\n",
      "Epoch 45/50\n",
      "237/237 [==============================] - 39s 163ms/step - loss: 2.7558 - val_loss: 3.8069\n",
      "Epoch 46/50\n",
      "237/237 [==============================] - 39s 163ms/step - loss: 2.7372 - val_loss: 3.8041\n",
      "Epoch 47/50\n",
      "237/237 [==============================] - 39s 163ms/step - loss: 2.7176 - val_loss: 3.8032\n",
      "Epoch 48/50\n",
      "237/237 [==============================] - 39s 163ms/step - loss: 2.6938 - val_loss: 3.7986\n",
      "Epoch 49/50\n",
      "237/237 [==============================] - 39s 163ms/step - loss: 2.6758 - val_loss: 3.7929\n",
      "Epoch 50/50\n",
      "237/237 [==============================] - 39s 163ms/step - loss: 2.6567 - val_loss: 3.7953\n"
     ]
    }
   ],
   "source": [
    "model.compile(optimizer='rmsprop', loss='sparse_categorical_crossentropy')\n",
    "# es = EarlyStopping(monitor='val_loss', patience=2, verbose=1)\n",
    "mc = ModelCheckpoint(filepath = \"/aiffel/aiffel/news_summarization/model_proj.h5\",\n",
    "                    monitor='val_loss', save_best_only=True)\n",
    "history = model.fit(x=[encoder_input_train, decoder_input_train], y=decoder_target_train,\n",
    "          validation_data=([encoder_input_test, decoder_input_test], decoder_target_test),\n",
    "          batch_size=256, callbacks=[mc], epochs=50)"
   ]
  },
  {
   "cell_type": "raw",
   "id": "fb32b03c",
   "metadata": {},
   "source": [
    "def plot_training_history(history):\n",
    "    fig, axes = plt.subplots(1, 2, figsize=(8,4))\n",
    "    # plt.title(\"Training and validation loss(lesf)/accuracy(right)\")\n",
    "    history_dict = history.history\n",
    "    loss_values = history_dict[\"loss\"]\n",
    "    val_loss_values = history_dict[\"val_loss\"]\n",
    "    epochs = range(1, len(loss_values) + 1)\n",
    "    axes[0].plot(epochs, loss_values, \"bo\", label=\"Training loss\",)\n",
    "    axes[0].plot(epochs, val_loss_values, \"b\", label=\"Validation loss\",)\n",
    "    axes[0].set_xlabel(\"Epochs\")\n",
    "    axes[0].set_ylabel(\"Loss\")\n",
    "    axes[0].legend()\n",
    "\n",
    "    # plt.clf()\n",
    "    if \"accuracy\" in history_dict:\n",
    "        acc = history_dict[\"accuracy\"]\n",
    "        val_acc = history_dict[\"val_accuracy\"]\n",
    "        axes[1].plot(epochs, acc, \"bo\", label=\"Training acc\",)\n",
    "        axes[1].plot(epochs, val_acc, \"b\", label=\"Validation acc\",)\n",
    "        axes[1].set_xlabel(\"Epochs\")\n",
    "        axes[1].set_ylabel(\"Accuracy\")\n",
    "        axes[1].legend()\n",
    "\n",
    "    plt.show()"
   ]
  },
  {
   "cell_type": "code",
   "execution_count": 92,
   "id": "85b16e92",
   "metadata": {
    "scrolled": true
   },
   "outputs": [
    {
     "data": {
      "image/png": "[encoded data removed]",
      "text/plain": [
       "<Figure size 576x288 with 2 Axes>"
      ]
     },
     "metadata": {
      "needs_background": "light"
     },
     "output_type": "display_data"
    }
   ],
   "source": [
    "plot_training_history(history)"
   ]
  },
  {
   "cell_type": "markdown",
   "id": "64c4152c",
   "metadata": {},
   "source": [
    "### 인퍼런스 모델"
   ]
  },
  {
   "cell_type": "code",
   "execution_count": 70,
   "id": "5e952b59",
   "metadata": {},
   "outputs": [],
   "source": [
    "src_index_to_word = src_tokenizer.index_word # 원문 단어 집합에서 정수 -> 단어를 얻음\n",
    "tar_word_to_index = tar_tokenizer.word_index # 요약 단어 집합에서 단어 -> 정수를 얻음\n",
    "tar_index_to_word = tar_tokenizer.index_word # 요약 단어 집합에서 정수 -> 단어를 얻음"
   ]
  },
  {
   "cell_type": "markdown",
   "id": "ccf74790",
   "metadata": {},
   "source": [
    "#### 아래 두 블럭을 실행해야 새로 학습된 모델의 인퍼런스를 실행할 수 있다.\n",
    "   - 모델을 'build'하는 단계에 가중치 업데이트가 들어가는 듯.\n",
    "   - 'input'부터 'output'까지 레이어를 타고 넘어가면서 구조와 가중치를 새로 참조하는 것으로 이해된다.\n",
    "   - 애초에 새로 학습하는 단계에서 'compile'을 했기 때문일 수도 있겠다.\n",
    "   - 'compile'없이 가중치만 새로 주고 추가학습은 가능할까?"
   ]
  },
  {
   "cell_type": "code",
   "execution_count": 109,
   "id": "77ba96be",
   "metadata": {},
   "outputs": [],
   "source": [
    "# 인코더 설계; 이 줄에서 이전에 학습된 인코더 층들을 불러온다\n",
    "encoder_model = Model(inputs=encoder_inputs, outputs=[encoder_outputs, state_h, state_c])\n",
    "\n",
    "# 이전 시점의 상태들을 저장하는 텐서\n",
    "decoder_state_input_h = Input(shape=(hidden_size,))\n",
    "decoder_state_input_c = Input(shape=(hidden_size,))\n",
    "\n",
    "# 이전에 학습된 디코더 임베딩 층을 불러온다\n",
    "# decoder_inputs의 사이즈가 정해져 있어도 괜찮을까?\n",
    "dec_emb2 = dec_emb_layer(decoder_inputs)\n",
    "\n",
    "decoder_outputs2, state_h2, state_c2 = decoder_lstm(\n",
    "        dec_emb2, initial_state=[decoder_state_input_h, decoder_state_input_c])"
   ]
  },
  {
   "cell_type": "code",
   "execution_count": 110,
   "id": "136c57e9",
   "metadata": {},
   "outputs": [],
   "source": [
    "# 어텐션 함수\n",
    "decoder_hidden_state_input = Input(shape=(text_max_len, hidden_size))\n",
    "attn_out_inf = attn_layer([decoder_outputs2, decoder_hidden_state_input])\n",
    "decoder_inf_concat = Concatenate(axis=-1, name='concat')([decoder_outputs2, attn_out_inf])\n",
    "\n",
    "# 디코더의 출력층\n",
    "decoder_outputs2 = decoder_softmax_layer(decoder_inf_concat) \n",
    "\n",
    "# 최종 디코더 모델\n",
    "decoder_model = Model(\n",
    "    [decoder_inputs] + [decoder_hidden_state_input,decoder_state_input_h, decoder_state_input_c],\n",
    "    [decoder_outputs2] + [state_h2, state_c2])"
   ]
  },
  {
   "cell_type": "code",
   "execution_count": 111,
   "id": "27746b58",
   "metadata": {},
   "outputs": [],
   "source": [
    "def decode_sequence(input_seq):\n",
    "    # 입력으로부터 인코더의 상태를 얻음\n",
    "    e_out, e_h, e_c = encoder_model.predict(input_seq)\n",
    "\n",
    "     # <SOS>에 해당하는 토큰 생성\n",
    "    target_seq = np.zeros((1,1))\n",
    "    target_seq[0, 0] = tar_word_to_index['sostoken']\n",
    "\n",
    "    stop_condition = False\n",
    "    decoded_sentence = ''\n",
    "    while not stop_condition: # stop_condition이 True가 될 때까지 루프 반복\n",
    "\n",
    "        output_tokens, h, c = decoder_model.predict([target_seq] + [e_out, e_h, e_c])\n",
    "        sampled_token_index = np.argmax(output_tokens[0, -1, :])\n",
    "        sampled_token = tar_index_to_word[sampled_token_index]\n",
    "\n",
    "        if (sampled_token!='eostoken'):\n",
    "            decoded_sentence += ' '+sampled_token\n",
    "\n",
    "        #  <eos>에 도달하거나 최대 길이를 넘으면 중단.\n",
    "        if (sampled_token == 'eostoken'  or len(decoded_sentence.split()) >= (summary_max_len-1)):\n",
    "            stop_condition = True\n",
    "\n",
    "        # 길이가 1인 타겟 시퀀스를 업데이트\n",
    "        target_seq = np.zeros((1,1))\n",
    "        target_seq[0, 0] = sampled_token_index\n",
    "\n",
    "        # 상태를 업데이트 합니다.\n",
    "        e_h, e_c = h, c\n",
    "\n",
    "    return decoded_sentence"
   ]
  },
  {
   "cell_type": "markdown",
   "id": "564b199b",
   "metadata": {},
   "source": [
    "## 추상적 요약 -- 실제 결과와 요약문 비교"
   ]
  },
  {
   "cell_type": "markdown",
   "id": "a4922761",
   "metadata": {},
   "source": [
    "### 모델 테스트"
   ]
  },
  {
   "cell_type": "code",
   "execution_count": 112,
   "id": "45e45776",
   "metadata": {},
   "outputs": [],
   "source": [
    "# 원문의 정수 시퀀스를 텍스트 시퀀스로 변환\n",
    "def seq2text(input_seq):\n",
    "    temp=''\n",
    "    for i in input_seq:\n",
    "        if (i!=0):\n",
    "            temp = temp + src_index_to_word[i]+' '\n",
    "    return temp\n",
    "\n",
    "# 요약문의 정수 시퀀스를 텍스트 시퀀스로 변환\n",
    "def seq2summary(input_seq):\n",
    "    temp=''\n",
    "    for i in input_seq:\n",
    "        if (i!=0):\n",
    "            temp = temp + tar_index_to_word[i]+' '\n",
    "    return temp"
   ]
  },
  {
   "cell_type": "code",
   "execution_count": 170,
   "id": "cb3c6535",
   "metadata": {},
   "outputs": [
    {
     "name": "stdout",
     "output_type": "stream",
     "text": [
      "원문 : former india captain sourav ganguly tweeted ex bcci president anurag thakur indian cricket needs back response thakur birthday wish thakur removed bcci president post supreme court january charges connection implementation lodha panel reforms cricket administration india \n",
      "실제 요약 : sostoken ganguly tells ex bcci prez indian cricket needs him back \n",
      "예측 요약 :  sehwag wishes bcci ganguly on birthday\n",
      "\n",
      "\n",
      "원문 : researchers developed prototype smartphone case measure user blood pressure user put external pressure finger pressing sensor device let measure blood pressure meanwhile phone runs app ensure user maintains finger contact blood pressure \n",
      "실제 요약 : sostoken prototype phone case to check blood pressure developed \n",
      "예측 요약 :  device which can detect user with using developed\n",
      "\n",
      "\n",
      "원문 : actor vidyut jammwal shared video twitter seen push ups using four glass bottles two hands two feet support vidyut training part ancient martial art form originated kerala trained since age three \n",
      "실제 요약 : sostoken video shows doing push ups on glass bottles \n",
      "예측 요약 :  selfie with people in minutes\n",
      "\n",
      "\n",
      "원문 : deutsche bank agreed pay us states combined million settle probe interest rate manipulation states investigation found german bank made false london offered rate submissions inflated borrowing costs uk barclays bank paid million last year settle probe \n",
      "실제 요약 : sostoken deutsche bank to pay mn to settle us rate probe \n",
      "예측 요약 :  bank of baroda to pay mn for fraud\n",
      "\n",
      "\n",
      "원문 : special investigation team probing murder journalist gauri lankesh friday arrested first suspect case year old man link lankesh murder discovered bengaluru police detained illegal arms case february accused confessed involvement murder took place outside lankesh residence \n",
      "실제 요약 : sostoken sit makes st arrest in journo gauri lankesh murder case \n",
      "예측 요약 :  journalist gauri lankesh murder accused arrested in gurugram\n",
      "\n",
      "\n",
      "원문 : paintings possession air india sold handed ministry culture minister state civil aviation jayant sinha said paintings possession air india precious heritage country added paintings include works known artists like husain menon jatin das \n",
      "실제 요약 : sostoken air india paintings to be given to culture ministry govt \n",
      "예측 요약 :  air india minister buys air india for crore\n",
      "\n",
      "\n",
      "원문 : indian captain virat kohli became india first player score least test runs three straight years crossed landmark figure first test india windies friday former australia opener matthew hayden holds record scoring least test runs five consecutive years \n",
      "실제 요약 : sostoken kohli st indian to score test runs for straight yrs \n",
      "예측 요약 :  kohli becomes st indian to slam runs in\n",
      "\n",
      "\n",
      "원문 : janhvi kapoor instagram story shared childhood picture seen dressed clown lesser known fact nolan first choice joker decline dhadak jokingly wrote joker fictional character appears hollywood director christopher nolan superhero film dark knight \n",
      "실제 요약 : sostoken was st choice for the joker jokes janhvi kapoor \n",
      "예측 요약 :  janhvi shares pic with sridevi from sets of janhvi\n",
      "\n",
      "\n",
      "원문 : address germany congress president rahul gandhi blamed ruling nda government imposing badly conceptualised gst added gst demonetisation large numbers people worked small businesses forced back villages also said demonetisation destroyed cash flow small medium businesses millions jobless \n",
      "실제 요약 : sostoken gst made people move to villages rahul \n",
      "예측 요약 :  gst will be reduced to rahul gandhi\n",
      "\n",
      "\n",
      "원문 : heavily modified ford gt sports car monday became world fastest car hitting top speed kmph one mile previous world record kmph set back horsepower ford gt new record also beats crore bugatti supercar record kmph top speed \n",
      "실제 요약 : sostoken ford becomes world fastest car at kmph top speed \n",
      "예측 요약 :  world largest suv set up record for car\n",
      "\n",
      "\n",
      "원문 : american actress said sometimes child actors try grow fast hollywood made acting debut age added rush older needs year old actress said try take time grow pace \n",
      "실제 요약 : sostoken child actors try to grow up too fast in hollywood \n",
      "예측 요약 :  am not an thing to make myself in\n",
      "\n",
      "\n",
      "원문 : shooting upcoming episode kapil sharma show featuring shah rukh khan anushka sharma postponed kapil hospitalised day shoot feeling doctors advised get admitted said comedian kiku sharda features show episode promote film jab harry met sejal \n",
      "실제 요약 : sostoken shoot of srk episode gets postponed after kapil hospitalised \n",
      "예측 요약 :  kapil sharma show dead in shooting at show in delhi\n",
      "\n",
      "\n",
      "원문 : google testing feature help users identify battery levels connected bluetooth headphones speakers accessories feature battery level information remote device reportedly appear notification status bar however android devices companies like samsung lg oneplus already support feature \n",
      "실제 요약 : sostoken android phones to show battery level of bluetooth devices \n",
      "예측 요약 :  google to launch smart android phones with\n",
      "\n",
      "\n",
      "원문 : delhi daredevils batsman rishabh pant scored half century royal challengers bangalore ipl saturday two days father death rishabh father passed away sleep wednesday following cricketer left team camp perform last rites returned delhi opening match highest scorer team \n",
      "실제 요약 : sostoken rishabh pant hits in ipl days after his father death \n",
      "예측 요약 :  pant helps dd chase gl with wickets in ipl\n",
      "\n",
      "\n",
      "원문 : jammu kashmir police chief monday said heard nobody ready take post commander terror group lashkar taiba statement comes security forces killed abu ismail amarnath yatra attack mastermind reportedly going replace slain militant abu dujana let commander kashmir division \n",
      "실제 요약 : sostoken nobody ready to take up let leadership in police chief \n",
      "예측 요약 :  kashmir police denies reports of terrorists in kashmir\n",
      "\n",
      "\n",
      "원문 : coaching centre jammu kashmir srinagar put pictures boy killed pakistani school terrorist attack pakistani canadian comedian newspaper ad successful candidates trolled coaching centre social media several others raised concerns whether coaching centres show fake students successful candidates list \n",
      "실제 요약 : sostoken coaching centre puts terror victim comedian pic in ad \n",
      "예측 요약 :  pak soldiers slammed for using pakistan to pak soldiers\n",
      "\n",
      "\n",
      "원문 : ashwin lalit jain year old gold businessman sent text message friends saying life allegedly shooting inside car mumbai friday jain body found pool blood back seat revolver family members said could committed suicide debt \n",
      "실제 요약 : sostoken life over mumbai businessman texted friends before shooting self \n",
      "예측 요약 :  man who molested me in front of her suicide\n",
      "\n",
      "\n",
      "원문 : panchayat district bihar reportedly slapped fine youth forcibly kissing girl twice quantum financial penalty decided number said villagers girl however wants accused youth marry stating one would marry \n",
      "실제 요약 : sostoken youth in bihar fined for forcibly kissing girl \n",
      "예측 요약 :  bihar boy caught on camera\n",
      "\n",
      "\n",
      "원문 : national executive meet monday bjp passed political resolution highlighting need eradicate poverty terrorism casteism communalism corruption india get rid politics vote bank appeasement polarisation supporting terror groups union minister bjp leader nitin gadkari said \n",
      "실제 요약 : sostoken bjp to corruption terrorism by \n",
      "예측 요약 :  bjp will not be as as india political party\n",
      "\n",
      "\n",
      "원문 : content management startup raised crore seed round funding led chennai angels startup said former cognizant ceo lakshmi narayanan like mind ventures led krishnan srinivasan also participated funding round founded saas provider designed accelerate content performance \n",
      "실제 요약 : sostoken content management startup raises crore \n",
      "예측 요약 :  startup raises mn from mn valuation to invest mn\n",
      "\n",
      "\n",
      "원문 : pakistan defence minister khan said country suspended military intelligence cooperation us pakistan wants recognition sacrifices rather payment pakistani minister added comes us cut total aid least billion pakistan failing take action terrorist groups soil \n",
      "실제 요약 : sostoken pak halts military intel cooperation with us after aid cut \n",
      "예측 요약 :  pakistan not to be pakistan pm\n",
      "\n",
      "\n",
      "원문 : team doctors wednesday successfully separated odisha head joined twins hour long surgery india institute medical sciences delhi twins said critical kept observation hours twins rare occur every million births \n",
      "실제 요약 : sostoken head joined twins separated after hour surgery in delhi \n"
     ]
    },
    {
     "name": "stdout",
     "output_type": "stream",
     "text": [
      "예측 요약 :  aiims doctors to be alive in months\n",
      "\n",
      "\n",
      "원문 : former facebook vp news feed adam appointed new head instagram following resignation instagram co founders kevin systrom mike krieger last week design graduate new york university adam joined facebook design team founded instagram bought facebook billion \n",
      "실제 요약 : sostoken facebook former news feed head named instagram head \n",
      "예측 요약 :  facebook shares his first ever cfo\n",
      "\n",
      "\n",
      "원문 : delhi high court directed centre form three member committee probe alleged medical negligence safdarjung hospital hospital allegedly declared newborn dead baby still alive baby brought back hospital died later court said committee submit report within weeks \n",
      "실제 요약 : sostoken delhi hc orders probe into negligence at hospital \n",
      "예측 요약 :  hc allows abortion to death penalty for pregnant woman\n",
      "\n",
      "\n",
      "원문 : giant infosys friday said newly appointed non executive chairman nandan nilekani receive remuneration current post last drawn remuneration fiscal ceased director lakh infosys said notably nilekani net worth billion according forbes \n",
      "실제 요약 : sostoken nandan nilekani will not draw any salary as infosys chairman \n",
      "예측 요약 :  infosys to pay crore to infosys for next years\n",
      "\n",
      "\n",
      "원문 : minor girl rescued telangana police child marriage april felicitated sports police commissioner officer also assured provide financial help till completes academics girl part national level cricket tournament also play upcoming rugby tournament \n",
      "실제 요약 : sostoken rescued child marriage victim awarded for sports excellence \n",
      "예측 요약 :  girl forced to marry themselves to marry girl in assam\n",
      "\n",
      "\n",
      "원문 : indian opener rohit sharma scored first odi century captain overall th odi hundred sri lanka mohali wednesday sharma surpassed sehwag odi tons behind sachin tendulkar virat kohli sourav ganguly rohit th score odi cricket \n",
      "실제 요약 : sostoken rohit scores his th odi century surpasses sehwag record \n",
      "예측 요약 :  rohit sharma becomes th odi hundred in odis\n",
      "\n",
      "\n",
      "원문 : state run chinese daily calling india stance pakistan bigotry said indeed terrorism pakistan however went ask supporting terror country pakistan national policy pakistan gain exporting terrorism money honour india really superpower hell bent believing pakistan evil questioned \n",
      "실제 요약 : sostoken there is terrorism in pakistan chinese daily \n",
      "예측 요약 :  india pakistan to pakistan terror attack on pak\n",
      "\n",
      "\n",
      "원문 : year old tribal man odisha carry son dead body trolley rickshaw due alleged unavailability vehicles hospital government launched scheme transport bodies state run hospitals free cost man claimed unaware meanwhile authorities ordered action anyone found guilty \n",
      "실제 요약 : sostoken odisha tribal man carries son dead body on \n",
      "예측 요약 :  man dies after being beaten up to death in telangana\n",
      "\n",
      "\n",
      "원문 : retail giant shoppers stop shares surged monday highest level since january comes company announced selling stake crore commerce major amazon investment arm shoppers stop also announced exclusive tie amazon india set amazon \n",
      "실제 요약 : shoppers stop shares rise to hit two and half year high \n",
      "예측 요약 :  chrome extension surges to crore in december quarter\n",
      "\n",
      "\n",
      "원문 : shetty plays role tv show cid confirmed show go air october shooting called indefinitely issues channel said shot episodes would entered nd year added \n",
      "실제 요약 : sostoken tv show to go off air from october after years \n",
      "예측 요약 :  was not an actor on film with telugu actor\n",
      "\n",
      "\n",
      "원문 : tweet bcci incorrectly referred th india australia odi bengaluru thursday st reacting error user tweeted th odi bcci already excited another user reacted bcci tweet inform players otherwise may play match \n",
      "실제 요약 : sostoken bcci up tweets about st instead of th odi \n",
      "예측 요약 :  rohit sharma tweets on his th day in odis\n",
      "\n",
      "\n",
      "원문 : icc world xi team captain shahid afridi donated charity following conclusion world xi vs windies hurricane relief challenge lord thursday afridi playing last international match given guard honour world xi teammates afridi said later \n",
      "실제 요약 : sostoken afridi donates lakh in charity given guard of honour \n",
      "예측 요약 :  world cup winner donates lakh to charity\n",
      "\n",
      "\n",
      "원문 : uttar pradesh chief minister yogi adityanath announced lakh grant individuals wish undertake pilgrimage kailash mansarovar bjp leader also announced construction kailash mansarovar bhavan lucknow ghaziabad noida adityanath reiterated government commitment development without discrimination speaking gorakhpur \n",
      "실제 요약 : sostoken will give lakh grant to kailash mansarovar pilgrims yogi \n",
      "예측 요약 :  up cm yogi offers lakh for poor cm yogi\n",
      "\n",
      "\n",
      "원문 : mumbai civic body reportedly allow children play sports garden one bandra oldest open spaces years authorities reclaim ngo ngo allow children play games like football banned sports activities ground order maintain grass \n",
      "실제 요약 : sostoken mumbai garden to be for sports after over years \n",
      "예측 요약 :  mumbai police to get its first ever\n",
      "\n",
      "\n",
      "원문 : reality television star kim kardashian said going try third child husband rapper kanye west want kids siblings doctors feel like safe said year old reality tv star promo video television show keeping \n",
      "실제 요약 : sostoken will try to have third child with kanye kim kardashian \n",
      "예측 요약 :  kim kardashian deletes his daughter for calling her kids\n",
      "\n",
      "\n",
      "원문 : oneplus confirmed launch oneplus india launch event mumbai may oneplus also giving community chance attend event entry vouchers available via oneplus may confirmed specifications include qualcomm snapdragon gb ram gb inbuilt storage variant \n",
      "실제 요약 : sostoken oneplus to be launched in india on may in mumbai \n",
      "예측 요약 :  oneplus launches its first oneplus launch in its launch\n",
      "\n",
      "\n",
      "원문 : fatima sana shaikh said dangal co star sanya malhotra go aamir khan love related problems also discuss things like crush someone please tell added fatima called aamir friend guru guide \n",
      "실제 요약 : sostoken sanya and go to aamir for love related problems fatima \n",
      "예측 요약 :  dangal actress sanya to play in love aamir\n",
      "\n",
      "\n",
      "원문 : paris canal opened nearly century temporarily closed within week due pollution unsatisfactory water quality temporary swimming zones canal year effort officials canal water swimming paris city waters banned fears currents water quality \n",
      "실제 요약 : sostoken canal opened to after century closes within week \n",
      "예측 요약 :  indonesian town builds for river to heavy island\n",
      "\n",
      "\n",
      "원문 : union minister ramdas athawale said event transgenders wear sarees men women hence wear sarees said immediately clarified saying advising notably athawale speaking national workshop developing modules transgender people stakeholders \n",
      "실제 요약 : sostoken transgenders should not wear sarees union minister \n",
      "예측 요약 :  minister dress for women to wear\n",
      "\n",
      "\n",
      "원문 : bombay high court monday issued notices maharashtra government mumbai university seeking response delay announcement results law examinations students filed petition saying lost several higher education opportunities due delay results apparently caused screen evaluation system \n",
      "실제 요약 : bombay hc issues notice to maha govt mu over result delay \n",
      "예측 요약 :  hc asks maha govt to pay fine for failing to\n",
      "\n",
      "\n",
      "원문 : least four people killed others including two children elementary school injured gunman opened fire multiple locations us state california tuesday attacker killed police following mass shooting believed acted revenge neighbours police said \n",
      "실제 요약 : sostoken killed injured in shooting in california \n",
      "예측 요약 :  killed injured in shooting at school in california\n",
      "\n",
      "\n",
      "원문 : congress mp shashi tharoor retweeted video two year old girl trying pronounce word cute baby game doubt could done age tharoor wrote year old lawmaker earlier tweeted character word announcing latest book prime minister \n",
      "실제 요약 : sostoken tharoor shares video of kid saying \n",
      "예측 요약 :  tharoor shares video of baby boy from his birth\n",
      "\n",
      "\n",
      "원문 : group prison inmates us suing state overturn new law bans pornography prisons alleging ban violates constitutional rights law shut designated pornography reading rooms state nine prisons inmates sought damages \n",
      "실제 요약 : sostoken us prisoners sue for constitutional right to pornography \n",
      "예측 요약 :  us ban forced to ban on same sex in us\n",
      "\n",
      "\n",
      "원문 : man mumbai sought divorce alleging wife failed even offer water returns work bombay high court stated offering water husband amount cruelty dismissing plea court observed working woman additional task cooking morning evening \n",
      "실제 요약 : sostoken not offering water to husband is not bombay hc \n"
     ]
    },
    {
     "name": "stdout",
     "output_type": "stream",
     "text": [
      "예측 요약 :  wife proposes to wife for not giving money to\n",
      "\n",
      "\n",
      "원문 : actor shahid kapoor took instagram share picture daughter misha occasion st birthday saturday one wrote shahid alongside photo shahid currently vacation wife mira rajput daughter london celebrate birthday \n",
      "실제 요약 : sostoken shahid shares pic with daughter misha on her st birthday \n",
      "예측 요약 :  shahid shares pic with daughter in his th birthday\n",
      "\n",
      "\n",
      "원문 : viral video suggested official trying fix railway track mumbai cloth railways clarified cloth mark replacement since paint stick rain however rti passenger rights activist samir demanded inquiry commissioner railway safety matter \n",
      "실제 요약 : sostoken railways denies fixing track with as video goes viral \n",
      "예측 요약 :  video shows mumbai local train during mumbai\n",
      "\n",
      "\n",
      "원문 : woman named saba accused iifa plagiarism iifa awards used clips tribute video sridevi video saba made uploaded youtube march goes show sincere tribute saba wrote facebook account \n",
      "실제 요약 : sostoken iifa accused of plagiarism over tribute video on sridevi \n",
      "예측 요약 :  woman accuses husband of her her on live\n",
      "\n",
      "\n",
      "원문 : study conducted reuters claims people stream video content netflix someone else account leads estimated crore losses company analyst also predicted netflix could lose crore revenue due reason \n",
      "실제 요약 : sostoken netflix loses cr because of password sharing study \n",
      "예측 요약 :  video of thrones actors using fake news\n",
      "\n",
      "\n",
      "원문 : turkish president recep tayyip erdo said country longer needs join eu unilaterally quit talks bloc accusing bloc failing fight terrorism erdo said respond turkey requests extradite individuals suspected involvement last year coup attempt \n",
      "실제 요약 : sostoken turkey does not need eu membership anymore prez erdo an \n",
      "예측 요약 :  will not allow us to lose against turkey prez\n",
      "\n",
      "\n",
      "원문 : border security force told keep close watch india bangladesh border tripura prevent entry unwanted elements state assembly elections due election official said central government also agreed send security forces required election commission chief electoral officer said \n",
      "실제 요약 : sostoken bsf to keep on desh border ahead of tripura polls \n",
      "예측 요약 :  bsf takes charge for polls on india border\n",
      "\n",
      "\n",
      "원문 : instagram vp product kevin questioned platform copying features introduced snapchat said way tech industry works added good ideas start one place spread across industry snapchat first compared stories feature hashtags originated twitter spread platforms \n",
      "실제 요약 : sostoken tech industry works like this instagram on copying snapchat \n",
      "예측 요약 :  we are not understand of the new industry says snapchat\n",
      "\n",
      "\n",
      "원문 : unique identification authority india reportedly barred around officials accessing aadhaar data portal action came news report claimed demographic details aadhaar holders available uidai decided give access biometrics person whose details sought according reports \n",
      "실제 요약 : sostoken uidai blocks aadhaar data access of officials reports \n",
      "예측 요약 :  uidai asks aadhaar to stop using aadhaar based\n",
      "\n",
      "\n",
      "원문 : year old man found living body year old brother nine days home delhi told police try wake brother told last week feeling slept even slept dead brother bed police said \n",
      "실제 요약 : sostoken yr old man found living with brother corpse for days \n",
      "예측 요약 :  year old man body found in delhi\n",
      "\n",
      "\n",
      "원문 : new pictures actor hrithik roshan sets upcoming film super surfaced online pictures reportedly streets jaipur actor seen portraying mathematician anand kumar credited starting educational initiative prepare thirty meritorious financially challenged students iit examination \n",
      "실제 요약 : sostoken new pics of hrithik from sets of super surface online \n",
      "예측 요약 :  hrithik to play pictures in hrithik film reports\n",
      "\n",
      "\n",
      "원문 : ghaziabad man started building toilet gift sister rakshabandhan safety prime concern said initiative also eye opener men come forward construct toilets village head said although government grants toilet construction man reportedly opted \n",
      "실제 요약 : sostoken brother builds toilet for sister on rakshabandhan \n",
      "예측 요약 :  man toilet and love to see love water from bengaluru\n",
      "\n",
      "\n",
      "원문 : north korea went forward time minutes saturday match clocks south korea north korean state media reported comes north korean leader kim jong un promised time zones two nations visit south korea two countries different time zones since \n",
      "실제 요약 : sostoken north korea its clock to korea time zone \n",
      "예측 요약 :  north korea releases its first ever test nuclear test\n",
      "\n",
      "\n",
      "원문 : high end department store john lewis removed boys girls labels children clothing range instead new labels say either boys girls girls boys brand clothing years chain also away individual sections dedicated boys girls avoid gender stereotypes \n",
      "실제 요약 : sostoken uk store removes boys and girls labels from kids line \n",
      "예측 요약 :  child porn firm detects kids in girls\n",
      "\n",
      "\n",
      "원문 : india rohit sharma hit metre six kane richardson delivery went stadium third odi sunday rohit raced track played pull shot smash six richardson bowled short ball sharma went score fastest odi fifty balls match \n",
      "실제 요약 : sostoken rohit sharma smashes ball out of stadium with metre six \n",
      "예측 요약 :  rohit sharma hit by in india run by rohit\n",
      "\n",
      "\n",
      "원문 : artificial intelligence create million jobs eliminating million according american research company gartner jobs industry education see continuous growing job demand report said one five workers engaged mostly non routine tasks rely ai job report added \n",
      "실제 요약 : sostoken ai will create more jobs than it by report \n",
      "예측 요약 :  ai could give million to cost mn per ai study\n",
      "\n",
      "\n",
      "원문 : telangana cm chandrashekar rao tuesday announced telugu taught compulsory subject students classes public private schools state warned schools fail comply de recognised allowed function state currently telugu mandatory till class \n",
      "실제 요약 : sostoken telangana to make telugu compulsory in classes \n",
      "예측 요약 :  telangana schools to be compulsory in telangana schools\n",
      "\n",
      "\n",
      "원문 : augmented reality startup announced raised undisclosed amount funding indian cricketer yuvraj singh backed ventures join board brand ambassador startup sports wing founded harsha uses ar vr technology offer users mixed reality experiences \n",
      "실제 요약 : sostoken yuvraj singh backs vr startup \n",
      "예측 요약 :  startup raises mn from amazon exec others\n",
      "\n",
      "\n",
      "원문 : indian premier league side rajasthan royals former co owner raj kundra launched indian poker league wednesday indian poker league two day event held october mumbai notably winning team poker league would getting opportunity represent country world cup \n",
      "실제 요약 : sostoken rr ex owner raj kundra launches indian league \n",
      "예측 요약 :  kkr beat csk to register ipl winning matches\n",
      "\n",
      "\n",
      "원문 : filmmaker karan johar said men wearing jewellery adding think wear chain bracelet ring suits one go karan said launches men collection ranveer singh would brand ambassador adding know walks talk comes fashion \n",
      "실제 요약 : sostoken men should be about wearing jewellery karan \n",
      "예측 요약 :  karan johar slams johar for making johar on karan johar\n",
      "\n",
      "\n",
      "원문 : philippine president rodrigo duterte called international criminal court judges idiots said icc mere creation european union claimed wanted spread international governance notably icc started investigation allegations crimes humanity committed duterte war drugs \n",
      "실제 요약 : sostoken philippine prez duterte calls int criminal court judges idiots \n",
      "예측 요약 :  will not be jailed for yrs in history prez\n",
      "\n",
      "\n",
      "원문 : ayodhya wednesday successfully lit diyas ram ki banks river team members guinness world records captured event yet declare record broken previous record set dera sacha sauda lit diyas september last year \n",
      "실제 요약 : sostoken ayodhya celebrates diwali by over lakh \n",
      "예측 요약 :  world longest lord bridge to be held in ayodhya\n",
      "\n",
      "\n",
      "원문 : going viral banning pictures beautiful people feel unhappy viewing online swiss village allowed photography mayor peter said village beautiful impossible take holiday photo beautiful warned visitors think carefully others unhappy \n",
      "실제 요약 : sostoken swiss village too beautiful for pictures lifts photo ban \n",
      "예측 요약 :  couple wears shoes to dance at home\n",
      "\n",
      "\n",
      "원문 : pm narendra modi monday inaugurated first four multi waterways terminal varanasi built ganga also received container consignment terminal first sent waterways vessel post independence project allow commercial navigation vessels tonnes capacity river ganga \n",
      "실제 요약 : sostoken pm modi inaugurates st terminal at varanasi \n"
     ]
    },
    {
     "name": "stdout",
     "output_type": "stream",
     "text": [
      "예측 요약 :  pm modi inaugurates km in days\n",
      "\n",
      "\n",
      "원문 : nasa astronauts whitson jack fischer successfully completed th spacewalk billion international space station spent hours minutes working outside station assembly maintenance earth orbiting laboratory iss first spacewalk conducted december nasa astronauts jerry ross jim newman \n",
      "실제 요약 : sostoken us astronauts complete th iss spacewalk \n",
      "예측 요약 :  nasa shares fall on mars days after days\n",
      "\n",
      "\n",
      "원문 : tirumala tirupati devasthanams accused stealing ornaments lord venkateswara temple andhra decided exhibit jewellery end controversy jewellery put display media june theft allegations made former chief priest slapped crore defamation case \n",
      "실제 요약 : sostoken to exhibit tirumala temple jewellery amid theft allegations \n",
      "예측 요약 :  temple priest caught with fake notes in up\n",
      "\n",
      "\n",
      "원문 : mumbai indians spinner harbhajan singh said pollution delhi made almost impossible breathe match delhi daredevils harbhajan revealed instagram post added players suffering bad throat game almost choked harbhajan later tweeted pollution asked neglected \n",
      "실제 요약 : sostoken delhi pollution made it impossible to harbhajan \n",
      "예측 요약 :  harbhajan says delhi pacer was on strike for team\n",
      "\n",
      "\n",
      "원문 : local airport cristiano ronaldo native madeira islands portugal named year old real madrid forward wednesday real madrid striker joined portugal president prime minister unveiled commemorative plaque outside terminal entrance bust ronaldo airport renamed cristiano ronaldo \n",
      "실제 요약 : sostoken cristiano ronaldo gets airport named in his honour \n",
      "예측 요약 :  ronaldo takes catch to madrid ronaldo for juventus\n",
      "\n",
      "\n",
      "원문 : rajkummar rao reacting film newton selected india official entry oscars said cannot get bigger film getting great response everywhere added rajkummar said content finally getting due kind made newton audience \n",
      "실제 요약 : sostoken cannot get bigger rao on newton being chosen for oscars \n",
      "예측 요약 :  rajkummar rao newton to be india entry newton\n",
      "\n",
      "\n",
      "원문 : preity zinta talking working salman khan said rehearsals salman got get right come prepared films salman super superstar fun working added preity said salman cool \n",
      "실제 요약 : sostoken there are no preity on working with salman khan \n",
      "예측 요약 :  salman is the most salman of salman khan\n",
      "\n",
      "\n",
      "원문 : case registered man uttar pradesh giving instant triple talaq wife day supreme court termed practice illegal unconstitutional woman filed case six laws divorced tuesday also complained demanding dowry beating issuing life threats \n",
      "실제 요약 : case against man who gave triple talaq day after sc ruling \n",
      "예측 요약 :  triple talaq bill man wife to triple talaq sc\n",
      "\n",
      "\n",
      "원문 : starrer tomb raider released today far good wrote hindustan times firstpost called film adaptation video game times india wrote although screenplay results uneven issues action compelling enough rated \n",
      "실제 요약 : sostoken starrer tomb hits the theatres \n",
      "예측 요약 :  teaser of rajinikanth starrer released\n",
      "\n",
      "\n",
      "원문 : central university gujarat issued show cause notices nine professors based complaint campaigned congress patidar leader hardik patel assembly elections complaint alleged professors turning government university another jnu attached photos professors event held congress president rahul gandhi \n",
      "실제 요약 : sostoken gujarat get notice for turning varsity into jnu \n",
      "예측 요약 :  haryana govt to probe into hardik patel for state\n",
      "\n",
      "\n",
      "원문 : german billionaire karl missing since saturday failed return skiing tour alps year old retail training ski mountaineering race disappeared switzerland peak located border italy swiss police said rescue teams deployed sides swiss italian border \n",
      "실제 요약 : sostoken german billionaire goes missing on trip in the alps \n",
      "예측 요약 :  submarine helps us chase down in argentina sea\n",
      "\n",
      "\n",
      "원문 : trolled picture posted twitter conflict syria esha gupta slammed writing difference killing added problem good nothing even humanity see borders even children see religion called dark age \n",
      "실제 요약 : sostoken esha gupta slams trolls mocking her over tweet on syria \n",
      "예측 요약 :  twitter reacts to trolls isis for\n",
      "\n",
      "\n",
      "원문 : actor salman khan visited veteran actor vinod khanna mumbai hospital khanna son rahul earlier said hospitalised due severe dehydration picture veteran actor also emerged online rumoured suffering cancer hospital stated actor health better \n",
      "실제 요약 : sostoken salman khan visits vinod khanna at hospital \n",
      "예측 요약 :  kader khan brother kader khan hospitalised after being pain\n",
      "\n",
      "\n",
      "원문 : psychological autopsy report submitted cbi police findings burari case family members found dead house delhi police officials said one family members lalit dead father encouraged others set rituals find way god \n",
      "실제 요약 : sostoken report in burari case backs our probe police \n",
      "예측 요약 :  burari family killed in delhi\n",
      "\n",
      "\n",
      "원문 : responding us president donald trump announcement country might develop space force near future russia deputy prime minister defence space industry said us opening pandora box warned trump taking arms race space notably russia space force \n",
      "실제 요약 : sostoken us opening box russia on trump space force \n",
      "예측 요약 :  trump to create us space force for the year\n",
      "\n",
      "\n",
      "원문 : pair boxer shorts belonged adolf hitler sold auction us alexander historical auctions said large boxers waist inches length inches bear hitler ah hitler left boxers austrian hotel \n",
      "실제 요약 : sostoken hitler boxers auctioned for lakh \n",
      "예측 요약 :  neymar auctioned for lakh in the world\n",
      "\n",
      "\n",
      "원문 : taking dig bjp introduction reservation economically backward section bill former cm omar abdullah said defeat madhya pradesh chhattisgarh rajasthan bjp remembered give reservation years actually intend give reservation get passed parliament say tried parliament pass added \n",
      "실제 요약 : after defeat in recent polls bjp remembered to give quota omar \n",
      "예측 요약 :  bjp will not allow reservation for bjp mp cm\n",
      "\n",
      "\n",
      "원문 : look actors sonakshi sinha sidharth malhotra upcoming film ittefaq unveiled sharing look sonakshi wrote victim got accused criminal want hear story sharing look sidharth wrote accused crime commit wait story \n",
      "실제 요약 : sostoken sonakshi sidharth looks from upcoming film ittefaq out \n",
      "예측 요약 :  sidharth malhotra to star in upcoming film poster\n",
      "\n",
      "\n",
      "원문 : apple monday briefly touched billion market valuation making world first ever company hit milestone billion apple valuation higher combined market cap sensex companies stood billion world valuable company apple followed google parent alphabet microsoft market valuation \n",
      "실제 요약 : sostoken apple becomes first company to hit bn valuation mark \n",
      "예측 요약 :  apple shares fall on sets of billion in apple\n",
      "\n",
      "\n",
      "원문 : president ram nath kovind tuesday paid tribute sarojini naidu dubbed india th birth anniversary tributes sarojini naidu poet political leader pioneer women movement birth anniversary tweeted naidu joined freedom struggle served first indian female president congress \n",
      "실제 요약 : sostoken president pays tribute on naidu birth anniversary \n",
      "예측 요약 :  prez kovind becomes st indian president to president kovind\n",
      "\n",
      "\n",
      "원문 : recreated version song ne kiya kya titled ne kiya upcoming film released music composer duo rohan recreated music new version vocals actor amitabh bachchan directed umesh shukla scheduled release may \n",
      "실제 요약 : sostoken big sings new version of kya \n",
      "예측 요약 :  song from film released on october\n",
      "\n",
      "\n",
      "원문 : government extended deadline linking aadhaar small saving schemes three months march digit aadhaar number made mandatory small savings schemes including post office deposits kisan vikas patra october meanwhile deadline linking aadhaar avail welfare scheme benefits also extended march \n",
      "실제 요약 : sostoken govt extends deadline to link aadhaar with saving schemes \n",
      "예측 요약 :  aadhaar not mandatory for aadhaar for aadhaar uidai\n",
      "\n",
      "\n",
      "원문 : twenty three time grand slam champion serena williams revealed heart dropped got know pregnancy williams said planned win wimbledon title took six home tests finally believe pregnancy know baby done absolutely nothing baby room said \n",
      "실제 요약 : sostoken my heart dropped serena williams on surprise pregnancy \n",
      "예측 요약 :  serena williams on serena pregnancy\n",
      "\n",
      "\n",
      "원문 : ministry skill development entrepreneurship friday announced hour certificate course understand gst system course set conducted centres across delhi bengaluru bhopal starting july training programme aimed chartered accountants company secretaries graduates post graduates commerce banking finance related fields \n",
      "실제 요약 : sostoken govt launches hour certificate course on gst \n"
     ]
    },
    {
     "name": "stdout",
     "output_type": "stream",
     "text": [
      "예측 요약 :  govt proposes to reduce education of delhi\n",
      "\n",
      "\n",
      "원문 : british built spacecraft taken first selfie space launched successfully weekend year journey mercury image snapped onboard camera shows spacecraft extended solar sun sensor bottom left place european japanese probes mercury orbit \n",
      "실제 요약 : sostoken spacecraft st selfie yr journey to \n",
      "예측 요약 :  first ever space station was born on this day\n",
      "\n",
      "\n",
      "원문 : researchers university melbourne created world times thinner human hair seen without nano fabricated using direct laser writing system said scientists working create thin film could laid onto screen enable holographic display \n",
      "실제 요약 : sostoken world created in australia \n",
      "예측 요약 :  scientists claim of world most\n",
      "\n",
      "\n",
      "원문 : former infosys cfo balakrishnan wednesday said board major infosys blaming co founder narayana murthy vishal sikka exit ceo hide failures murthy done great service stakeholders bringing corporate governance issues requesting accountability long term interest company said \n",
      "실제 요약 : sostoken infosys board blaming murthy to hide own failures ex cfo \n",
      "예측 요약 :  infosys ceo vishal sikka resigns as infosys ceo\n",
      "\n",
      "\n",
      "원문 : sweden sunday introduced new aviation tax requiring passenger flights country added charge ranging depending destination swedish climate minister vin said objective tax minimise carbon footprint flights following sharp increase air travel \n",
      "실제 요약 : sostoken sweden introduces new aviation tax to help save climate \n",
      "예측 요약 :  airline to flyers flyers with small fliers\n",
      "\n",
      "\n",
      "원문 : congress spokesperson randeep surjewala tuesday said dinner hosted sonia gandhi opposition parties seen politics friendship better dialogue parties dinner also attended rjd tejashwi yadav said opposition parties attended today dinner united \n",
      "실제 요약 : sostoken sonia gandhi dinner not for politics but friendship cong \n",
      "예측 요약 :  cong leader says he is not good congress leader\n",
      "\n",
      "\n",
      "원문 : indian hotels runs taj group hotels planning monetise around properties next three years bring debt ceo said added company would aim retain properties management contracts indian hotels narrowed second quarter loss crore crore last year \n",
      "실제 요약 : sostoken taj hotels to sell properties to reduce debt says ceo \n",
      "예측 요약 :  taj mahal were built in mumbai this year\n",
      "\n",
      "\n",
      "원문 : bear recently disrupted practice session high school rugby team canada called bears per reports bear caused harm players moved around field smelling equipment kit bags bear identified bear chasing dog two days earlier \n",
      "실제 요약 : sostoken real bear disrupts practice of rugby team named the \n",
      "예측 요약 :  turkey suspends students for missing kids from\n",
      "\n",
      "\n",
      "원문 : viking priyanka chopra hollywood film opposite chris pratt indefinitely postponed per reports universal studios producing film reportedly removed release schedule film earlier scheduled release july announced film shelved permanently \n",
      "실제 요약 : sostoken priyanka wood film with chris pratt gets delayed report \n",
      "예측 요약 :  priyanka chopra to star in biopic on dec reports\n",
      "\n",
      "\n",
      "원문 : argentine football legend diego maradona joined football club chairman visited home stadium club military style open jeep paraded around stadium vehicle greeting fans waving club flag year old signed three year contract club \n",
      "실제 요약 : sostoken maradona greets fans at new club in military style vehicle \n",
      "예측 요약 :  football club coach resigns after football club\n",
      "\n",
      "\n"
     ]
    }
   ],
   "source": [
    "for i in range(k:=2345, k+100):\n",
    "    print(\"원문 :\", seq2text(encoder_input_test[i]))\n",
    "    print(\"실제 요약 :\", seq2summary(decoder_input_test[i]))\n",
    "    print(\"예측 요약 :\", decode_sequence(encoder_input_test[i].reshape(1, text_max_len)))\n",
    "    print(\"\\n\")"
   ]
  },
  {
   "cell_type": "markdown",
   "id": "49027cb7",
   "metadata": {},
   "source": [
    "##  추출적 요약 -- Summa 이용"
   ]
  },
  {
   "cell_type": "code",
   "execution_count": 94,
   "id": "6521366c",
   "metadata": {},
   "outputs": [],
   "source": [
    "from summa.summarizer import summarize"
   ]
  },
  {
   "cell_type": "code",
   "execution_count": 119,
   "id": "b1785368",
   "metadata": {},
   "outputs": [],
   "source": [
    "text = requests.get('http://rare-technologies.com/the_matrix_synopsis.txt').text"
   ]
  },
  {
   "cell_type": "code",
   "execution_count": 120,
   "id": "3c06afe6",
   "metadata": {},
   "outputs": [
    {
     "name": "stdout",
     "output_type": "stream",
     "text": [
      "Morpheus, Trinity, Neo, Apoc, Switch, Mouse and Cypher are jacked into the Matrix.\n",
      "Trinity brings the helicopter down to the floor that Morpheus is on and Neo opens fire on the three Agents.\n"
     ]
    }
   ],
   "source": [
    "print(summarize(text, ratio=0.005))"
   ]
  },
  {
   "cell_type": "code",
   "execution_count": 126,
   "id": "e637a8ad",
   "metadata": {},
   "outputs": [
    {
     "data": {
      "text/plain": [
       "35932"
      ]
     },
     "execution_count": 126,
     "metadata": {},
     "output_type": "execute_result"
    }
   ],
   "source": [
    "len(text)"
   ]
  },
  {
   "cell_type": "markdown",
   "id": "966c0bba",
   "metadata": {},
   "source": [
    "#### 추출적 요약 라인의 출력이 안 나온다 무슨 일일까?"
   ]
  },
  {
   "cell_type": "code",
   "execution_count": 161,
   "id": "c5d05169",
   "metadata": {},
   "outputs": [
    {
     "name": "stdout",
     "output_type": "stream",
     "text": [
      "원문 : canada named destination year travel leisure magazine magazine said canada welcomed refugees immigrants hosting special events th anniversary celebrations travel leisure named city top city canada followed vancouver victoria montreal \n",
      "실제 요약 : sostoken canada named destination of the year by travel \n",
      "예측 요약 :  canada to host its first ever gay festival\n",
      "추출 요약 : \n",
      "\n",
      "\n",
      "원문 : dollar slumped treasury bond dropped lowest level year us president donald trump said currency getting strong think dollar getting strong partially fault people confidence said trump also said brand china currency \n",
      "실제 요약 : sostoken after trump said dollar getting too strong currency plunges \n",
      "예측 요약 :  trump worst enemy of us economy in us\n",
      "추출 요약 : \n",
      "\n",
      "\n",
      "원문 : video surfaced online showing patient dragged allegedly due lack stretchers government run hospital madhya pradesh jabalpur reportedly patient family said waited outside hospital stretcher minutes deciding drag inside \n",
      "실제 요약 : sostoken patient dragged to on at govt hospital in mp \n",
      "예측 요약 :  video shows cop who was patient alive\n",
      "추출 요약 : \n",
      "\n",
      "\n",
      "원문 : learning late nazis working towards developing atomic bomb albert einstein wrote letter us president franklin roosevelt urging begin atomic research einstein later expressed regret role bringing hiroshima nagasaki bombings went become advocate nuclear disarmament \n",
      "실제 요약 : sostoken einstein had us president to make atom bomb \n",
      "예측 요약 :  trump reveals he was the first ever ever\n",
      "추출 요약 : \n",
      "\n",
      "\n",
      "원문 : former governor reserve bank india raghuram rajan revealed asked make decision demonetisation point term bank although might long term benefits felt likely short term economic costs would revealed book \n",
      "실제 요약 : sostoken was never asked to make decision on demonetisation rajan \n",
      "예측 요약 :  rbi governor urjit patel skips demonetisation of rajan\n",
      "추출 요약 : \n",
      "\n",
      "\n"
     ]
    }
   ],
   "source": [
    "for i in range(50, 55):\n",
    "    orig_txt = seq2text(encoder_input_test[i])\n",
    "    smm_txt = summarize(orig_txt+\".\", words=summary_max_len)\n",
    "    print(\"원문 :\", orig_txt)\n",
    "    print(\"실제 요약 :\", seq2summary(decoder_input_test[i]))\n",
    "    print(\"예측 요약 :\", decode_sequence(encoder_input_test[i].reshape(1, text_max_len)))\n",
    "#     print(\"추출 요약 :\", smm_txt*20)\n",
    "    print(\"\\n\")"
   ]
  },
  {
   "cell_type": "markdown",
   "id": "5bd09771",
   "metadata": {},
   "source": [
    "### 아래는 디버깅 코드\n",
    "   - 시간 상 더 알아보기 힘들 듯."
   ]
  },
  {
   "cell_type": "code",
   "execution_count": 145,
   "id": "336c2e2a",
   "metadata": {},
   "outputs": [],
   "source": [
    "from summa import summarizer"
   ]
  },
  {
   "cell_type": "code",
   "execution_count": 144,
   "id": "848c1dc4",
   "metadata": {},
   "outputs": [
    {
     "name": "stdout",
     "output_type": "stream",
     "text": [
      "Help on function summarize in module summa.summarizer:\n",
      "\n",
      "summarize(text, ratio=0.2, words=None, language='english', split=False, scores=False, additional_stopwords=None)\n",
      "\n"
     ]
    }
   ],
   "source": [
    "help(summarize)"
   ]
  },
  {
   "cell_type": "code",
   "execution_count": 146,
   "id": "bd7d8be7",
   "metadata": {},
   "outputs": [
    {
     "name": "stdout",
     "output_type": "stream",
     "text": [
      "Help on module summa.summarizer in summa:\n",
      "\n",
      "NAME\n",
      "    summa.summarizer\n",
      "\n",
      "FUNCTIONS\n",
      "    get_graph(text, language='english')\n",
      "    \n",
      "    log10(x, /)\n",
      "        Return the base 10 logarithm of x.\n",
      "    \n",
      "    summarize(text, ratio=0.2, words=None, language='english', split=False, scores=False, additional_stopwords=None)\n",
      "\n",
      "FILE\n",
      "    /opt/conda/lib/python3.9/site-packages/summa/summarizer.py\n",
      "\n",
      "\n"
     ]
    }
   ],
   "source": [
    "help(summarizer)"
   ]
  },
  {
   "cell_type": "code",
   "execution_count": 157,
   "id": "77d401ac",
   "metadata": {},
   "outputs": [
    {
     "name": "stdout",
     "output_type": "stream",
     "text": [
      "from math import log10\n",
      "\n",
      "from .pagerank_weighted import pagerank_weighted_scipy as _pagerank\n",
      "from .preprocessing.textcleaner import clean_text_by_sentences as _clean_text_by_sentences\n",
      "from .commons import build_graph as _build_graph\n",
      "from .commons import remove_unreachable_nodes as _remove_unreachable_nodes\n",
      "\n",
      "\n",
      "def _set_graph_edge_weights(graph):\n",
      "    for sentence_1 in graph.nodes():\n",
      "        for sentence_2 in graph.nodes():\n",
      "\n",
      "            edge = (sentence_1, sentence_2)\n",
      "            if sentence_1 != sentence_2 and not graph.has_edge(edge):\n",
      "                similarity = _get_similarity(sentence_1, sentence_2)\n",
      "                if similarity != 0:\n",
      "                    graph.add_edge(edge, similarity)\n",
      "\n",
      "    # Handles the case in which all similarities are zero.\n",
      "    # The resultant summary will consist of random sentences.\n",
      "    if all(graph.edge_weight(edge) == 0 for edge in graph.edges()):\n",
      "        _create_valid_graph(graph)\n",
      "\n",
      "\n",
      "def _create_valid_graph(graph):\n",
      "    nodes = graph.nodes()\n",
      "\n",
      "    for i in range(len(nodes)):\n",
      "        for j in range(len(nodes)):\n",
      "            if i == j:\n",
      "                continue\n",
      "\n",
      "            edge = (nodes[i], nodes[j])\n",
      "\n",
      "            if graph.has_edge(edge):\n",
      "                graph.del_edge(edge)\n",
      "\n",
      "            graph.add_edge(edge, 1)\n",
      "\n",
      "\n",
      "def _get_similarity(s1, s2):\n",
      "    words_sentence_one = s1.split()\n",
      "    words_sentence_two = s2.split()\n",
      "\n",
      "    common_word_count = _count_common_words(words_sentence_one, words_sentence_two)\n",
      "\n",
      "    log_s1 = log10(len(words_sentence_one))\n",
      "    log_s2 = log10(len(words_sentence_two))\n",
      "\n",
      "    if log_s1 + log_s2 == 0:\n",
      "        return 0\n",
      "\n",
      "    return common_word_count / (log_s1 + log_s2)\n",
      "\n",
      "\n",
      "def _count_common_words(words_sentence_one, words_sentence_two):\n",
      "    return len(set(words_sentence_one) & set(words_sentence_two))\n",
      "\n",
      "\n",
      "def _format_results(extracted_sentences, split, score):\n",
      "    if score:\n",
      "        return [(sentence.text, sentence.score) for sentence in extracted_sentences]\n",
      "    if split:\n",
      "        return [sentence.text for sentence in extracted_sentences]\n",
      "    return \"\\n\".join([sentence.text for sentence in extracted_sentences])\n",
      "\n",
      "\n",
      "def _add_scores_to_sentences(sentences, scores):\n",
      "    for sentence in sentences:\n",
      "        # Adds the score to the object if it has one.\n",
      "        if sentence.token in scores:\n",
      "            sentence.score = scores[sentence.token]\n",
      "        else:\n",
      "            sentence.score = 0\n",
      "\n",
      "\n",
      "def _get_sentences_with_word_count(sentences, words):\n",
      "    \"\"\" Given a list of sentences, returns a list of sentences with a\n",
      "    total word count similar to the word count provided.\n",
      "    \"\"\"\n",
      "    word_count = 0\n",
      "    selected_sentences = []\n",
      "    # Loops until the word count is reached.\n",
      "    for sentence in sentences:\n",
      "        words_in_sentence = len(sentence.text.split())\n",
      "\n",
      "        # Checks if the inclusion of the sentence gives a better approximation\n",
      "        # to the word parameter.\n",
      "        if abs(words - word_count - words_in_sentence) > abs(words - word_count):\n",
      "            return selected_sentences\n",
      "\n",
      "        selected_sentences.append(sentence)\n",
      "        word_count += words_in_sentence\n",
      "\n",
      "    return selected_sentences\n",
      "\n",
      "\n",
      "def _extract_most_important_sentences(sentences, ratio, words):\n",
      "    sentences.sort(key=lambda s: s.score, reverse=True)\n",
      "\n",
      "    # If no \"words\" option is selected, the number of sentences is\n",
      "    # reduced by the provided ratio.\n",
      "    if words is None:\n",
      "        length = len(sentences) * ratio\n",
      "        return sentences[:int(length)]\n",
      "\n",
      "    # Else, the ratio is ignored.\n",
      "    else:\n",
      "        return _get_sentences_with_word_count(sentences, words)\n",
      "\n",
      "\n",
      "def summarize(text, ratio=0.2, words=None, language=\"english\", split=False, scores=False, additional_stopwords=None):\n",
      "    if not isinstance(text, str):\n",
      "        raise ValueError(\"Text parameter must be a Unicode object (str)!\")\n",
      "\n",
      "    # Gets a list of processed sentences.\n",
      "    sentences = _clean_text_by_sentences(text, language, additional_stopwords)\n",
      "\n",
      "    # Creates the graph and calculates the similarity coefficient for every pair of nodes.\n",
      "    graph = _build_graph([sentence.token for sentence in sentences])\n",
      "    _set_graph_edge_weights(graph)\n",
      "\n",
      "    # Remove all nodes with all edges weights equal to zero.\n",
      "    _remove_unreachable_nodes(graph)\n",
      "\n",
      "    # PageRank cannot be run in an empty graph.\n",
      "    if len(graph.nodes()) == 0:\n",
      "        return [] if split else \"\"\n",
      "\n",
      "    # Ranks the tokens using the PageRank algorithm. Returns dict of sentence -> score\n",
      "    pagerank_scores = _pagerank(graph)\n",
      "\n",
      "    # Adds the summa scores to the sentence objects.\n",
      "    _add_scores_to_sentences(sentences, pagerank_scores)\n",
      "\n",
      "    # Extracts the most important sentences with the selected criterion.\n",
      "    extracted_sentences = _extract_most_important_sentences(sentences, ratio, words)\n",
      "\n",
      "    # Sorts the extracted sentences by apparition order in the original text.\n",
      "    extracted_sentences.sort(key=lambda s: s.index)\n",
      "\n",
      "    return _format_results(extracted_sentences, split, scores)\n",
      "\n",
      "\n",
      "def get_graph(text, language=\"english\"):\n",
      "    sentences = _clean_text_by_sentences(text, language)\n",
      "\n",
      "    graph = _build_graph([sentence.token for sentence in sentences])\n",
      "    _set_graph_edge_weights(graph)\n",
      "\n",
      "    return graph\n"
     ]
    }
   ],
   "source": [
    "a = os.system(\"cat /opt/conda/lib/python3.9/site-packages/summa/summarizer.py\")"
   ]
  },
  {
   "cell_type": "code",
   "execution_count": 162,
   "id": "2eea2b8e",
   "metadata": {},
   "outputs": [],
   "source": [
    "from summa.preprocessing.textcleaner import clean_text_by_sentences"
   ]
  },
  {
   "cell_type": "code",
   "execution_count": 164,
   "id": "be615862",
   "metadata": {},
   "outputs": [],
   "source": [
    "from summa.preprocessing import textcleaner"
   ]
  },
  {
   "cell_type": "code",
   "execution_count": 165,
   "id": "66ef7e33",
   "metadata": {
    "scrolled": true
   },
   "outputs": [
    {
     "name": "stdout",
     "output_type": "stream",
     "text": [
      "Help on module summa.preprocessing.textcleaner in summa.preprocessing:\n",
      "\n",
      "NAME\n",
      "    summa.preprocessing.textcleaner\n",
      "\n",
      "FUNCTIONS\n",
      "    apply_filters(sentence, filters)\n",
      "    \n",
      "    clean_text_by_sentences(text, language='english', additional_stopwords=None)\n",
      "        Tokenizes a given text into sentences, applying filters and lemmatizing them.\n",
      "        Returns a SyntacticUnit list.\n",
      "    \n",
      "    clean_text_by_word(text, language='english', deacc=False, additional_stopwords=None)\n",
      "        Tokenizes a given text into words, applying filters and lemmatizing them.\n",
      "        Returns a dict of word -> syntacticUnit.\n",
      "    \n",
      "    deaccent(text)\n",
      "        Remove accentuation from the given string.\n",
      "    \n",
      "    filter_words(sentences)\n",
      "    \n",
      "    get_sentences(text)\n",
      "    \n",
      "    init_textcleanner(language, additional_stopwords)\n",
      "    \n",
      "    merge_syntactic_units(original_units, filtered_units, tags=None)\n",
      "    \n",
      "    remove_stopwords(sentence)\n",
      "    \n",
      "    replace_abbreviations(text)\n",
      "    \n",
      "    replace_with_separator(text, separator, regexs)\n",
      "    \n",
      "    set_stemmer_language(language)\n",
      "    \n",
      "    set_stopwords_by_language(language, additional_stopwords)\n",
      "    \n",
      "    split_sentences(text)\n",
      "    \n",
      "    stem_sentence(sentence)\n",
      "    \n",
      "    strip_numeric(s)\n",
      "    \n",
      "    strip_punctuation(s)\n",
      "    \n",
      "    tokenize(text, lowercase=False, deacc=False)\n",
      "        Iteratively yield tokens as unicode strings, optionally also lowercasing them\n",
      "        and removing accent marks.\n",
      "    \n",
      "    tokenize_by_word(text, deacc=False)\n",
      "    \n",
      "    undo_replacement(sentence)\n",
      "\n",
      "DATA\n",
      "    AB_ACRONYM = re.compile('(\\\\.[a-zA-Z]\\\\.)\\\\s(\\\\w)')\n",
      "    AB_ACRONYM_LETTERS = re.compile('([a-zA-Z])\\\\.([a-zA-Z])\\\\.')\n",
      "    AB_SENIOR = re.compile('([A-Z][a-z]{1,2}\\\\.)\\\\s(\\\\w)')\n",
      "    HAS_PATTERN = False\n",
      "    PAT_ALPHABETIC = re.compile('(((?![\\\\d])\\\\w)+)')\n",
      "    RE_NUMERIC = re.compile('[0-9]+')\n",
      "    RE_PUNCT = re.compile('([!\"\\\\#\\\\$%\\\\&\\'\\\\(\\\\)\\\\*\\\\+,\\\\-\\\\./:;<=>\\\\?@\\\\...\n",
      "    RE_SENTENCE = re.compile('(\\\\S.+?[.!?])(?=\\\\s+|$)|(\\\\S.+?)(?=[\\n]|$)')\n",
      "    SEPARATOR = '@'\n",
      "    STEMMER = <summa.preprocessing.snowball.SnowballStemmer object>\n",
      "    STOPWORDS = frozenset({'a', 'about', 'above', 'across', 'after', 'afte...\n",
      "    UNDO_AB_ACRONYM = re.compile('(\\\\.[a-zA-Z]\\\\.)@(\\\\w)')\n",
      "    UNDO_AB_SENIOR = re.compile('([A-Z][a-z]{1,2}\\\\.)@(\\\\w)')\n",
      "    logger = <Logger summa.preprocessing.cleaner (WARNING)>\n",
      "\n",
      "FILE\n",
      "    /opt/conda/lib/python3.9/site-packages/summa/preprocessing/textcleaner.py\n",
      "\n",
      "\n"
     ]
    }
   ],
   "source": [
    "help(textcleaner)"
   ]
  },
  {
   "cell_type": "code",
   "execution_count": 166,
   "id": "d0c9d5ae",
   "metadata": {},
   "outputs": [
    {
     "name": "stdout",
     "output_type": "stream",
     "text": [
      "import string\n",
      "import unicodedata\n",
      "import logging\n",
      "\n",
      "logger = logging.getLogger('summa.preprocessing.cleaner')\n",
      "\n",
      "try:\n",
      "    from pattern.en import tag\n",
      "    logger.info(\"'pattern' package found; tag filters are available for English\")\n",
      "    HAS_PATTERN = True\n",
      "except ImportError:\n",
      "    logger.info(\"'pattern' package not found; tag filters are not available for English\")\n",
      "    HAS_PATTERN = False\n",
      "\n",
      "import re\n",
      "\n",
      "from .snowball import SnowballStemmer\n",
      "from .stopwords import get_stopwords_by_language\n",
      "from summa.syntactic_unit import SyntacticUnit\n",
      "\n",
      "\n",
      "# Utility functions adapted from Gensim v0.10.0:\n",
      "# https://github.com/RaRe-Technologies/gensim/blob/0.10.0/gensim/utils.py\n",
      "# https://github.com/RaRe-Technologies/gensim/blob/0.10.0/gensim/parsing/preprocessing.py\n",
      "\n",
      "\n",
      "SEPARATOR = r\"@\"\n",
      "RE_SENTENCE = re.compile('(\\S.+?[.!?])(?=\\s+|$)|(\\S.+?)(?=[\\n]|$)')\n",
      "AB_SENIOR = re.compile(\"([A-Z][a-z]{1,2}\\.)\\s(\\w)\")\n",
      "AB_ACRONYM = re.compile(\"(\\.[a-zA-Z]\\.)\\s(\\w)\")\n",
      "AB_ACRONYM_LETTERS = re.compile(\"([a-zA-Z])\\.([a-zA-Z])\\.\")\n",
      "UNDO_AB_SENIOR = re.compile(\"([A-Z][a-z]{1,2}\\.)\" + SEPARATOR + \"(\\w)\")\n",
      "UNDO_AB_ACRONYM = re.compile(\"(\\.[a-zA-Z]\\.)\" + SEPARATOR + \"(\\w)\")\n",
      "\n",
      "STEMMER = None\n",
      "STOPWORDS = None\n",
      "\n",
      "\n",
      "def set_stemmer_language(language):\n",
      "    global STEMMER\n",
      "    if not language in SnowballStemmer.languages:\n",
      "        raise ValueError(\"Valid languages are: \" + \", \".join(sorted(SnowballStemmer.languages)))\n",
      "    STEMMER = SnowballStemmer(language)\n",
      "\n",
      "\n",
      "def set_stopwords_by_language(language, additional_stopwords):\n",
      "    global STOPWORDS\n",
      "    words = get_stopwords_by_language(language)\n",
      "    if not additional_stopwords:\n",
      "        additional_stopwords = {}\n",
      "    STOPWORDS = frozenset({ w for w in words.split() if w } | { w for w in additional_stopwords if w })\n",
      "\n",
      "\n",
      "def init_textcleanner(language, additional_stopwords):\n",
      "    set_stemmer_language(language)\n",
      "    set_stopwords_by_language(language, additional_stopwords)\n",
      "\n",
      "\n",
      "def split_sentences(text):\n",
      "    processed = replace_abbreviations(text)\n",
      "    return [undo_replacement(sentence) for sentence in get_sentences(processed)]\n",
      "\n",
      "\n",
      "def replace_abbreviations(text):\n",
      "    return replace_with_separator(text, SEPARATOR, [AB_SENIOR, AB_ACRONYM])\n",
      "\n",
      "\n",
      "def undo_replacement(sentence):\n",
      "    return replace_with_separator(sentence, r\" \", [UNDO_AB_SENIOR, UNDO_AB_ACRONYM])\n",
      "\n",
      "\n",
      "def replace_with_separator(text, separator, regexs):\n",
      "    replacement = r\"\\1\" + separator + r\"\\2\"\n",
      "    result = text\n",
      "    for regex in regexs:\n",
      "        result = regex.sub(replacement, result)\n",
      "    return result\n",
      "\n",
      "\n",
      "def get_sentences(text):\n",
      "    for match in RE_SENTENCE.finditer(text):\n",
      "        yield match.group()\n",
      "\n",
      "\n",
      "# Taken from Gensim\n",
      "RE_PUNCT = re.compile('([%s])+' % re.escape(string.punctuation), re.UNICODE)\n",
      "def strip_punctuation(s):\n",
      "    return RE_PUNCT.sub(\" \", s)\n",
      "\n",
      "\n",
      "# Taken from Gensim\n",
      "RE_NUMERIC = re.compile(r\"[0-9]+\", re.UNICODE)\n",
      "def strip_numeric(s):\n",
      "    return RE_NUMERIC.sub(\"\", s)\n",
      "\n",
      "\n",
      "def remove_stopwords(sentence):\n",
      "    return \" \".join(w for w in sentence.split() if w not in STOPWORDS)\n",
      "\n",
      "\n",
      "def stem_sentence(sentence):\n",
      "    word_stems = [STEMMER.stem(word) for word in sentence.split()]\n",
      "    return \" \".join(word_stems)\n",
      "\n",
      "\n",
      "def apply_filters(sentence, filters):\n",
      "    for f in filters:\n",
      "        sentence = f(sentence)\n",
      "    return sentence\n",
      "\n",
      "\n",
      "def filter_words(sentences):\n",
      "    filters = [lambda x: x.lower(), strip_numeric, strip_punctuation, remove_stopwords,\n",
      "               stem_sentence]\n",
      "    apply_filters_to_token = lambda token: apply_filters(token, filters)\n",
      "    return list(map(apply_filters_to_token, sentences))\n",
      "\n",
      "\n",
      "# Taken from Gensim\n",
      "def deaccent(text):\n",
      "    \"\"\"\n",
      "    Remove accentuation from the given string.\n",
      "    \"\"\"\n",
      "    norm = unicodedata.normalize(\"NFD\", text)\n",
      "    result = \"\".join(ch for ch in norm if unicodedata.category(ch) != 'Mn')\n",
      "    return unicodedata.normalize(\"NFC\", result)\n",
      "\n",
      "\n",
      "# Taken from Gensim\n",
      "PAT_ALPHABETIC = re.compile('(((?![\\d])\\w)+)', re.UNICODE)\n",
      "def tokenize(text, lowercase=False, deacc=False):\n",
      "    \"\"\"\n",
      "    Iteratively yield tokens as unicode strings, optionally also lowercasing them\n",
      "    and removing accent marks.\n",
      "    \"\"\"\n",
      "    if lowercase:\n",
      "        text = text.lower()\n",
      "    if deacc:\n",
      "        text = deaccent(text)\n",
      "    for match in PAT_ALPHABETIC.finditer(text):\n",
      "        yield match.group()\n",
      "\n",
      "\n",
      "def merge_syntactic_units(original_units, filtered_units, tags=None):\n",
      "    units = []\n",
      "    for i in range(len(original_units)):\n",
      "        if filtered_units[i] == '':\n",
      "            continue\n",
      "\n",
      "        text = original_units[i]\n",
      "        token = filtered_units[i]\n",
      "        tag = tags[i][1] if tags else None\n",
      "        sentence = SyntacticUnit(text, token, tag)\n",
      "        sentence.index = i\n",
      "\n",
      "        units.append(sentence)\n",
      "\n",
      "    return units\n",
      "\n",
      "\n",
      "def clean_text_by_sentences(text, language=\"english\", additional_stopwords=None):\n",
      "    \"\"\" Tokenizes a given text into sentences, applying filters and lemmatizing them.\n",
      "    Returns a SyntacticUnit list. \"\"\"\n",
      "    init_textcleanner(language, additional_stopwords)\n",
      "    original_sentences = split_sentences(text)\n",
      "    filtered_sentences = filter_words(original_sentences)\n",
      "\n",
      "    return merge_syntactic_units(original_sentences, filtered_sentences)\n",
      "\n",
      "\n",
      "def clean_text_by_word(text, language=\"english\", deacc=False, additional_stopwords=None):\n",
      "    \"\"\" Tokenizes a given text into words, applying filters and lemmatizing them.\n",
      "    Returns a dict of word -> syntacticUnit. \"\"\"\n",
      "    init_textcleanner(language, additional_stopwords)\n",
      "    text_without_acronyms = replace_with_separator(text, \"\", [AB_ACRONYM_LETTERS])\n",
      "    original_words = list(tokenize(text_without_acronyms, lowercase=True, deacc=deacc))\n",
      "    filtered_words = filter_words(original_words)\n",
      "    if HAS_PATTERN:\n",
      "        tags = tag(\" \".join(original_words))  # tag needs the context of the words in the text\n",
      "    else:\n",
      "        tags = None\n",
      "    units = merge_syntactic_units(original_words, filtered_words, tags)\n",
      "    return { unit.text : unit for unit in units }\n",
      "\n",
      "\n",
      "def tokenize_by_word(text, deacc=False):\n",
      "    text_without_acronyms = replace_with_separator(text, \"\", [AB_ACRONYM_LETTERS])\n",
      "    return tokenize(text_without_acronyms, lowercase=True, deacc=deacc)\n"
     ]
    }
   ],
   "source": [
    "b = os.system(\"cat /opt/conda/lib/python3.9/site-packages/summa/preprocessing/textcleaner.py\")"
   ]
  },
  {
   "cell_type": "code",
   "execution_count": 163,
   "id": "6739bc7b",
   "metadata": {
    "scrolled": true
   },
   "outputs": [
    {
     "name": "stdout",
     "output_type": "stream",
     "text": [
      "Help on function clean_text_by_sentences in module summa.preprocessing.textcleaner:\n",
      "\n",
      "clean_text_by_sentences(text, language='english', additional_stopwords=None)\n",
      "    Tokenizes a given text into sentences, applying filters and lemmatizing them.\n",
      "    Returns a SyntacticUnit list.\n",
      "\n"
     ]
    }
   ],
   "source": [
    "help(clean_text_by_sentences)"
   ]
  },
  {
   "cell_type": "code",
   "execution_count": 167,
   "id": "12c2bf61",
   "metadata": {},
   "outputs": [],
   "source": [
    "from summa import syntactic_unit"
   ]
  },
  {
   "cell_type": "code",
   "execution_count": 168,
   "id": "aabdc898",
   "metadata": {
    "scrolled": false
   },
   "outputs": [
    {
     "name": "stdout",
     "output_type": "stream",
     "text": [
      "Help on module summa.syntactic_unit in summa:\n",
      "\n",
      "NAME\n",
      "    summa.syntactic_unit\n",
      "\n",
      "CLASSES\n",
      "    builtins.object\n",
      "        SyntacticUnit\n",
      "    \n",
      "    class SyntacticUnit(builtins.object)\n",
      "     |  SyntacticUnit(text, token=None, tag=None)\n",
      "     |  \n",
      "     |  Methods defined here:\n",
      "     |  \n",
      "     |  __init__(self, text, token=None, tag=None)\n",
      "     |      Initialize self.  See help(type(self)) for accurate signature.\n",
      "     |  \n",
      "     |  __repr__(self)\n",
      "     |      Return repr(self).\n",
      "     |  \n",
      "     |  __str__(self)\n",
      "     |      Return str(self).\n",
      "     |  \n",
      "     |  ----------------------------------------------------------------------\n",
      "     |  Data descriptors defined here:\n",
      "     |  \n",
      "     |  __dict__\n",
      "     |      dictionary for instance variables (if defined)\n",
      "     |  \n",
      "     |  __weakref__\n",
      "     |      list of weak references to the object (if defined)\n",
      "\n",
      "FILE\n",
      "    /opt/conda/lib/python3.9/site-packages/summa/syntactic_unit.py\n",
      "\n",
      "\n"
     ]
    }
   ],
   "source": [
    "help(syntactic_unit)"
   ]
  },
  {
   "cell_type": "code",
   "execution_count": 169,
   "id": "cadbd5b0",
   "metadata": {},
   "outputs": [
    {
     "name": "stdout",
     "output_type": "stream",
     "text": [
      "class SyntacticUnit(object):\n",
      "\n",
      "    def __init__(self, text, token=None, tag=None):\n",
      "        self.text = text\n",
      "        self.token = token\n",
      "        self.tag = tag[:2] if tag else None  # just first two letters of tag\n",
      "        self.index = -1\n",
      "        self.score = -1\n",
      "\n",
      "    def __str__(self):\n",
      "        return \"Original unit: '\" + self.text + \"' *-*-*-* \" + \"Processed unit: '\" + self.token + \"'\"\n",
      "\n",
      "    def __repr__(self):\n",
      "        return str(self)\n"
     ]
    }
   ],
   "source": [
    "c = os.system(\"cat /opt/conda/lib/python3.9/site-packages/summa/syntactic_unit.py\")"
   ]
  }
 ],
 "metadata": {
  "kernelspec": {
   "display_name": "Python 3 (ipykernel)",
   "language": "python",
   "name": "python3"
  },
  "language_info": {
   "codemirror_mode": {
    "name": "ipython",
    "version": 3
   },
   "file_extension": ".py",
   "mimetype": "text/x-python",
   "name": "python",
   "nbconvert_exporter": "python",
   "pygments_lexer": "ipython3",
   "version": "3.9.7"
  }
 },
 "nbformat": 4,
 "nbformat_minor": 5
}
