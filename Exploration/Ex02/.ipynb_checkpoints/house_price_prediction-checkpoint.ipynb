{
 "cells": [
  {
   "cell_type": "markdown",
   "id": "544c4efb",
   "metadata": {},
   "source": [
    "# 2019 2nd ML month with KaKR\n",
    "\n",
    "### 캐글 코리아와 함께하는 2nd ML 대회 - House Price Prediction\n",
    "\n",
    "AIFFEL 기초다지기 node 10\n",
    "\n"
   ]
  },
  {
   "cell_type": "code",
   "execution_count": 1,
   "id": "03e279d1",
   "metadata": {},
   "outputs": [],
   "source": [
    "# 주피터 NB 시각화 설정\n",
    "import matplotlib.pyplot as plt\n",
    "%matplotlib inline\n",
    "%config InlineBackend.figure_format = 'retina'"
   ]
  },
  {
   "cell_type": "code",
   "execution_count": 2,
   "id": "72110e0e",
   "metadata": {},
   "outputs": [],
   "source": [
    "import warnings\n",
    "warnings.filterwarnings(\"ignore\")\n",
    "\n",
    "import os\n",
    "from os.path import join\n",
    "\n",
    "import pandas as pd\n",
    "import numpy as np\n",
    "\n",
    "import missingno as msno\n",
    "\n",
    "from sklearn.ensemble import GradientBoostingRegressor, RandomForestRegressor\n",
    "from sklearn.model_selection import KFold, cross_val_score\n",
    "from sklearn.model_selection import train_test_split\n",
    "from sklearn.metrics import mean_squared_error\n",
    "import xgboost as xgb\n",
    "import lightgbm as lgb\n",
    "\n",
    "import matplotlib.pyplot as plt\n",
    "import seaborn as sns"
   ]
  },
  {
   "cell_type": "code",
   "execution_count": 3,
   "id": "0ea0abe4",
   "metadata": {},
   "outputs": [],
   "source": [
    "data_dir = \"~/aiffel/kaggle_kakr_housing/data\"\n",
    "\n",
    "train_data_path = join(data_dir, 'train.csv')\n",
    "sub_data_path = join(data_dir, 'test.csv')      # 테스트, 즉 submission 시 사용할 데이터 경로"
   ]
  },
  {
   "cell_type": "code",
   "execution_count": 4,
   "id": "f552746b",
   "metadata": {},
   "outputs": [
    {
     "name": "stdout",
     "output_type": "stream",
     "text": [
      "train data dim : (15035, 21)\n",
      "sub data dim : (6468, 20)\n"
     ]
    }
   ],
   "source": [
    "data = pd.read_csv(train_data_path)\n",
    "sub = pd.read_csv(sub_data_path)\n",
    "print('train data dim : {}'.format(data.shape))\n",
    "print('sub data dim : {}'.format(sub.shape))"
   ]
  },
  {
   "cell_type": "markdown",
   "id": "1f679dbe",
   "metadata": {},
   "source": [
    "__전처리__"
   ]
  },
  {
   "cell_type": "code",
   "execution_count": 5,
   "id": "dc248c62",
   "metadata": {},
   "outputs": [],
   "source": [
    "y = data['price']\n",
    "del data['price']"
   ]
  },
  {
   "cell_type": "code",
   "execution_count": 6,
   "id": "72652927",
   "metadata": {},
   "outputs": [],
   "source": [
    "train_len = len(data)\n",
    "data = pd.concat((data, sub), axis=0)"
   ]
  },
  {
   "cell_type": "code",
   "execution_count": 7,
   "id": "1d39cd1b",
   "metadata": {},
   "outputs": [
    {
     "data": {
      "text/plain": [
       "<bound method NDFrame.head of          id    date  bedrooms  bathrooms  sqft_living  sqft_lot  floors  \\\n",
       "0         0  201410         3       1.00         1180      5650     1.0   \n",
       "1         1  201502         2       1.00          770     10000     1.0   \n",
       "2         2  201502         3       2.00         1680      8080     1.0   \n",
       "3         3  201406         3       2.25         1715      6819     2.0   \n",
       "4         4  201501         3       1.50         1060      9711     1.0   \n",
       "...     ...     ...       ...        ...          ...       ...     ...   \n",
       "6463  21498  201406         3       1.75         1500     11968     1.0   \n",
       "6464  21499  201501         3       2.00         1490      1126     3.0   \n",
       "6465  21500  201502         3       2.50         1310      1294     2.0   \n",
       "6466  21501  201406         2       0.75         1020      1350     2.0   \n",
       "6467  21502  201501         3       2.50         1600      2388     2.0   \n",
       "\n",
       "      waterfront  view  condition  grade  sqft_above  sqft_basement  yr_built  \\\n",
       "0              0     0          3      7        1180              0      1955   \n",
       "1              0     0          3      6         770              0      1933   \n",
       "2              0     0          3      8        1680              0      1987   \n",
       "3              0     0          3      7        1715              0      1995   \n",
       "4              0     0          3      7        1060              0      1963   \n",
       "...          ...   ...        ...    ...         ...            ...       ...   \n",
       "6463           0     0          3      6        1500              0      2014   \n",
       "6464           0     0          3      8        1490              0      2014   \n",
       "6465           0     0          3      8        1180            130      2008   \n",
       "6466           0     0          3      7        1020              0      2009   \n",
       "6467           0     0          3      8        1600              0      2004   \n",
       "\n",
       "      yr_renovated  zipcode      lat     long  sqft_living15  sqft_lot15  \n",
       "0                0    98178  47.5112 -122.257           1340        5650  \n",
       "1                0    98028  47.7379 -122.233           2720        8062  \n",
       "2                0    98074  47.6168 -122.045           1800        7503  \n",
       "3                0    98003  47.3097 -122.327           2238        6819  \n",
       "4                0    98198  47.4095 -122.315           1650        9711  \n",
       "...            ...      ...      ...      ...            ...         ...  \n",
       "6463             0    98010  47.3095 -122.002           1320       11303  \n",
       "6464             0    98144  47.5699 -122.288           1400        1230  \n",
       "6465             0    98116  47.5773 -122.409           1330        1265  \n",
       "6466             0    98144  47.5944 -122.299           1020        2007  \n",
       "6467             0    98027  47.5345 -122.069           1410        1287  \n",
       "\n",
       "[21503 rows x 20 columns]>"
      ]
     },
     "execution_count": 7,
     "metadata": {},
     "output_type": "execute_result"
    }
   ],
   "source": [
    "data['date'] = data['date'].apply(lambda i: i[:6]).astype(int)\n",
    "data.head"
   ]
  },
  {
   "cell_type": "code",
   "execution_count": 8,
   "id": "d8d37518",
   "metadata": {},
   "outputs": [],
   "source": [
    "sub_id = data['id'][train_len:]\n",
    "del data['id']"
   ]
  },
  {
   "cell_type": "code",
   "execution_count": 9,
   "id": "edc5147c",
   "metadata": {},
   "outputs": [],
   "source": [
    "train = data.iloc[:train_len,:]\n",
    "X_sub = data.iloc[train_len:,:]"
   ]
  },
  {
   "cell_type": "code",
   "execution_count": 10,
   "id": "a071754e",
   "metadata": {},
   "outputs": [],
   "source": [
    "# 치우친 분포의 칼럼 스케일링\n",
    "skew_columns = ['bedrooms', 'sqft_living', 'sqft_lot',\n",
    "'sqft_above', 'sqft_basement', 'sqft_lot15', 'sqft_living15']\n",
    "\n",
    "for c in skew_columns:\n",
    "    data[c] = np.log1p(data[c].values)"
   ]
  },
  {
   "cell_type": "markdown",
   "id": "071a001a",
   "metadata": {},
   "source": [
    "### 모델링"
   ]
  },
  {
   "cell_type": "code",
   "execution_count": 11,
   "id": "b6a84aa5",
   "metadata": {},
   "outputs": [],
   "source": [
    "random_state=2024\n",
    "gboost = GradientBoostingRegressor(random_state=random_state)\n",
    "xgboost = xgb.XGBRegressor(random_state=random_state)\n",
    "lightgbm = lgb.LGBMRegressor(random_state=random_state)\n",
    "rdforest = RandomForestRegressor(random_state=random_state)\n",
    "\n",
    "models = [gboost, xgboost, lightgbm, rdforest]\n",
    "# models = [{'model':gboost, 'name':'GradientBoosting'},\n",
    "#           {'model':xgboost, 'name':'XGBoost'},\n",
    "#           {'model':lightgbm, 'name':'LightGBM'},\n",
    "#           {'model':rdforest, 'name':'RandomForestRegressor'}]"
   ]
  },
  {
   "cell_type": "markdown",
   "id": "d866d577",
   "metadata": {},
   "source": [
    "__KFold Cross-validation 도입실패__\n",
    "```python\n",
    "def get_cv_score(models):\n",
    "    kfold = KFold(n_splits=5, random_state=2019).get_n_splits(x.values)\n",
    "    for m in models:\n",
    "        print(\"Model {} CV score : {:.4f}\".format(\n",
    "            m['name'], np.mean(cross_val_score(m['model'], x.values, y)), \n",
    "                                             kf=kfold))\n",
    "\n",
    "def get_cv_score(models):\n",
    "    kfold = KFold(n_splits=5).get_n_splits(x.values)\n",
    "    for m in models:\n",
    "        CV_score = np.mean(cross_val_score(m['model'], X=x.values, y=y, cv=kfold))\n",
    "        print(f\"Model: {m['name']}, CV score:{CV_score:.4f}\")\n",
    "\n",
    "def get_cv_score(models):\n",
    "    kfold = KFold(n_splits=5).get_n_splits(x.values)\n",
    "    for m in models:\n",
    "        CV_score = np.mean(cross_val_score(m['model'], X=x.values, y=y, cv=kfold))\n",
    "        print(f\"Model: {m['name']}, CV score:{CV_score:.4f}\")\n",
    "```"
   ]
  },
  {
   "cell_type": "code",
   "execution_count": 12,
   "id": "3f3abd84",
   "metadata": {},
   "outputs": [],
   "source": [
    "def rmse(y_test, y_pred):\n",
    "    return np.sqrt(mean_squared_error(np.expm1(y_test), np.expm1(y_pred)))"
   ]
  },
  {
   "cell_type": "markdown",
   "id": "ae477f9c",
   "metadata": {},
   "source": [
    "__아래 `get_scores` 함수는 에러가 난다.__"
   ]
  },
  {
   "cell_type": "code",
   "execution_count": 15,
   "id": "480b52df",
   "metadata": {},
   "outputs": [],
   "source": [
    "def get_scores(models, train, y, random_state):\n",
    "    # train, test 데이터셋 분리\n",
    "    # random_state를 사용하여 고정하고 train과 test 셋의 비율은 8:2로 합니다.\n",
    "    X_train, X_test, y_train, y_test = train_test_split(\n",
    "                            train, y, test_size=0.2, random_state=random_state)\n",
    "\n",
    "    for model in models:\n",
    "        # 모델 이름 획득\n",
    "        model_name = model.__class__.__name__\n",
    "\n",
    "        # 모델 학습\n",
    "        model.fit(X_train, y_train)\n",
    "\n",
    "        # 예측\n",
    "        y_preds = model.predict(X_test)\n",
    "\n",
    "        # 예측 결과의 rmse값 저장\n",
    "        print(y_test.head())\n",
    "        print(y_preds.head())\n",
    "        df[model_name] = rmse(y_test, y_preds)\n",
    "  \n",
    "    # data frame에 저장\n",
    "    score_df = pd.DataFrame(df, index=['RMSE']).T.sort_values('RMSE', ascending=False)\n",
    "    return score_df\n",
    "\n",
    "\n",
    "# get_scores(models, train, y, random_state)"
   ]
  },
  {
   "cell_type": "markdown",
   "id": "7a8158ff",
   "metadata": {},
   "source": [
    "### 그리드 탐색"
   ]
  },
  {
   "cell_type": "code",
   "execution_count": 16,
   "id": "2b674427",
   "metadata": {},
   "outputs": [],
   "source": [
    "from sklearn.model_selection import GridSearchCV"
   ]
  },
  {
   "cell_type": "code",
   "execution_count": 17,
   "id": "e1e2d96e",
   "metadata": {},
   "outputs": [],
   "source": [
    "# LMS 노드 예제 그대로\n",
    "param_grid = {\n",
    "    'n_estimators': [50, 100],\n",
    "    'max_depth': [1, 10],\n",
    "}"
   ]
  },
  {
   "cell_type": "code",
   "execution_count": 18,
   "id": "5b32303a",
   "metadata": {},
   "outputs": [],
   "source": [
    "model = lgb.LGBMRegressor(random_state=random_state)"
   ]
  },
  {
   "cell_type": "code",
   "execution_count": 19,
   "id": "82350e0a",
   "metadata": {},
   "outputs": [],
   "source": [
    "def my_GridSearch(model, train, y, param_grid, verbose=2, n_jobs=5):\n",
    "\n",
    "    grid_model = GridSearchCV(model, param_grid=param_grid,\n",
    "                        scoring='neg_mean_squared_error',\n",
    "                        cv=5, verbose=verbose, n_jobs=n_jobs)\n",
    "\n",
    "    grid_model.fit(train, y)\n",
    "    \n",
    "    results = pd.DataFrame(grid_model.cv_results_['params'])\n",
    "    results['score']=grid_model.cv_results_['mean_test_score']\n",
    "    results['RMSLE'] = np.sqrt(-1 * results['score'])\n",
    "    results.sort_values('RMSLE', inplace=True)\n",
    "    \n",
    "    return results"
   ]
  },
  {
   "cell_type": "code",
   "execution_count": 20,
   "id": "d4e2f86c",
   "metadata": {},
   "outputs": [
    {
     "name": "stdout",
     "output_type": "stream",
     "text": [
      "Fitting 5 folds for each of 4 candidates, totalling 20 fits\n"
     ]
    },
    {
     "data": {
      "text/html": [
       "<div>\n",
       "<style scoped>\n",
       "    .dataframe tbody tr th:only-of-type {\n",
       "        vertical-align: middle;\n",
       "    }\n",
       "\n",
       "    .dataframe tbody tr th {\n",
       "        vertical-align: top;\n",
       "    }\n",
       "\n",
       "    .dataframe thead th {\n",
       "        text-align: right;\n",
       "    }\n",
       "</style>\n",
       "<table border=\"1\" class=\"dataframe\">\n",
       "  <thead>\n",
       "    <tr style=\"text-align: right;\">\n",
       "      <th></th>\n",
       "      <th>max_depth</th>\n",
       "      <th>n_estimators</th>\n",
       "      <th>score</th>\n",
       "      <th>RMSLE</th>\n",
       "    </tr>\n",
       "  </thead>\n",
       "  <tbody>\n",
       "    <tr>\n",
       "      <th>3</th>\n",
       "      <td>10</td>\n",
       "      <td>100</td>\n",
       "      <td>-1.636539e+10</td>\n",
       "      <td>127927.284712</td>\n",
       "    </tr>\n",
       "    <tr>\n",
       "      <th>2</th>\n",
       "      <td>10</td>\n",
       "      <td>50</td>\n",
       "      <td>-1.724703e+10</td>\n",
       "      <td>131327.941095</td>\n",
       "    </tr>\n",
       "    <tr>\n",
       "      <th>1</th>\n",
       "      <td>1</td>\n",
       "      <td>100</td>\n",
       "      <td>-3.856707e+10</td>\n",
       "      <td>196385.016448</td>\n",
       "    </tr>\n",
       "    <tr>\n",
       "      <th>0</th>\n",
       "      <td>1</td>\n",
       "      <td>50</td>\n",
       "      <td>-4.790311e+10</td>\n",
       "      <td>218867.798643</td>\n",
       "    </tr>\n",
       "  </tbody>\n",
       "</table>\n",
       "</div>"
      ],
      "text/plain": [
       "   max_depth  n_estimators         score          RMSLE\n",
       "3         10           100 -1.636539e+10  127927.284712\n",
       "2         10            50 -1.724703e+10  131327.941095\n",
       "1          1           100 -3.856707e+10  196385.016448\n",
       "0          1            50 -4.790311e+10  218867.798643"
      ]
     },
     "execution_count": 20,
     "metadata": {},
     "output_type": "execute_result"
    }
   ],
   "source": [
    "srch_rslt = my_GridSearch(model, train, y, param_grid, verbose=2, n_jobs=5)\n",
    "srch_rslt"
   ]
  },
  {
   "cell_type": "markdown",
   "id": "6cc2daf5",
   "metadata": {},
   "source": [
    "### 에버리징 구현 실패 ㅠㅠ"
   ]
  },
  {
   "cell_type": "raw",
   "id": "4bd68a92",
   "metadata": {},
   "source": [
    "def AveragingBlending(models, x, y, sub_x):\n",
    "    for m in models : \n",
    "        m['model'].fit(x.values, y)\n",
    "    \n",
    "    predictions = np.column_stack([\n",
    "        m['model'].predict(sub_x.values) for m in models\n",
    "    ])\n",
    "    return np.mean(predictions, axis=1)"
   ]
  },
  {
   "cell_type": "raw",
   "id": "4e4126f5",
   "metadata": {},
   "source": [
    "y_pred = AveragingBlending(models, train, y, sub)"
   ]
  },
  {
   "cell_type": "markdown",
   "id": "f337f026",
   "metadata": {},
   "source": [
    "### 캐글 제출 폼 만들기"
   ]
  },
  {
   "cell_type": "code",
   "execution_count": 21,
   "id": "aff8eb14",
   "metadata": {},
   "outputs": [],
   "source": [
    "model = lgb.LGBMRegressor(max_depth=10, n_estimators=100, random_state=random_state)"
   ]
  },
  {
   "cell_type": "code",
   "execution_count": 22,
   "id": "6d1500a0",
   "metadata": {},
   "outputs": [],
   "source": [
    "def save_submission(model, train, y, test, model_name, rmsle):\n",
    "    model.fit(train, y)\n",
    "    prediction = model.predict(test)\n",
    "    prediction = np.expm1(prediction)\n",
    "    \n",
    "    data_dir = os.getenv('HOME')+'/aiffel/kaggle_kakr_housing/data'\n",
    "    submission_path = join(data_dir, 'sample_submission.csv')\n",
    "    \n",
    "    submission = pd.read_csv(submission_path)\n",
    "    submission['price'] = prediction\n",
    "    \n",
    "    submission_csv_path ='{}/submission_{}_RMSLE_{}.csv'.format(data_dir, model_name, rmsle)\n",
    "    submission.to_csv(submission_csv_path, index=False)\n",
    "    \n",
    "    print(\"saved to, \"+submission_csv_path)\n",
    "    return"
   ]
  },
  {
   "cell_type": "code",
   "execution_count": 24,
   "id": "7a73b672",
   "metadata": {
    "scrolled": true
   },
   "outputs": [
    {
     "name": "stdout",
     "output_type": "stream",
     "text": [
      "saved to, /aiffel/aiffel/kaggle_kakr_housing/data/submission_LGBMRegressor_RMSLE_0.164399.csv\n",
      "[CV] END .......................max_depth=1, n_estimators=50; total time=   0.6s\n",
      "[CV] END ......................max_depth=1, n_estimators=100; total time=   0.8s\n",
      "[CV] END ......................max_depth=10, n_estimators=50; total time=   1.3s\n",
      "[CV] END .....................max_depth=10, n_estimators=100; total time=   1.6s\n",
      "[CV] END .......................max_depth=1, n_estimators=50; total time=   0.4s\n",
      "[CV] END ......................max_depth=1, n_estimators=100; total time=   0.6s\n",
      "[CV] END ......................max_depth=10, n_estimators=50; total time=   1.4s\n",
      "[CV] END .....................max_depth=10, n_estimators=100; total time=   1.6s\n",
      "[CV] END .......................max_depth=1, n_estimators=50; total time=   0.7s\n",
      "[CV] END ......................max_depth=10, n_estimators=50; total time=   1.0s\n",
      "[CV] END .....................max_depth=10, n_estimators=100; total time=   2.0s\n",
      "[CV] END .......................max_depth=1, n_estimators=50; total time=   0.5s\n",
      "[CV] END ......................max_depth=10, n_estimators=50; total time=   0.9s\n",
      "[CV] END .....................max_depth=10, n_estimators=100; total time=   1.8s\n",
      "[CV] END .......................max_depth=1, n_estimators=50; total time=   0.4s\n",
      "[CV] END ......................max_depth=1, n_estimators=100; total time=   0.6s\n",
      "[CV] END ......................max_depth=1, n_estimators=100; total time=   0.5s\n",
      "[CV] END ......................max_depth=1, n_estimators=100; total time=   0.6s\n",
      "[CV] END ......................max_depth=10, n_estimators=50; total time=   1.5s\n",
      "[CV] END .....................max_depth=10, n_estimators=100; total time=   1.7s\n"
     ]
    }
   ],
   "source": [
    "save_submission(\n",
    "    model, train, y[:train_len], X_sub, 'LGBMRegressor', rmsle='0.164399')"
   ]
  },
  {
   "cell_type": "raw",
   "id": "c4e8f2f2",
   "metadata": {},
   "source": [
    "sub = pd.DataFrame(data={'id':sub_id,'price':y_pred})"
   ]
  },
  {
   "cell_type": "raw",
   "id": "29a20627",
   "metadata": {},
   "source": [
    "sub.to_csv('submission.csv', index=False)"
   ]
  }
 ],
 "metadata": {
  "kernelspec": {
   "display_name": "Python 3 (ipykernel)",
   "language": "python",
   "name": "python3"
  },
  "language_info": {
   "codemirror_mode": {
    "name": "ipython",
    "version": 3
   },
   "file_extension": ".py",
   "mimetype": "text/x-python",
   "name": "python",
   "nbconvert_exporter": "python",
   "pygments_lexer": "ipython3",
   "version": "3.9.7"
  }
 },
 "nbformat": 4,
 "nbformat_minor": 5
}
