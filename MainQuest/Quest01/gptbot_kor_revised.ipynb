{
 "cells": [
  {
   "cell_type": "markdown",
   "id": "c7285b9d",
   "metadata": {},
   "source": [
    "# GPT-1 한국어 챗봇 프로젝트\n",
    "\n",
    "  - Transformer와 비교\n",
    "  - 공백, 특수문자 전처리\n",
    "  - 모델의 입력 블럭을 GPT 논문에 기반하여 수정\n",
    "  - GPT 모델을 정상적으로 구성\n",
    "  - 입력에 따른 출력 생성"
   ]
  },
  {
   "cell_type": "markdown",
   "id": "adf2861b",
   "metadata": {},
   "source": [
    "### 변경이 필요한 부분\n",
    "\n",
    "  - 인코더가 없음\n",
    "    - 모든 입력이 디코더로 들어간다\n",
    "    - 인코더의 어텐션을 거친 출력이 없음\n",
    "    - QnA형식의 입력을 delimiter로 연결해 입력해야함.\n",
    "    - 추론단계에도 디코더만 써야함\n",
    "  - 디코더 블록 내부 구조\n",
    "    - 마스크드 멀티헤드 셀프 어텐션 층이 하나\n",
    "    - ~~완전연결 대신 1D-합성곱 층 사용~~\n",
    "  - 드롭아웃 추가\n",
    "    - 어텐션 내부 드롭아웃\n",
    "  - 디코더 레이어 깊이; 12 -> 실험해볼 것\n",
    "  - ~~가중치 초기화~~\n",
    "  - ~~기타~~\n",
    "    - For the position-wise feed-forward networks, we used 3072 dimensional inner states.\n",
    "    - bytepair encoding (BPE) vocabulary\n",
    "    - a modified version of L2 regularization\n",
    "    - learned position embeddings instead of the sinusoidal version\n",
    "    - _ftfy_ library to clean the raw text in BooksCorpus standardize some punctuation and whitespace\n",
    "    - use the spaCy tokenizer\n",
    "  - 모델 저장이 안 됨(tensor object JSON serialization issue), 가중치만 따로 저장할 것."
   ]
  },
  {
   "attachments": {
    "image.png": {
     "image/png": "[encoded data removed]"
    }
   },
   "cell_type": "markdown",
   "id": "bd03a857",
   "metadata": {},
   "source": [
    "```\n",
    "Model: \"gpt-1\"\n",
    "__________________________________________________________________________________________________\n",
    "Layer (type)                    Output Shape         Param #     Connected to                     \n",
    "==================================================================================================\n",
    "dec_inputs (InputLayer)         [(None, None)]       0                                            \n",
    "__________________________________________________________________________________________________\n",
    "look_ahead_mask (Lambda)        (None, 1, None, None 0           dec_inputs[0][0]                 \n",
    "__________________________________________________________________________________________________\n",
    "dec_padding_mask (Lambda)       (None, 1, 1, None)   0           dec_inputs[0][0]                 \n",
    "__________________________________________________________________________________________________\n",
    "decoder (Functional)            (None, None, 256)    8778752     dec_inputs[0][0]                 \n",
    "                                                                 look_ahead_mask[0][0]            \n",
    "                                                                 dec_padding_mask[0][0]           \n",
    "__________________________________________________________________________________________________\n",
    "outputs (Dense)                 (None, None, 21938)  5638066     decoder[0][0]                    \n",
    "==================================================================================================\n",
    "Total params: 14,416,818\n",
    "Trainable params: 14,416,818\n",
    "Non-trainable params: 0\n",
    "__________________________________________________________________________________________________\n",
    "def loss_function(y_true, y_pred):\n",
    "```\n",
    "- 아래는 20 epoch 부터 이어서 훈련한 손실/지표 그래프\n",
    "     ![image.png](attachment:image.png)"
   ]
  },
  {
   "cell_type": "code",
   "execution_count": 1,
   "id": "490b116b",
   "metadata": {},
   "outputs": [
    {
     "name": "stdout",
     "output_type": "stream",
     "text": [
      "2.6.0\n"
     ]
    }
   ],
   "source": [
    "import tensorflow as tf\n",
    "print(tf.__version__)\n",
    "import tensorflow_datasets as tfds\n",
    "import os\n",
    "import re\n",
    "import numpy as np\n",
    "import matplotlib.pyplot as plt\n"
   ]
  },
  {
   "cell_type": "code",
   "execution_count": 2,
   "id": "97c43053",
   "metadata": {},
   "outputs": [
    {
     "name": "stderr",
     "output_type": "stream",
     "text": [
      "ln: failed to create symbolic link '/aiffel/aiffel/transformer_chatbot/data/ChatbotData .csv': File exists\n"
     ]
    },
    {
     "data": {
      "text/plain": [
       "256"
      ]
     },
     "execution_count": 2,
     "metadata": {},
     "output_type": "execute_result"
    }
   ],
   "source": [
    "os.system(\"mkdir -p ~/aiffel/transformer_chatbot/data/\")\n",
    "os.system(\"ln -s ~/data/* ~/aiffel/transformer_chatbot/data/\")"
   ]
  },
  {
   "cell_type": "code",
   "execution_count": 3,
   "id": "ea48b530",
   "metadata": {},
   "outputs": [
    {
     "data": {
      "text/html": [
       "<div>\n",
       "<style scoped>\n",
       "    .dataframe tbody tr th:only-of-type {\n",
       "        vertical-align: middle;\n",
       "    }\n",
       "\n",
       "    .dataframe tbody tr th {\n",
       "        vertical-align: top;\n",
       "    }\n",
       "\n",
       "    .dataframe thead th {\n",
       "        text-align: right;\n",
       "    }\n",
       "</style>\n",
       "<table border=\"1\" class=\"dataframe\">\n",
       "  <thead>\n",
       "    <tr style=\"text-align: right;\">\n",
       "      <th></th>\n",
       "      <th>Q</th>\n",
       "      <th>A</th>\n",
       "      <th>label</th>\n",
       "    </tr>\n",
       "  </thead>\n",
       "  <tbody>\n",
       "    <tr>\n",
       "      <th>0</th>\n",
       "      <td>12시 땡!</td>\n",
       "      <td>하루가 또 가네요.</td>\n",
       "      <td>0</td>\n",
       "    </tr>\n",
       "    <tr>\n",
       "      <th>1</th>\n",
       "      <td>1지망 학교 떨어졌어</td>\n",
       "      <td>위로해 드립니다.</td>\n",
       "      <td>0</td>\n",
       "    </tr>\n",
       "    <tr>\n",
       "      <th>2</th>\n",
       "      <td>3박4일 놀러가고 싶다</td>\n",
       "      <td>여행은 언제나 좋죠.</td>\n",
       "      <td>0</td>\n",
       "    </tr>\n",
       "    <tr>\n",
       "      <th>3</th>\n",
       "      <td>3박4일 정도 놀러가고 싶다</td>\n",
       "      <td>여행은 언제나 좋죠.</td>\n",
       "      <td>0</td>\n",
       "    </tr>\n",
       "    <tr>\n",
       "      <th>4</th>\n",
       "      <td>PPL 심하네</td>\n",
       "      <td>눈살이 찌푸려지죠.</td>\n",
       "      <td>0</td>\n",
       "    </tr>\n",
       "  </tbody>\n",
       "</table>\n",
       "</div>"
      ],
      "text/plain": [
       "                 Q            A  label\n",
       "0           12시 땡!   하루가 또 가네요.      0\n",
       "1      1지망 학교 떨어졌어    위로해 드립니다.      0\n",
       "2     3박4일 놀러가고 싶다  여행은 언제나 좋죠.      0\n",
       "3  3박4일 정도 놀러가고 싶다  여행은 언제나 좋죠.      0\n",
       "4          PPL 심하네   눈살이 찌푸려지죠.      0"
      ]
     },
     "execution_count": 3,
     "metadata": {},
     "output_type": "execute_result"
    }
   ],
   "source": [
    "import pandas as pd\n",
    "d_path = \"/aiffel/aiffel/transformer_chatbot/data/\"\n",
    "raw_data = pd.read_csv(d_path+\"ChatbotData .csv\")\n",
    "raw_data.head()"
   ]
  },
  {
   "cell_type": "code",
   "execution_count": 4,
   "id": "c2eef20a",
   "metadata": {},
   "outputs": [
    {
     "name": "stdout",
     "output_type": "stream",
     "text": [
      "50000\n"
     ]
    }
   ],
   "source": [
    "# 사용할 샘플의 최대 개수; 한국어 데이터의 규모가 작으므로 전체 사용\n",
    "MAX_SAMPLES = 50000\n",
    "print(MAX_SAMPLES)"
   ]
  },
  {
   "cell_type": "code",
   "execution_count": 5,
   "id": "9adb968d",
   "metadata": {},
   "outputs": [],
   "source": [
    "# 전처리 함수\n",
    "def preprocess_sentence(sentence):\n",
    "  # 입력받은 sentence를 소문자로 변경하고 양쪽 공백을 제거; 한국어 불필요\n",
    "  # sentence = sentence.lower()\n",
    "  # sentence = sentence.strip()\n",
    "\n",
    "  # (유니코드 문자열 \".\", \"?\", \"!\", \",\")를 제외한 모든 문자를 공백으로 대체\n",
    "  # 한글은 유니코드에 포함되어 있고 낱소리만 쓰인 문자열도 포함됨\n",
    "  sentence = re.sub(r'([^\\w?!,])', \" \", sentence)\n",
    "  sentence = sentence.strip()\n",
    "  \n",
    "  # 구두점(punctuation)을 토큰으로 인식하도록 단어와의 사이에 공백\n",
    "  sentence = re.sub(r\"([?.!,])\", r\" \\1 \", sentence)\n",
    "  sentence = sentence.strip()\n",
    "  sentence = re.sub(r'[\" \"]+', \" \", sentence)\n",
    "\n",
    "  return sentence"
   ]
  },
  {
   "cell_type": "code",
   "execution_count": 6,
   "id": "0141504a",
   "metadata": {},
   "outputs": [
    {
     "name": "stdout",
     "output_type": "stream",
     "text": [
      "전체 샘플 수 : 11823\n",
      "전체 샘플 수 : 11823\n"
     ]
    }
   ],
   "source": [
    "# 데이터를 로드하고 전처리하여 질문을 questions, 답변을 answers에 저장\n",
    "questions = [preprocess_sentence(s) for s in  raw_data[\"Q\"]]\n",
    "answers = [preprocess_sentence(s) for s in  raw_data[\"A\"]]\n",
    "print('전체 샘플 수 :', len(questions))\n",
    "print('전체 샘플 수 :', len(answers))"
   ]
  },
  {
   "cell_type": "code",
   "execution_count": 7,
   "id": "916e33d7",
   "metadata": {
    "scrolled": true
   },
   "outputs": [
    {
     "name": "stdout",
     "output_type": "stream",
     "text": [
      "전처리 후의 1154번째 질문 샘플: 단둘이는 처음 만나는 날ㅋㅋ\n",
      "전처리 후의 1155번째 답변 샘플: 서로를 아는 좋은 기회가 되겠네요\n",
      "전처리 후의 2105번째 질문 샘플: 보일러 틀고 나갔어ㅠㅠ\n",
      "전처리 후의 2106번째 답변 샘플: 이번달 난방비가 많이 나오겠네요\n"
     ]
    }
   ],
   "source": [
    "# 닿소리이나 홀소리가 따로 쓰인 것도 무사히 포함된 것을 확인\n",
    "print('전처리 후의 {}번째 질문 샘플: {}'.format((i:=1153)+1,questions[i]))\n",
    "print('전처리 후의 {}번째 답변 샘플: {}'.format(i+2, answers[i]))\n",
    "\n",
    "print('전처리 후의 {}번째 질문 샘플: {}'.format((i:=2104)+1,questions[i]))\n",
    "print('전처리 후의 {}번째 답변 샘플: {}'.format(i+2, answers[i]))"
   ]
  },
  {
   "cell_type": "code",
   "execution_count": 8,
   "id": "ad497984",
   "metadata": {},
   "outputs": [
    {
     "name": "stdout",
     "output_type": "stream",
     "text": [
      "전처리 후의 6516번째 질문 샘플: 부르고 , 찾고 , 기도해봐도 결국은 이미 끝난 사이다\n",
      "전처리 후의 6516번째 답변 샘플: 언젠간 올 이별이었을까요\n"
     ]
    }
   ],
   "source": [
    "# 따옴표 같은 기타 문장부호 탈락\n",
    "print('전처리 후의 {}번째 질문 샘플: {}'.format((i:=6515)+1,questions[i]))\n",
    "print('전처리 후의 {}번째 답변 샘플: {}'.format(i+1, answers[i]))"
   ]
  },
  {
   "cell_type": "code",
   "execution_count": 9,
   "id": "6791eb2e",
   "metadata": {},
   "outputs": [
    {
     "name": "stdout",
     "output_type": "stream",
     "text": [
      "20684\n"
     ]
    }
   ],
   "source": [
    "tokens = set(w for q, a in zip(questions, answers) for w in (q+\" \"+a).split())\n",
    "print(len(tokens))"
   ]
  },
  {
   "cell_type": "markdown",
   "id": "9df29441",
   "metadata": {},
   "source": [
    "### 데이터 전처리"
   ]
  },
  {
   "cell_type": "code",
   "execution_count": 10,
   "id": "fe20e99e",
   "metadata": {},
   "outputs": [],
   "source": [
    "import tensorflow_datasets as tfds"
   ]
  },
  {
   "cell_type": "code",
   "execution_count": 11,
   "id": "b6dae0bf",
   "metadata": {},
   "outputs": [],
   "source": [
    "# 질문과 답변 데이터셋에 대해서 Vocabulary 생성\n",
    "# target_vocab_size는 대략적 토큰 수인 20000개로 설정 \n",
    "tokenizer = tfds.deprecated.text.SubwordTextEncoder.build_from_corpus(\n",
    "                                questions + answers, target_vocab_size=20000)"
   ]
  },
  {
   "cell_type": "code",
   "execution_count": 12,
   "id": "df36f5a9",
   "metadata": {},
   "outputs": [
    {
     "name": "stdout",
     "output_type": "stream",
     "text": [
      "START_TOKEN의 번호 : [21935]\n",
      "END_TOKEN의 번호 : [21936]\n",
      "DELIMIT_TOKEN의 번호 : [21937]\n"
     ]
    }
   ],
   "source": [
    "START_TOKEN, END_TOKEN = [tokenizer.vocab_size], [tokenizer.vocab_size + 1]\n",
    "DELIMIT_TOKEN = [tokenizer.vocab_size + 2]\n",
    "\n",
    "print('START_TOKEN의 번호 :', START_TOKEN)\n",
    "print('END_TOKEN의 번호 :', END_TOKEN)\n",
    "print('DELIMIT_TOKEN의 번호 :', DELIMIT_TOKEN)"
   ]
  },
  {
   "cell_type": "code",
   "execution_count": 13,
   "id": "cc6fba0a",
   "metadata": {},
   "outputs": [
    {
     "name": "stdout",
     "output_type": "stream",
     "text": [
      "21938\n"
     ]
    }
   ],
   "source": [
    "VOCAB_SIZE = tokenizer.vocab_size + 3\n",
    "print(VOCAB_SIZE)"
   ]
  },
  {
   "cell_type": "code",
   "execution_count": 14,
   "id": "e9ba1b6a",
   "metadata": {},
   "outputs": [
    {
     "name": "stdout",
     "output_type": "stream",
     "text": [
      "30\n"
     ]
    }
   ],
   "source": [
    "max_len = max(len(tokenizer.encode(q))+len(tokenizer.encode(a)) for q, a in  zip(questions, answers))\n",
    "print(max_len)"
   ]
  },
  {
   "cell_type": "code",
   "execution_count": 15,
   "id": "997ddc19",
   "metadata": {},
   "outputs": [
    {
     "name": "stdout",
     "output_type": "stream",
     "text": [
      "정수 인코딩 후의 21번째 질문 샘플: [5206, 1368, 2623]\n",
      "정수 인코딩 후의 21번째 답변 샘플: [1303, 8721, 5, 6212]\n"
     ]
    }
   ],
   "source": [
    "# 임의의 22번째 샘플에 대해서 정수 인코딩 작업을 수행.\n",
    "# 각 토큰을 고유한 정수로 변환\n",
    "print('정수 인코딩 후의 21번째 질문 샘플: {}'.format(tokenizer.encode(questions[21])))\n",
    "print('정수 인코딩 후의 21번째 답변 샘플: {}'.format(tokenizer.encode(answers[21])))"
   ]
  },
  {
   "cell_type": "code",
   "execution_count": 16,
   "id": "a2e5f8bb",
   "metadata": {},
   "outputs": [
    {
     "name": "stdout",
     "output_type": "stream",
     "text": [
      "33\n"
     ]
    }
   ],
   "source": [
    "# 샘플의 최대 허용 길이 또는 패딩 후의 최종 길이\n",
    "# 가장 긴 질문 + 답변의 길이에 시작, 종료, 구분자 토큰을 더한 길이\n",
    "MAX_LENGTH = max_len + 3\n",
    "print(MAX_LENGTH)"
   ]
  },
  {
   "cell_type": "code",
   "execution_count": 17,
   "id": "f1b1e747",
   "metadata": {},
   "outputs": [],
   "source": [
    "# 정수 인코딩, 최대 길이를 초과하는 샘플 제거, 패딩\n",
    "def tokenize_and_filter(inputs, outputs):\n",
    "  tokenized_inputs = []\n",
    "  # tokenized_outputs = []\n",
    "  \n",
    "  for (sentence1, sentence2) in zip(inputs, outputs):\n",
    "    # 정수 인코딩 과정에서 시작 토큰, 종료 토큰, 구분자토큰 추가\n",
    "    sentence1 = START_TOKEN + tokenizer.encode(sentence1)\n",
    "    sentence2 = tokenizer.encode(sentence2) + END_TOKEN\n",
    "    sentence3 = sentence1 + DELIMIT_TOKEN + sentence2\n",
    "\n",
    "    # 최대 길이 이하인 경우에만 데이터셋으로 허용\n",
    "    if len(sentence3) <= MAX_LENGTH:\n",
    "      tokenized_inputs.append(sentence3)\n",
    "  \n",
    "  # 최대 길이로 모든 데이터셋을 패딩\n",
    "  tokenized_inputs = tf.keras.preprocessing.sequence.pad_sequences(\n",
    "                  tokenized_inputs, maxlen=MAX_LENGTH, padding='post')\n",
    "\n",
    "  return tokenized_inputs"
   ]
  },
  {
   "cell_type": "code",
   "execution_count": 18,
   "id": "b0b20afa",
   "metadata": {},
   "outputs": [
    {
     "name": "stdout",
     "output_type": "stream",
     "text": [
      "단어장의 크기 : 21938\n",
      "필터링 후의 훈련 샘플 개수: 11823\n"
     ]
    }
   ],
   "source": [
    "pretrain_inputs = tokenize_and_filter(questions, answers)\n",
    "print('단어장의 크기 :',(VOCAB_SIZE))\n",
    "print('필터링 후의 훈련 샘플 개수: {}'.format(len(pretrain_inputs)))"
   ]
  },
  {
   "cell_type": "code",
   "execution_count": 19,
   "id": "1e458ac2",
   "metadata": {},
   "outputs": [],
   "source": [
    "BATCH_SIZE = 64\n",
    "BUFFER_SIZE = 20000\n",
    "\n",
    "# 디코더는 이전의 target을 다음의 input으로 사용\n",
    "# 이에 따라 outputs에서는 START_TOKEN을 제거\n",
    "# <퀘스트> 디코더에 들어가는 한 가지 입력만 정의 \n",
    "dataset = tf.data.Dataset.from_tensor_slices((\n",
    "    {\n",
    "#         'inputs': pretrain_inputs,\n",
    "        'dec_inputs': pretrain_inputs[:, :-1]\n",
    "    },\n",
    "    {\n",
    "        'outputs': pretrain_inputs[:, 1:]\n",
    "    },\n",
    "))\n",
    "\n",
    "dataset = dataset.cache()\n",
    "dataset = dataset.shuffle(BUFFER_SIZE)\n",
    "dataset = dataset.batch(BATCH_SIZE)\n",
    "dataset = dataset.prefetch(tf.data.experimental.AUTOTUNE)"
   ]
  },
  {
   "cell_type": "markdown",
   "id": "b3860ca2",
   "metadata": {},
   "source": [
    "### 모델 정의 및 초기화"
   ]
  },
  {
   "cell_type": "code",
   "execution_count": 138,
   "id": "bb382b0d",
   "metadata": {},
   "outputs": [],
   "source": [
    "# 포지셔널 인코딩 레이어\n",
    "class PositionalEncoding(tf.keras.layers.Layer):\n",
    "\n",
    "  def __init__(self, position, d_model):\n",
    "    super(PositionalEncoding, self).__init__()\n",
    "    self.pos_encoding = self.positional_encoding(position, d_model)\n",
    "\n",
    "  def get_angles(self, position, i, d_model):\n",
    "    angles = 1 / tf.pow(10000, (2 * (i // 2)) / tf.cast(d_model, tf.float32))\n",
    "    return position * angles\n",
    "\n",
    "  def positional_encoding(self, position, d_model):\n",
    "    # 각도 배열 생성\n",
    "    angle_rads = self.get_angles(\n",
    "        position=tf.range(position, dtype=tf.float32)[:, tf.newaxis],\n",
    "        i=tf.range(d_model, dtype=tf.float32)[tf.newaxis, :],\n",
    "        d_model=d_model)\n",
    "\n",
    "    # 배열의 짝수 인덱스에는 sin 함수 적용\n",
    "    sines = tf.math.sin(angle_rads[:, 0::2])\n",
    "    # 배열의 홀수 인덱스에는 cosine 함수 적용\n",
    "    cosines = tf.math.cos(angle_rads[:, 1::2])\n",
    "\n",
    "    # sin과 cosine이 교차되도록 재배열\n",
    "    pos_encoding = tf.stack([sines, cosines], axis=0)\n",
    "    pos_encoding = tf.transpose(pos_encoding,[1, 2, 0]) \n",
    "    pos_encoding = tf.reshape(pos_encoding, [position, d_model])\n",
    "\n",
    "    pos_encoding = pos_encoding[tf.newaxis, ...]\n",
    "    return tf.cast(pos_encoding, np.float32)\n",
    "\n",
    "  def call(self, inputs):\n",
    "    return inputs + self.pos_encoding[:, :tf.shape(inputs)[1], :]"
   ]
  },
  {
   "cell_type": "code",
   "execution_count": 95,
   "id": "8753be01",
   "metadata": {},
   "outputs": [],
   "source": [
    "# 스케일드 닷 프로덕트 어텐션 함수\n",
    "# <퀘스트> 어텐션 dropout 적용, 기본갑 0.1인 rate인자 전달\n",
    "def scaled_dot_product_attention(query, key, value, mask, drop_rate=0.1):\n",
    "  # 어텐션 가중치는 Q와 K의 닷 프로덕트\n",
    "  matmul_qk = tf.matmul(query, key, transpose_b=True)\n",
    "\n",
    "  # 가중치를 정규화\n",
    "  depth = tf.cast(tf.shape(key)[-1], tf.float32)\n",
    "  logits = matmul_qk / tf.math.sqrt(depth)\n",
    "\n",
    "  # 패딩에 마스크 추가\n",
    "  if mask is not None:\n",
    "      logits += (mask * -1e9)\n",
    "\n",
    "  # softmax적용\n",
    "  attention_weights = tf.nn.softmax(logits, axis=-1)\n",
    "  # <퀘스트> 어텐션 dropout 적용\n",
    "  attention_weights = tf.keras.layers.Dropout(rate=drop_rate)(attention_weights)\n",
    "\n",
    "  # 최종 어텐션은 가중치와 V의 닷 프로덕트\n",
    "  output = tf.matmul(attention_weights, value)\n",
    "  return output"
   ]
  },
  {
   "cell_type": "markdown",
   "id": "99fd3ff6",
   "metadata": {},
   "source": [
    "### 멀티헤드 어텐션"
   ]
  },
  {
   "cell_type": "code",
   "execution_count": 139,
   "id": "01e1ffa5",
   "metadata": {},
   "outputs": [],
   "source": [
    "class MultiHeadAttention(tf.keras.layers.Layer):\n",
    "  # <퀘스트> dropout rate를 초기화 인자로 전달, 기본값 0.1\n",
    "  def __init__(self, d_model, num_heads, drop_rate=0.1, name=\"multi_head_attention\"):\n",
    "    super(MultiHeadAttention, self).__init__(name=name)\n",
    "    self.num_heads = num_heads\n",
    "    self.d_model = d_model\n",
    "\n",
    "    assert d_model % self.num_heads == 0\n",
    "\n",
    "    self.depth = d_model // self.num_heads\n",
    "\n",
    "    self.query_dense = tf.keras.layers.Dense(units=d_model)\n",
    "    self.key_dense = tf.keras.layers.Dense(units=d_model)\n",
    "    self.value_dense = tf.keras.layers.Dense(units=d_model)\n",
    "\n",
    "    self.dense = tf.keras.layers.Dense(units=d_model)\n",
    "    self.drop_rate = drop_rate\n",
    "\n",
    "  def split_heads(self, inputs, batch_size):\n",
    "    inputs = tf.reshape(\n",
    "        inputs, shape=(batch_size, -1, self.num_heads, self.depth))\n",
    "    return tf.transpose(inputs, perm=[0, 2, 1, 3])\n",
    "\n",
    "  def call(self, inputs):\n",
    "    query, key, value, mask = inputs['query'], inputs['key'], inputs[\n",
    "        'value'], inputs['mask']\n",
    "    batch_size = tf.shape(query)[0]\n",
    "\n",
    "    # Q, K, V에 각각 Dense를 적용합니다\n",
    "    query = self.query_dense(query)\n",
    "    key = self.key_dense(key)\n",
    "    value = self.value_dense(value)\n",
    "\n",
    "    # 병렬 연산을 위한 머리를 여러 개 만듭니다\n",
    "    query = self.split_heads(query, batch_size)\n",
    "    key = self.split_heads(key, batch_size)\n",
    "    value = self.split_heads(value, batch_size)\n",
    "\n",
    "    # 스케일드 닷 프로덕트 어텐션 함수\n",
    "    scaled_attention = scaled_dot_product_attention(query, key, value, mask,\n",
    "                                                              self.drop_rate)\n",
    "    scaled_attention = tf.transpose(scaled_attention, perm=[0, 2, 1, 3])\n",
    "\n",
    "    # 어텐션 연산 후에 각 결과를 다시 연결(concatenate)합니다\n",
    "    concat_attention = tf.reshape(scaled_attention,\n",
    "                                  (batch_size, -1, self.d_model))\n",
    "\n",
    "    # 최종 결과에도 Dense를 한 번 더 적용합니다\n",
    "    outputs = self.dense(concat_attention)\n",
    "\n",
    "    return outputs"
   ]
  },
  {
   "cell_type": "code",
   "execution_count": 140,
   "id": "b063fac3",
   "metadata": {},
   "outputs": [],
   "source": [
    "def create_padding_mask(x):\n",
    "  mask = tf.cast(tf.math.equal(x, 0), tf.float32)\n",
    "  # (batch_size, 1, 1, sequence length)\n",
    "  return mask[:, tf.newaxis, tf.newaxis, :]"
   ]
  },
  {
   "cell_type": "code",
   "execution_count": 141,
   "id": "cdccd029",
   "metadata": {},
   "outputs": [],
   "source": [
    "def create_look_ahead_mask(x):\n",
    "  seq_len = tf.shape(x)[1]\n",
    "  look_ahead_mask = 1 - tf.linalg.band_part(tf.ones((seq_len, seq_len)), -1, 0)\n",
    "  padding_mask = create_padding_mask(x)\n",
    "  return tf.maximum(look_ahead_mask, padding_mask)"
   ]
  },
  {
   "cell_type": "code",
   "execution_count": 142,
   "id": "fb5a7858",
   "metadata": {},
   "outputs": [],
   "source": [
    "# 디코더 하나의 레이어를 함수로 구현.\n",
    "def decoder_layer(units, d_model, num_heads, dropout, name=\"decoder_layer\"):\n",
    "  inputs = tf.keras.Input(shape=(None, d_model), name=\"inputs\")\n",
    "#   enc_outputs = tf.keras.Input(shape=(None, d_model), name=\"encoder_outputs\")\n",
    "  look_ahead_mask = tf.keras.Input(\n",
    "      shape=(1, None, None), name=\"look_ahead_mask\")\n",
    "  padding_mask = tf.keras.Input(shape=(1, 1, None), name='padding_mask')\n",
    "\n",
    "  # 첫 번째 서브 레이어 : 멀티 헤드 어텐션 수행 (셀프 어텐션)\n",
    "  # <퀘스트> look_ahead_mask 함수에 패딩과 코잘 마스킹 둘 다 적용되어 있다.\n",
    "  # <퀘스트> 어텐션의 drop_rate 전달\n",
    "  attention1 = MultiHeadAttention(d_model, num_heads,\n",
    "                                  drop_rate=dropout, name=\"attention_1\")(\n",
    "      inputs={\n",
    "          'query': inputs,\n",
    "          'key': inputs,\n",
    "          'value': inputs,\n",
    "          'mask': look_ahead_mask,\n",
    "      })\n",
    "\n",
    "  # 멀티 헤드 어텐션의 결과는 LayerNormalization 수행\n",
    "  # <퀘스트> 드랍아웃 포함\n",
    "  attention1 = tf.keras.layers.Dropout(rate=dropout)(attention1)\n",
    "  attention1 = tf.keras.layers.LayerNormalization(\n",
    "                  epsilon=1e-6)(attention1 + inputs)\n",
    "\n",
    "  # 세 번째 서브 레이어 : 2개의 완전연결층\n",
    "  # <퀘스트> Feed forward 층에도 잔차연결 적용, 활성화는 relu 대신 gelu\n",
    "  outputs = tf.keras.layers.Dense(units=units, activation='gelu')(attention1)\n",
    "  outputs = tf.keras.layers.Dense(units=d_model)(outputs)\n",
    "\n",
    "  # 완전연결층의 결과는 Dropout과 LayerNormalization 수행\n",
    "  outputs = tf.keras.layers.Dropout(rate=dropout)(outputs)\n",
    "  outputs = tf.keras.layers.LayerNormalization(epsilon=1e-6)(\n",
    "                                                        outputs + attention1)\n",
    "\n",
    "  # <퀘스트> 디코더의 셀프 어텐션엔 한 가지 입력 텐서만 전달\n",
    "  return tf.keras.Model(\n",
    "      inputs=[inputs, look_ahead_mask, padding_mask],\n",
    "      outputs=outputs,\n",
    "      name=name)"
   ]
  },
  {
   "cell_type": "code",
   "execution_count": 143,
   "id": "69dcf47f",
   "metadata": {},
   "outputs": [],
   "source": [
    "# 레이어 스펙을 입력받아 디코더 레이어를 반환하는 함수\n",
    "def decoder(vocab_size,\n",
    "            num_layers,\n",
    "            units,\n",
    "            d_model,\n",
    "            num_heads,\n",
    "            dropout,\n",
    "            name='decoder'):\n",
    "  inputs = tf.keras.Input(shape=(None,), name='inputs')\n",
    "#   enc_outputs = tf.keras.Input(shape=(None, d_model), name='encoder_outputs')\n",
    "  look_ahead_mask = tf.keras.Input(\n",
    "      shape=(1, None, None), name='look_ahead_mask')\n",
    "\n",
    "  # 패딩 마스크\n",
    "  padding_mask = tf.keras.Input(shape=(1, 1, None), name='padding_mask')\n",
    "  \n",
    "  # 임베딩 레이어\n",
    "  embeddings = tf.keras.layers.Embedding(vocab_size, d_model)(inputs)\n",
    "  embeddings *= tf.math.sqrt(tf.cast(d_model, tf.float32))\n",
    "\n",
    "  # 포지셔널 인코딩; GPT의 경우 큰 차이 없음\n",
    "  embeddings = PositionalEncoding(vocab_size, d_model)(embeddings)\n",
    "\n",
    "  # 임베딩 층에 Dropout 적용\n",
    "  outputs = tf.keras.layers.Dropout(rate=dropout)(embeddings)\n",
    "\n",
    "  # <퀘스트> 디코더의 셀프 어텐션엔 한 가지 입력 텐서만 전달\n",
    "  for i in range(num_layers):\n",
    "    outputs = decoder_layer(\n",
    "        units=units,\n",
    "        d_model=d_model,\n",
    "        num_heads=num_heads,\n",
    "        dropout=dropout,\n",
    "        name='decoder_layer_{}'.format(i),\n",
    "    )(inputs=[outputs, look_ahead_mask, padding_mask])\n",
    "\n",
    "  # <퀘스트> 디코더의 셀프 어텐션엔 한 가지 입력 텐서만 전달\n",
    "  return tf.keras.Model(\n",
    "      inputs=[inputs, look_ahead_mask, padding_mask],\n",
    "      outputs=outputs,\n",
    "      name=name)"
   ]
  },
  {
   "cell_type": "code",
   "execution_count": 144,
   "id": "992695cc",
   "metadata": {},
   "outputs": [],
   "source": [
    "def gpt(vocab_size,\n",
    "                num_layers,\n",
    "                units,\n",
    "                d_model,\n",
    "                num_heads,\n",
    "                dropout,\n",
    "                name=\"gpt-1\"):\n",
    "  dec_inputs = tf.keras.Input(shape=(None,), name=\"dec_inputs\")\n",
    "\n",
    "  # create_look_ahead_mask 함수를 디코더 어텐션 블록 입력에 맵핑\n",
    "  look_ahead_mask = tf.keras.layers.Lambda(\n",
    "      create_look_ahead_mask,\n",
    "      output_shape=(1, None, None),\n",
    "      name='look_ahead_mask')(dec_inputs)\n",
    "\n",
    "  # create_padding_mask 함수를 디코더 어텐션 블록 입력에 맵핑\n",
    "  # 인코더에서 디코더로 들어오는 벡터들을 패딩을 위한 마스크\n",
    "  dec_padding_mask = tf.keras.layers.Lambda(\n",
    "      create_padding_mask, output_shape=(1, 1, None),\n",
    "      name='dec_padding_mask')(dec_inputs)\n",
    " \n",
    "  # 디코더\n",
    "  # <퀘스트> 디코더의 셀프 어텐션엔 한 가지 입력 텐서만 전달\n",
    "  dec_outputs = decoder(\n",
    "      vocab_size=vocab_size,\n",
    "      num_layers=num_layers,\n",
    "      units=units,\n",
    "      d_model=d_model,\n",
    "      num_heads=num_heads,\n",
    "      dropout=dropout,\n",
    "  )(inputs=[dec_inputs, look_ahead_mask, dec_padding_mask])\n",
    "\n",
    "  # 완전연결층\n",
    "  outputs = tf.keras.layers.Dense(units=vocab_size, name=\"outputs\")(dec_outputs)\n",
    "\n",
    "  return tf.keras.Model(inputs=[dec_inputs], outputs=outputs, name=name)"
   ]
  },
  {
   "cell_type": "code",
   "execution_count": 166,
   "id": "244f0933",
   "metadata": {},
   "outputs": [
    {
     "name": "stdout",
     "output_type": "stream",
     "text": [
      "Model: \"gpt-1\"\n",
      "__________________________________________________________________________________________________\n",
      "Layer (type)                    Output Shape         Param #     Connected to                     \n",
      "==================================================================================================\n",
      "dec_inputs (InputLayer)         [(None, None)]       0                                            \n",
      "__________________________________________________________________________________________________\n",
      "look_ahead_mask (Lambda)        (None, 1, None, None 0           dec_inputs[0][0]                 \n",
      "__________________________________________________________________________________________________\n",
      "dec_padding_mask (Lambda)       (None, 1, 1, None)   0           dec_inputs[0][0]                 \n",
      "__________________________________________________________________________________________________\n",
      "decoder (Functional)            (None, None, 256)    8778752     dec_inputs[0][0]                 \n",
      "                                                                 look_ahead_mask[0][0]            \n",
      "                                                                 dec_padding_mask[0][0]           \n",
      "__________________________________________________________________________________________________\n",
      "outputs (Dense)                 (None, None, 21938)  5638066     decoder[0][0]                    \n",
      "==================================================================================================\n",
      "Total params: 14,416,818\n",
      "Trainable params: 14,416,818\n",
      "Non-trainable params: 0\n",
      "__________________________________________________________________________________________________\n"
     ]
    }
   ],
   "source": [
    "tf.keras.backend.clear_session()\n",
    "\n",
    "# 하이퍼파라미터\n",
    "NUM_LAYERS = 6 # 인코더와 디코더의 층의 개수; GPT 기본값 12 'n_layer'\n",
    "D_MODEL = 256 # 인코더와 디코더 내부의 입, 출력의 고정 차원; GPT 기본값 768 'n_embd'\n",
    "NUM_HEADS = 8 # 멀티 헤드 어텐션에서의 헤드 수; GPT 기본값 12 'n_head'\n",
    "UNITS = 512 # 피드 포워드 신경망의 은닉층의 크기; GPT 기본값 'n_embd'*4\n",
    "DROPOUT = 0.1 # 드롭아웃의 비율\n",
    "\n",
    "model = gpt(\n",
    "    vocab_size=VOCAB_SIZE,\n",
    "    num_layers=NUM_LAYERS,\n",
    "    units=UNITS,\n",
    "    d_model=D_MODEL,\n",
    "    num_heads=NUM_HEADS,\n",
    "    dropout=DROPOUT)\n",
    "\n",
    "model.summary()"
   ]
  },
  {
   "cell_type": "code",
   "execution_count": 167,
   "id": "2cf11e25",
   "metadata": {},
   "outputs": [],
   "source": [
    "def loss_function(y_true, y_pred):\n",
    "  y_true = tf.reshape(y_true, shape=(-1, MAX_LENGTH - 1))\n",
    "  \n",
    "  loss = tf.keras.losses.SparseCategoricalCrossentropy(\n",
    "      from_logits=True, reduction='none')(y_true, y_pred)\n",
    "\n",
    "  mask = tf.cast(tf.not_equal(y_true, 0), tf.float32)\n",
    "  loss = tf.multiply(loss, mask)\n",
    "\n",
    "  return tf.reduce_mean(loss)"
   ]
  },
  {
   "cell_type": "code",
   "execution_count": 168,
   "id": "cc67a5e7",
   "metadata": {},
   "outputs": [],
   "source": [
    "class CustomSchedule(tf.keras.optimizers.schedules.LearningRateSchedule):\n",
    "\n",
    "  def __init__(self, d_model, warmup_steps=4000):\n",
    "    super(CustomSchedule, self).__init__()\n",
    "\n",
    "    self.d_model = d_model\n",
    "    self.d_model = tf.cast(self.d_model, tf.float32)\n",
    "\n",
    "    self.warmup_steps = warmup_steps\n",
    "\n",
    "  def __call__(self, step):\n",
    "    arg1 = tf.math.rsqrt(step)\n",
    "    arg2 = step * (self.warmup_steps**-1.5)\n",
    "\n",
    "    return tf.math.rsqrt(self.d_model) * tf.math.minimum(arg1, arg2)\n",
    "\n",
    "  def get_config(self):\n",
    "    # <퀘스트> 모델 저장을 위해 'get_config' 메서드 오버라이드\n",
    "    config = {}\n",
    "    config.update({\n",
    "        'd_model': self.d_model,\n",
    "        'warmup_steps': self.warmup_steps,\n",
    "    })\n",
    "    return config\n"
   ]
  },
  {
   "cell_type": "code",
   "execution_count": 169,
   "id": "54835736",
   "metadata": {},
   "outputs": [
    {
     "data": {
      "text/plain": [
       "Text(0.5, 0, 'Train Step')"
      ]
     },
     "execution_count": 169,
     "metadata": {},
     "output_type": "execute_result"
    },
    {
     "data": {
      "image/png": "[encoded data removed]",
      "text/plain": [
       "<Figure size 432x288 with 1 Axes>"
      ]
     },
     "metadata": {
      "needs_background": "light"
     },
     "output_type": "display_data"
    }
   ],
   "source": [
    "sample_learning_rate = CustomSchedule(d_model=128)\n",
    "\n",
    "plt.plot(sample_learning_rate(tf.range(200000, dtype=tf.float32)))\n",
    "plt.ylabel(\"Learning Rate\")\n",
    "plt.xlabel(\"Train Step\")"
   ]
  },
  {
   "cell_type": "code",
   "execution_count": 170,
   "id": "7cc5abfd",
   "metadata": {},
   "outputs": [],
   "source": [
    "learning_rate = CustomSchedule(D_MODEL)\n",
    "\n",
    "optimizer = tf.keras.optimizers.Adam(\n",
    "    learning_rate, beta_1=0.9, beta_2=0.98, epsilon=1e-9)\n",
    "\n",
    "def accuracy(y_true, y_pred):\n",
    "  y_true = tf.reshape(y_true, shape=(-1, MAX_LENGTH - 1))\n",
    "  return tf.keras.metrics.sparse_categorical_accuracy(y_true, y_pred)\n",
    "\n",
    "model.compile(optimizer=optimizer, loss=loss_function, metrics=[accuracy])"
   ]
  },
  {
   "cell_type": "code",
   "execution_count": 121,
   "id": "ffa35aa3",
   "metadata": {},
   "outputs": [],
   "source": [
    "from tensorflow.keras.callbacks import EarlyStopping, ModelCheckpoint"
   ]
  },
  {
   "cell_type": "code",
   "execution_count": 203,
   "id": "a7f3bb06",
   "metadata": {
    "scrolled": true
   },
   "outputs": [
    {
     "name": "stdout",
     "output_type": "stream",
     "text": [
      "Epoch 1/10\n",
      "185/185 [==============================] - 16s 86ms/step - loss: 0.6879 - accuracy: 0.1805\n",
      "Epoch 2/10\n",
      "185/185 [==============================] - 16s 87ms/step - loss: 0.6185 - accuracy: 0.1929\n",
      "Epoch 3/10\n",
      "185/185 [==============================] - 16s 87ms/step - loss: 0.5576 - accuracy: 0.2034\n",
      "Epoch 4/10\n",
      "185/185 [==============================] - 16s 86ms/step - loss: 0.5069 - accuracy: 0.2134\n",
      "Epoch 5/10\n",
      "185/185 [==============================] - 16s 86ms/step - loss: 0.4733 - accuracy: 0.2191\n",
      "Epoch 6/10\n",
      "185/185 [==============================] - 16s 86ms/step - loss: 0.4529 - accuracy: 0.2233\n",
      "Epoch 7/10\n",
      "185/185 [==============================] - 16s 87ms/step - loss: 0.4368 - accuracy: 0.2266\n",
      "Epoch 8/10\n",
      "185/185 [==============================] - 16s 87ms/step - loss: 0.4254 - accuracy: 0.2287\n",
      "Epoch 9/10\n",
      "185/185 [==============================] - 16s 86ms/step - loss: 0.4167 - accuracy: 0.2304\n",
      "Epoch 10/10\n",
      "185/185 [==============================] - 16s 86ms/step - loss: 0.4093 - accuracy: 0.2320\n"
     ]
    }
   ],
   "source": [
    "EPOCHS = 10\n",
    "mc = ModelCheckpoint(filepath = \"/aiffel/aiffel/transformer_chatbot/6Ldec_30epoch_00.ckpt\",\n",
    "                    monitor='accuracy', save_weights_only=True, save_best_only=True)\n",
    "history = model.fit(dataset, epochs=EPOCHS, verbose=1, callbacks=[mc],)"
   ]
  },
  {
   "cell_type": "code",
   "execution_count": 217,
   "id": "d01c5785",
   "metadata": {},
   "outputs": [
    {
     "data": {
      "image/png": "[encoded data removed]",
      "text/plain": [
       "<Figure size 720x360 with 2 Axes>"
      ]
     },
     "metadata": {
      "needs_background": "light"
     },
     "output_type": "display_data"
    }
   ],
   "source": [
    "import matplotlib.pyplot as plt\n",
    "\n",
    "fig, axes = plt.subplots(1, 2, figsize=(10,5))\n",
    "history_dict = history.history\n",
    "loss_values = history_dict[\"loss\"]\n",
    "# val_loss_values = history_dict[\"val_loss\"]\n",
    "epochs = range(1, len(loss_values) + 1)\n",
    "axes[0].plot(epochs, loss_values, \"bo\", label=\"Training loss\",)\n",
    "# axes[0].plot(epochs, val_loss_values, \"b\", label=\"Validation loss\",)\n",
    "axes[0].legend()\n",
    "\n",
    "acc = history_dict[\"accuracy\"]\n",
    "# val_acc = history_dict[\"val_accuracy\"]\n",
    "axes[1].plot(epochs, acc, \"bo\", label=\"Training acc\",)\n",
    "# axes[1].plot(epochs, val_acc, \"b\", label=\"Validation acc\",)\n",
    "axes[1].legend()\n",
    "plt.show()"
   ]
  },
  {
   "cell_type": "markdown",
   "id": "f9710aff",
   "metadata": {},
   "source": [
    "### 모델 테스트"
   ]
  },
  {
   "cell_type": "code",
   "execution_count": 151,
   "id": "04bb198a",
   "metadata": {},
   "outputs": [],
   "source": [
    "def decoder_inference(sentence):\n",
    "  sentence = preprocess_sentence(sentence)\n",
    "\n",
    "  # <퀘스트> 정수 인코딩된 문장에 시작 토큰과 구분자 토큰을 앞뒤로 추가.\n",
    "  sentence = tf.expand_dims(\n",
    "      START_TOKEN + tokenizer.encode(sentence) + DELIMIT_TOKEN, axis=0)\n",
    "\n",
    "  # 디코더의 현재까지의 예측한 출력 시퀀스가 지속적으로 저장되는 변수.\n",
    "  # 처음에는 예측한 내용이 없음으로 시작 토큰만 별도 저장. ex) 8331\n",
    "  output_sequence = tf.expand_dims(START_TOKEN, 0)\n",
    "\n",
    "  # 디코더의 인퍼런스 단계\n",
    "  for i in range(MAX_LENGTH):\n",
    "    # 디코더는 최대 MAX_LENGTH의 길이만큼 다음 단어 예측을 반복\n",
    "    # <퀘스트> GPT의 디코더엔 한 가지 'sentence' 입력만 전달\n",
    "    predictions = model(inputs=[sentence], training=False)\n",
    "    predictions = predictions[:, -1:, :]\n",
    "\n",
    "    # 현재 예측한 단어의 정수\n",
    "    predicted_id = tf.cast(tf.argmax(predictions, axis=-1), tf.int32)\n",
    "\n",
    "    # 만약 현재 예측한 단어가 종료 토큰이라면 for문을 종료\n",
    "    if tf.equal(predicted_id, END_TOKEN[0]):\n",
    "      break\n",
    "\n",
    "    # 예측한 단어들은 지속적으로 sentence와 output_sequence에 추가\n",
    "    sentence = tf.concat([sentence, predicted_id], axis=-1)\n",
    "                                \n",
    "    # 이 output_sequence는 출력용 답변으로 반환.\n",
    "    output_sequence = tf.concat([output_sequence, predicted_id], axis=-1)\n",
    "\n",
    "  return tf.squeeze(output_sequence, axis=0)"
   ]
  },
  {
   "cell_type": "code",
   "execution_count": 152,
   "id": "536cde99",
   "metadata": {},
   "outputs": [],
   "source": [
    "def sentence_generation(sentence):\n",
    "  # 입력 문장에 대해서 디코더를 동작 시켜 예측된 정수 시퀀스를 리턴받습니다.\n",
    "  prediction = decoder_inference(sentence)\n",
    "\n",
    "  # 정수 시퀀스를 다시 텍스트 시퀀스로 변환합니다.\n",
    "  predicted_sentence = tokenizer.decode(\n",
    "      [i for i in prediction if i < tokenizer.vocab_size])\n",
    "\n",
    "  print('입력 : {}'.format(sentence))\n",
    "  print('출력 : {}'.format(predicted_sentence))\n",
    "\n",
    "  return predicted_sentence"
   ]
  },
  {
   "cell_type": "code",
   "execution_count": 204,
   "id": "9cb3d8c3",
   "metadata": {
    "scrolled": true
   },
   "outputs": [
    {
     "name": "stdout",
     "output_type": "stream",
     "text": [
      "입력 : 어디 있었어?\n",
      "출력 : 여행은 항상 좋죠\n"
     ]
    },
    {
     "data": {
      "text/plain": [
       "'여행은 항상 좋죠'"
      ]
     },
     "execution_count": 204,
     "metadata": {},
     "output_type": "execute_result"
    }
   ],
   "source": [
    "sentence_generation('어디 있었어?')"
   ]
  },
  {
   "cell_type": "code",
   "execution_count": 205,
   "id": "84093a1c",
   "metadata": {},
   "outputs": [
    {
     "name": "stdout",
     "output_type": "stream",
     "text": [
      "입력 : 완전 대박이네\n",
      "출력 : 말하는 이별은 말하세요\n"
     ]
    },
    {
     "data": {
      "text/plain": [
       "'말하는 이별은 말하세요'"
      ]
     },
     "execution_count": 205,
     "metadata": {},
     "output_type": "execute_result"
    }
   ],
   "source": [
    "sentence_generation(\"완전 대박이네\")"
   ]
  },
  {
   "cell_type": "code",
   "execution_count": 206,
   "id": "c782028c",
   "metadata": {},
   "outputs": [
    {
     "name": "stdout",
     "output_type": "stream",
     "text": [
      "입력 : 1지망 학교 떨어졌는데 3박 4일 놀러가도 될까?\n",
      "출력 : 그런 사람들이 도움이 생각하면 된답니다\n"
     ]
    },
    {
     "data": {
      "text/plain": [
       "'그런 사람들이 도움이 생각하면 된답니다'"
      ]
     },
     "execution_count": 206,
     "metadata": {},
     "output_type": "execute_result"
    }
   ],
   "source": [
    "sentence_generation(\"1지망 학교 떨어졌는데 3박 4일 놀러가도 될까?\")"
   ]
  },
  {
   "cell_type": "code",
   "execution_count": 207,
   "id": "c306ca11",
   "metadata": {},
   "outputs": [
    {
     "name": "stdout",
     "output_type": "stream",
     "text": [
      "입력 : 오늘 나 완전 기분 꿀꿀한데 저녁 뭐 먹을까\n",
      "출력 : 건강에 유의하세요\n"
     ]
    },
    {
     "data": {
      "text/plain": [
       "'건강에 유의하세요'"
      ]
     },
     "execution_count": 207,
     "metadata": {},
     "output_type": "execute_result"
    }
   ],
   "source": [
    "sentence_generation(\"오늘 나 완전 기분 꿀꿀한데 저녁 뭐 먹을까\")"
   ]
  },
  {
   "cell_type": "code",
   "execution_count": 208,
   "id": "e537f8fd",
   "metadata": {},
   "outputs": [
    {
     "name": "stdout",
     "output_type": "stream",
     "text": [
      "입력 : 오늘나완전기분꿀꿀한데저녁뭐먹을까\n",
      "출력 : 센스있는 사람으로 선택할 거예요\n"
     ]
    },
    {
     "data": {
      "text/plain": [
       "'센스있는 사람으로 선택할 거예요'"
      ]
     },
     "execution_count": 208,
     "metadata": {},
     "output_type": "execute_result"
    }
   ],
   "source": [
    "sentence_generation(\"오늘나완전기분꿀꿀한데저녁뭐먹을까\")"
   ]
  },
  {
   "cell_type": "code",
   "execution_count": 209,
   "id": "13d29d88",
   "metadata": {},
   "outputs": [
    {
     "name": "stdout",
     "output_type": "stream",
     "text": [
      "입력 : 오늘나완전기분꿀꿀\n",
      "출력 : 썸일 거예요\n"
     ]
    },
    {
     "data": {
      "text/plain": [
       "'썸일 거예요'"
      ]
     },
     "execution_count": 209,
     "metadata": {},
     "output_type": "execute_result"
    }
   ],
   "source": [
    "sentence_generation(\"오늘나완전기분꿀꿀\")"
   ]
  },
  {
   "cell_type": "code",
   "execution_count": 210,
   "id": "79e1e2b8",
   "metadata": {},
   "outputs": [
    {
     "name": "stdout",
     "output_type": "stream",
     "text": [
      "입력 : 오늘 나랑 밥 먹을래?\n",
      "출력 : 맛있는 것도 드세요\n"
     ]
    },
    {
     "data": {
      "text/plain": [
       "'맛있는 것도 드세요'"
      ]
     },
     "execution_count": 210,
     "metadata": {},
     "output_type": "execute_result"
    }
   ],
   "source": [
    "sentence_generation(\"오늘 나랑 밥 먹을래?\")"
   ]
  },
  {
   "cell_type": "code",
   "execution_count": 211,
   "id": "3341aab5",
   "metadata": {},
   "outputs": [
    {
     "name": "stdout",
     "output_type": "stream",
     "text": [
      "입력 : 오늘 나랑 lunch 먹을래?\n",
      "출력 : 후회하지 않을 거예요\n"
     ]
    },
    {
     "data": {
      "text/plain": [
       "'후회하지 않을 거예요'"
      ]
     },
     "execution_count": 211,
     "metadata": {},
     "output_type": "execute_result"
    }
   ],
   "source": [
    "sentence_generation(\"오늘 나랑 lunch 먹을래?\")"
   ]
  },
  {
   "cell_type": "code",
   "execution_count": 212,
   "id": "acf2ce95",
   "metadata": {},
   "outputs": [
    {
     "name": "stdout",
     "output_type": "stream",
     "text": [
      "입력 : 오늘 나랑 3 먹을래?\n",
      "출력 : 숨 쉴만 했으면 좋겠네요\n"
     ]
    },
    {
     "data": {
      "text/plain": [
       "'숨 쉴만 했으면 좋겠네요'"
      ]
     },
     "execution_count": 212,
     "metadata": {},
     "output_type": "execute_result"
    }
   ],
   "source": [
    "sentence_generation(\"오늘 나랑 3 먹을래?\")"
   ]
  },
  {
   "cell_type": "code",
   "execution_count": 213,
   "id": "ffed5ca7",
   "metadata": {
    "scrolled": true
   },
   "outputs": [
    {
     "name": "stdout",
     "output_type": "stream",
     "text": [
      "입력 : 오늘 나랑 PPL 갈래?\n",
      "출력 : 저는 좋아요\n"
     ]
    },
    {
     "data": {
      "text/plain": [
       "'저는 좋아요'"
      ]
     },
     "execution_count": 213,
     "metadata": {},
     "output_type": "execute_result"
    }
   ],
   "source": [
    "sentence_generation(\"오늘 나랑 PPL 갈래?\")"
   ]
  },
  {
   "cell_type": "code",
   "execution_count": 214,
   "id": "19ff9444",
   "metadata": {
    "scrolled": true
   },
   "outputs": [
    {
     "name": "stdout",
     "output_type": "stream",
     "text": [
      "입력 : 오늘 너 좀 예쁘네\n",
      "출력 : 그런 날이 올 거예요\n"
     ]
    },
    {
     "data": {
      "text/plain": [
       "'그런 날이 올 거예요'"
      ]
     },
     "execution_count": 214,
     "metadata": {},
     "output_type": "execute_result"
    }
   ],
   "source": [
    "sentence_generation(\"오늘 너 좀 예쁘네\")"
   ]
  },
  {
   "cell_type": "code",
   "execution_count": 215,
   "id": "187f7dd5",
   "metadata": {
    "scrolled": false
   },
   "outputs": [
    {
     "name": "stdout",
     "output_type": "stream",
     "text": [
      "입력 : 오늴 니 쫌 이쁘네\n",
      "출력 : 잘하고 있다고 믿어요\n"
     ]
    },
    {
     "data": {
      "text/plain": [
       "'잘하고 있다고 믿어요'"
      ]
     },
     "execution_count": 215,
     "metadata": {},
     "output_type": "execute_result"
    }
   ],
   "source": [
    "sentence_generation(\"오늴 니 쫌 이쁘네\")"
   ]
  },
  {
   "cell_type": "code",
   "execution_count": 216,
   "id": "8447fbcb",
   "metadata": {
    "scrolled": false
   },
   "outputs": [
    {
     "name": "stdout",
     "output_type": "stream",
     "text": [
      "입력 : 썸\n",
      "출력 : 연락 패턴을 살펴보세요\n"
     ]
    },
    {
     "data": {
      "text/plain": [
       "'연락 패턴을 살펴보세요'"
      ]
     },
     "execution_count": 216,
     "metadata": {},
     "output_type": "execute_result"
    }
   ],
   "source": [
    "sentence_generation(\"썸\")"
   ]
  },
  {
   "cell_type": "code",
   "execution_count": 218,
   "id": "c8971eb4",
   "metadata": {
    "scrolled": false
   },
   "outputs": [
    {
     "name": "stdout",
     "output_type": "stream",
     "text": [
      "입력 : 숨 쉴만 했으면 좋겠어\n",
      "출력 : 지금도 충분히 아름다워요\n"
     ]
    },
    {
     "data": {
      "text/plain": [
       "'지금도 충분히 아름다워요'"
      ]
     },
     "execution_count": 218,
     "metadata": {},
     "output_type": "execute_result"
    }
   ],
   "source": [
    "sentence_generation(\"숨 쉴만 했으면 좋겠어\")"
   ]
  }
 ],
 "metadata": {
  "kernelspec": {
   "display_name": "Python 3 (ipykernel)",
   "language": "python",
   "name": "python3"
  },
  "language_info": {
   "codemirror_mode": {
    "name": "ipython",
    "version": 3
   },
   "file_extension": ".py",
   "mimetype": "text/x-python",
   "name": "python",
   "nbconvert_exporter": "python",
   "pygments_lexer": "ipython3",
   "version": "3.9.7"
  }
 },
 "nbformat": 4,
 "nbformat_minor": 5
}
